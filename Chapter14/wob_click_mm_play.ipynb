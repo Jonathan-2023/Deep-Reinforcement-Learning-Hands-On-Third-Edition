{
 "cells": [
  {
   "cell_type": "code",
   "execution_count": null,
   "id": "75326ecb",
   "metadata": {},
   "outputs": [],
   "source": [
    "import argparse\n",
    "import gym\n",
    "import universe\n",
    "import numpy as np"
   ]
  },
  {
   "cell_type": "code",
   "execution_count": null,
   "id": "0b78a6d1",
   "metadata": {},
   "outputs": [],
   "source": [
    "import torch\n",
    "import torch.nn.functional as F"
   ]
  },
  {
   "cell_type": "code",
   "execution_count": null,
   "id": "321b0f9e",
   "metadata": {
    "lines_to_next_cell": 2
   },
   "outputs": [],
   "source": [
    "from lib import wob_vnc, model_vnc"
   ]
  },
  {
   "cell_type": "code",
   "execution_count": null,
   "id": "cdb44336",
   "metadata": {},
   "outputs": [],
   "source": [
    "ENV_NAME = \"wob.mini.ClickTab-v0\"\n",
    "REMOTE_ADDR = 'vnc://gpu:5910+15910'"
   ]
  },
  {
   "cell_type": "markdown",
   "id": "a1cfb9a8",
   "metadata": {
    "lines_to_next_cell": 2
   },
   "source": [
    "docker run -d -p 5910:5900 -p 15910:15900 --privileged --ipc host --cap-add SYS_ADMIN 92756d1f08ac"
   ]
  },
  {
   "cell_type": "code",
   "execution_count": null,
   "id": "59eee27c",
   "metadata": {},
   "outputs": [],
   "source": [
    "def step_env(env, action):\n",
    "    idle_count = 0\n",
    "    while True:\n",
    "        obs, reward, is_done, info = env.step([action])\n",
    "        if obs[0] is None:\n",
    "            idle_count += 1\n",
    "            continue\n",
    "        break\n",
    "    return obs[0], reward[0], is_done[0], info, idle_count"
   ]
  },
  {
   "cell_type": "code",
   "execution_count": null,
   "id": "9438bad0",
   "metadata": {},
   "outputs": [],
   "source": [
    "if __name__ == \"__main__\":\n",
    "    parser = argparse.ArgumentParser()\n",
    "    parser.add_argument(\"-m\", \"--model\", help=\"Model file to load\")\n",
    "    parser.add_argument(\"-n\", \"--name\", required=True, help=\"Prefix to save screenshots\")\n",
    "    parser.add_argument(\"--count\", type=int, default=1, help=\"Count of runs to play, default=1\")\n",
    "    parser.add_argument(\"--env\", default=ENV_NAME, help=\"Environment name to solve, default=\" + ENV_NAME)\n",
    "    args = parser.parse_args()\n",
    "\n",
    "    env_name = args.env\n",
    "    if not env_name.startswith('wob.mini.'):\n",
    "        env_name = \"wob.mini.\" + env_name\n",
    "\n",
    "    env = gym.make(env_name)\n",
    "    env = universe.wrappers.experimental.SoftmaxClickMouse(env)\n",
    "    env = wob_vnc.MiniWoBCropper(env, keep_text=True)\n",
    "    wob_vnc.configure(env, REMOTE_ADDR)\n",
    "\n",
    "    net = model_vnc.ModelMultimodal(input_shape=wob_vnc.WOB_SHAPE, n_actions=env.action_space.n)\n",
    "    if args.model:\n",
    "        net.load_state_dict(torch.load(args.model, map_location=torch.device('cpu'), weights_only=True))\n",
    "        preprocessor = model_vnc.MultimodalPreprocessor.load(args.model[:-4] + \".pre\")\n",
    "    else:\n",
    "        preprocessor = model_vnc.MultimodalPreprocessor()\n",
    "    env.reset()\n",
    "\n",
    "    for round_idx in range(args.count):\n",
    "        action = env.action_space.sample()\n",
    "        step_idx = 0\n",
    "        while True:\n",
    "            obs, reward, done, info, idle_count = step_env(env, action)\n",
    "            print(step_idx, reward, done, idle_count)\n",
    "            img_name = \"%s_r%02d_s%04d_%.3f_i%02d_d%d.png\" % (\n",
    "                args.name, round_idx, step_idx, reward, idle_count, int(done))\n",
    "            obs_v = preprocessor([obs])\n",
    "            logits_v = net(obs_v)[0]\n",
    "            policy = F.softmax(logits_v, dim=1).data.numpy()[0]\n",
    "            action = np.random.choice(len(policy), p=policy)\n",
    "            wob_vnc.save_obs(obs[0], img_name, action=action)\n",
    "            step_idx += 1\n",
    "            if done or reward != 0:\n",
    "                print(\"Round %d done\" % round_idx)\n",
    "                break\n",
    "    pass"
   ]
  }
 ],
 "metadata": {
  "jupytext": {
   "cell_metadata_filter": "-all",
   "executable": "/usr/bin/env python3",
   "main_language": "python",
   "notebook_metadata_filter": "-all"
  }
 },
 "nbformat": 4,
 "nbformat_minor": 5
}
