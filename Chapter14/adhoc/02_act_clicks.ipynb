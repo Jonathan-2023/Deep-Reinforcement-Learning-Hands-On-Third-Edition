{
 "cells": [
  {
   "cell_type": "code",
   "execution_count": null,
   "id": "2d4865f7",
   "metadata": {},
   "outputs": [],
   "source": [
    "import time"
   ]
  },
  {
   "cell_type": "code",
   "execution_count": null,
   "id": "d4200876",
   "metadata": {},
   "outputs": [],
   "source": [
    "import numpy as np\n",
    "import gymnasium\n",
    "import miniwob\n",
    "import typing as tt\n",
    "from miniwob.action import ActionTypes, ActionSpaceConfig"
   ]
  },
  {
   "cell_type": "code",
   "execution_count": null,
   "id": "65d0fb7d",
   "metadata": {},
   "outputs": [],
   "source": [
    "RENDER_ENV = True"
   ]
  },
  {
   "cell_type": "code",
   "execution_count": null,
   "id": "16117657",
   "metadata": {},
   "outputs": [],
   "source": [
    "BIN_DX = 10\n",
    "BIN_DY = 10\n",
    "SIZE_Y = 210\n",
    "SIZE_X = 160\n",
    "BINS_X = SIZE_X // BIN_DX\n",
    "BINS_Y = SIZE_Y // BIN_DY"
   ]
  },
  {
   "cell_type": "code",
   "execution_count": null,
   "id": "c262da7f",
   "metadata": {},
   "outputs": [],
   "source": []
  },
  {
   "cell_type": "code",
   "execution_count": null,
   "id": "e3630a54",
   "metadata": {},
   "outputs": [],
   "source": [
    "def close_bins(elems: tt.Tuple[dict, ...]) -> tt.Tuple[int, int]:\n",
    "    elem_ids = {e['ref']: e for e in elems}\n",
    "    close_elem = None\n",
    "    for e in elems:\n",
    "        if e['text'] == 'Close':\n",
    "            close_elem = e\n",
    "            break\n",
    "    # need to roll back while ref is negative\n",
    "    while close_elem['ref'] < 0:\n",
    "        close_elem = elem_ids[close_elem['parent']]\n",
    "    x = close_elem['left'][0] + close_elem['width'][0] / 2.0\n",
    "    y = close_elem['top'][0] + close_elem['height'][0] / 2.0\n",
    "    return x // BIN_DX, y // BIN_DY"
   ]
  },
  {
   "cell_type": "code",
   "execution_count": null,
   "id": "c7cbf1fb",
   "metadata": {},
   "outputs": [],
   "source": []
  },
  {
   "cell_type": "code",
   "execution_count": null,
   "id": "88962cde",
   "metadata": {},
   "outputs": [],
   "source": [
    "if __name__ == \"__main__\":\n",
    "    gymnasium.register_envs(miniwob)\n",
    "\n",
    "    act_cfg = ActionSpaceConfig(\n",
    "        action_types=(ActionTypes.CLICK_COORDS, ),\n",
    "        coord_bins=(BINS_X, BINS_Y),\n",
    "    )\n",
    "    env = gymnasium.make(\n",
    "        'miniwob/click-dialog-v1',\n",
    "        render_mode='human' if RENDER_ENV else None,\n",
    "        action_space_config=act_cfg,\n",
    "    )\n",
    "    print(env)\n",
    "    print(env.action_space)\n",
    "    try:\n",
    "        # Start a new episode.\n",
    "        obs, info = env.reset()\n",
    "        print(\"Obs keys:\", list(obs.keys()))\n",
    "        print(\"Info dict:\", info)\n",
    "        print(\"Screenshot shape:\", obs['screenshot'].shape)\n",
    "        coords = close_bins(obs['dom_elements'])\n",
    "\n",
    "        action = {\n",
    "            \"action_type\": 0,\n",
    "            \"coords\": np.array(coords, dtype=np.int8)\n",
    "        }\n",
    "        print(\"action\", action)\n",
    "        if RENDER_ENV:\n",
    "            time.sleep(3)\n",
    "        obs, reward, is_done, is_trunc, info = env.step(action)\n",
    "        print(reward, is_done, info)\n",
    "\n",
    "        # Brute force to check that our action is correct (comment step() call above)\n",
    "        if False:\n",
    "            is_done = False\n",
    "            for y in range(BINS_Y):\n",
    "                for x in range(BINS_X):\n",
    "                    action = {\n",
    "                        \"action_type\": 0,\n",
    "                        \"coords\": np.array((x, y), dtype=np.int8)\n",
    "                    }\n",
    "                    obs, reward, is_done, is_trunc, info = env.step(action)\n",
    "                    if is_done:\n",
    "                        print(\"Episode done:\", action)\n",
    "                        print(reward, is_done, info)\n",
    "                        break\n",
    "                if is_done:\n",
    "                    break\n",
    "        if RENDER_ENV:\n",
    "            input()\n",
    "    finally:\n",
    "        env.close()"
   ]
  }
 ],
 "metadata": {
  "jupytext": {
   "cell_metadata_filter": "-all",
   "executable": "/usr/bin/env python3",
   "main_language": "python",
   "notebook_metadata_filter": "-all"
  }
 },
 "nbformat": 4,
 "nbformat_minor": 5
}
