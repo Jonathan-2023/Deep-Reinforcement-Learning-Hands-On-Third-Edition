{
 "cells": [
  {
   "cell_type": "code",
   "execution_count": null,
   "id": "ccff2942",
   "metadata": {},
   "outputs": [],
   "source": [
    "import sys\n",
    "import time"
   ]
  },
  {
   "cell_type": "code",
   "execution_count": null,
   "id": "e74e5f9e",
   "metadata": {},
   "outputs": [],
   "source": [
    "sys.path.append(\".\")\n",
    "import typing as tt\n",
    "from lib import wob"
   ]
  },
  {
   "cell_type": "code",
   "execution_count": null,
   "id": "a77d8f02",
   "metadata": {},
   "outputs": [],
   "source": [
    "RENDER_ENV = True"
   ]
  },
  {
   "cell_type": "code",
   "execution_count": null,
   "id": "29d9ae84",
   "metadata": {
    "lines_to_next_cell": 1
   },
   "outputs": [],
   "source": [
    "def close_bins(elems: tt.Tuple[dict, ...]) -> int:\n",
    "    elem_ids = {e['ref']: e for e in elems}\n",
    "    close_elem = None\n",
    "    for e in elems:\n",
    "        if e['text'] == 'Close':\n",
    "            close_elem = e\n",
    "            break\n",
    "    # need to roll back while ref is negative\n",
    "    while close_elem['ref'] < 0:\n",
    "        close_elem = elem_ids[close_elem['parent']]\n",
    "    print(close_elem)\n",
    "    x = close_elem['left'][0] #+ close_elem['width'][0] / 2.0\n",
    "    y = close_elem['top'][0] #+ close_elem['height'][0] / 2.0\n",
    "    i = int(x // wob.BIN_SIZE)\n",
    "    j = int((y - wob.Y_OFS) // wob.BIN_SIZE) - 1\n",
    "    print(f\"found elem x={x}, y={y} -> i={i}, j={j} = {i} + {j*16}\")\n",
    "    return i + 16*j"
   ]
  },
  {
   "cell_type": "code",
   "execution_count": null,
   "id": "b037ace2",
   "metadata": {},
   "outputs": [],
   "source": [
    "if __name__ == \"__main__\":\n",
    "    env = wob.MiniWoBClickWrapper.create(\n",
    "        'miniwob/click-dialog-v1', keep_obs=True,\n",
    "        render_mode='human' if RENDER_ENV else None\n",
    "    )\n",
    "    print(env)\n",
    "    print(env.action_space)\n",
    "    print(env.observation_space)\n",
    "    try:\n",
    "        # Start a new episode.\n",
    "        obs, info = env.reset()\n",
    "        orig_obs = info.pop(wob.MiniWoBClickWrapper.FULL_OBS_KEY)\n",
    "        print(\"Obs shape:\", obs.shape)\n",
    "        print(\"Info dict:\", info)\n",
    "        action = close_bins(orig_obs['dom_elements'])\n",
    "        print(\"action\", action)\n",
    "\n",
    "        # switch between detected close action and brute force mode\n",
    "        if False:\n",
    "            obs, reward, is_done, is_trunc, info = env.step(action)\n",
    "            info.pop(wob.MiniWoBClickWrapper.FULL_OBS_KEY)\n",
    "            print(reward, is_done, info)\n",
    "        else:\n",
    "            is_done = False\n",
    "            for action in range(env.action_space.n):\n",
    "                time.sleep(0.001)\n",
    "                obs, reward, is_done, is_trunc, info = env.step(action)\n",
    "                info.pop(wob.MiniWoBClickWrapper.FULL_OBS_KEY)\n",
    "                print(action, \"=>\", reward, is_done, info)\n",
    "                if is_done:\n",
    "                    print(\"Episode done:\", action)\n",
    "                    break\n",
    "    finally:\n",
    "        env.close()"
   ]
  }
 ],
 "metadata": {
  "jupytext": {
   "cell_metadata_filter": "-all",
   "executable": "/usr/bin/env python3",
   "main_language": "python",
   "notebook_metadata_filter": "-all"
  }
 },
 "nbformat": 4,
 "nbformat_minor": 5
}
