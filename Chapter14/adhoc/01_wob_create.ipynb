{
 "cells": [
  {
   "cell_type": "code",
   "execution_count": null,
   "id": "8f900501",
   "metadata": {},
   "outputs": [],
   "source": [
    "import time\n",
    "import gymnasium as gym\n",
    "import miniwob\n",
    "from miniwob.action import ActionTypes"
   ]
  },
  {
   "cell_type": "code",
   "execution_count": null,
   "id": "a7f0a124",
   "metadata": {
    "lines_to_next_cell": 2
   },
   "outputs": [],
   "source": [
    "RENDER_ENV = False"
   ]
  },
  {
   "cell_type": "code",
   "execution_count": null,
   "id": "cdeed168",
   "metadata": {},
   "outputs": [],
   "source": [
    "if __name__ == \"__main__\":\n",
    "    gym.register_envs(miniwob)\n",
    "\n",
    "    env = gym.make('miniwob/click-test-2-v1', render_mode='human' if RENDER_ENV else None)\n",
    "    print(env)\n",
    "    try:\n",
    "        # Start a new episode.\n",
    "        obs, info = env.reset()\n",
    "        print(\"Obs keys:\", list(obs.keys()))\n",
    "        print(\"Info dict:\", info)\n",
    "        assert obs[\"utterance\"] == \"Click button ONE.\"\n",
    "        assert obs[\"fields\"] == ((\"target\", \"ONE\"),)\n",
    "        print(\"Screenshot shape:\", obs['screenshot'].shape)\n",
    "        if RENDER_ENV:\n",
    "            # to let you look at the environment.\n",
    "            time.sleep(2)\n",
    "\n",
    "        # Find the HTML element with text \"ONE\".\n",
    "        target_elems = [e for e in obs['dom_elements'] if e['text'] == \"ONE\"]\n",
    "        assert target_elems\n",
    "        print(\"Target elem:\", target_elems[0])\n",
    "\n",
    "        # Click on the element.\n",
    "        action = env.unwrapped.create_action(\n",
    "            ActionTypes.CLICK_ELEMENT, ref=target_elems[0][\"ref\"])\n",
    "        obs, reward, terminated, truncated, info = env.step(action)\n",
    "        print(reward, terminated, info)\n",
    "    finally:\n",
    "        env.close()"
   ]
  }
 ],
 "metadata": {
  "jupytext": {
   "cell_metadata_filter": "-all",
   "executable": "/usr/bin/env python3",
   "main_language": "python",
   "notebook_metadata_filter": "-all"
  }
 },
 "nbformat": 4,
 "nbformat_minor": 5
}
