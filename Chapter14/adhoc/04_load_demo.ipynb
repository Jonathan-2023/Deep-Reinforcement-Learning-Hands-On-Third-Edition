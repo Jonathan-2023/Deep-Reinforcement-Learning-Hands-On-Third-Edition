{
 "cells": [
  {
   "cell_type": "code",
   "execution_count": null,
   "id": "7c6660ab",
   "metadata": {},
   "outputs": [],
   "source": [
    "import sys\n",
    "sys.path.append(\".\")\n",
    "import argparse\n",
    "import pathlib"
   ]
  },
  {
   "cell_type": "code",
   "execution_count": null,
   "id": "1b7337c6",
   "metadata": {
    "lines_to_next_cell": 2
   },
   "outputs": [],
   "source": [
    "from lib import demos"
   ]
  },
  {
   "cell_type": "code",
   "execution_count": null,
   "id": "6f847f2e",
   "metadata": {},
   "outputs": [],
   "source": [
    "if __name__ == \"__main__\":\n",
    "    parser = argparse.ArgumentParser()\n",
    "    parser.add_argument(\"-s\", \"--save\", help=\"If given, save observations to this image prefix\")\n",
    "    parser.add_argument(\"-i\", \"--input\", help=\"Input file to parse\",\n",
    "                        default=\"demos/click-dialog/click-dialog_0421123844.json\")\n",
    "    args = parser.parse_args()\n",
    "    p = pathlib.Path(args.input)\n",
    "    res = demos.load_demo_file(p, gamma=0.99, steps=2)\n",
    "    for idx, e in enumerate(res):\n",
    "        print(f\"obs={e.state.shape}, act={e.action}, r={e.reward}, last={e.last_state is None}\")\n",
    "        if args.save is not None:\n",
    "            name = f\"{args.save}_{idx:04d}_a={e.action}.png\"\n",
    "            demos.save_obs_image(e.state, e.action, name)\n",
    "            print(\"Saved to\", name)"
   ]
  }
 ],
 "metadata": {
  "jupytext": {
   "cell_metadata_filter": "-all",
   "executable": "/usr/bin/env python3",
   "main_language": "python",
   "notebook_metadata_filter": "-all"
  }
 },
 "nbformat": 4,
 "nbformat_minor": 5
}
