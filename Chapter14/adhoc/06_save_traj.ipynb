{
 "cells": [
  {
   "cell_type": "code",
   "execution_count": null,
   "id": "55a5d88b",
   "metadata": {},
   "outputs": [],
   "source": [
    "\"\"\"\n",
    "Tool saves trajectories from several games using the given model\n",
    "\"\"\"\n",
    "import sys\n",
    "sys.path.append(\".\")\n",
    "import pathlib\n",
    "import argparse\n",
    "import torch\n",
    "import torch.nn.functional as F\n",
    "import numpy as np"
   ]
  },
  {
   "cell_type": "code",
   "execution_count": null,
   "id": "d8947804",
   "metadata": {},
   "outputs": [],
   "source": [
    "from lib import model, wob, demos"
   ]
  },
  {
   "cell_type": "code",
   "execution_count": null,
   "id": "b274e7d8",
   "metadata": {},
   "outputs": [],
   "source": [
    "ENV_NAME = 'miniwob/count-sides-v1'"
   ]
  },
  {
   "cell_type": "code",
   "execution_count": null,
   "id": "542a3e78",
   "metadata": {},
   "outputs": [],
   "source": [
    "if __name__ == \"__main__\":\n",
    "    parser = argparse.ArgumentParser()\n",
    "    parser.add_argument(\"-m\", \"--model\", required=True, help=\"Model file\")\n",
    "    parser.add_argument(\"-o\", \"--output\", required=True, help=\"Dir to save screenshots\")\n",
    "    args = parser.parse_args()\n",
    "\n",
    "    env = wob.MiniWoBClickWrapper.create(ENV_NAME)\n",
    "\n",
    "    net = model.Model(input_shape=wob.WOB_SHAPE, n_actions=env.action_space.n)\n",
    "    net.load_state_dict(torch.load(args.model, map_location=torch.device('cpu'), weights_only=True))\n",
    "    out_dir = pathlib.Path(args.output)\n",
    "    out_dir.mkdir(parents=True, exist_ok=True)\n",
    "\n",
    "    obs, info = env.reset()\n",
    "    step_idx = 0\n",
    "\n",
    "    while True:\n",
    "        obs_v = torch.tensor(np.expand_dims(obs, axis=0))\n",
    "        logits_v = net(obs_v)[0]\n",
    "        policy = F.softmax(logits_v, dim=1).data.numpy()[0]\n",
    "        action = np.random.choice(len(policy), p=policy)\n",
    "\n",
    "        new_obs, reward, done, is_tr, info = env.step(action)\n",
    "        print(f\"{step_idx}: act={action}, r={reward}, done={done}, tr={is_tr}: {info}\")\n",
    "\n",
    "        p = out_dir / f\"scr_{step_idx:03d}_act={action}_r={reward:.2f}_d={done:d}_tr={is_tr:d}.png\"\n",
    "        demos.save_obs_image(obs, action, str(p))\n",
    "        obs = new_obs\n",
    "        step_idx += 1\n",
    "        if is_tr or done:\n",
    "            break\n",
    "    p = out_dir / f\"scr_{step_idx:03d}.png\"\n",
    "    demos.save_obs_image(obs, action=None, file_name=str(p))\n",
    "\n",
    "    env.close()"
   ]
  }
 ],
 "metadata": {
  "jupytext": {
   "cell_metadata_filter": "-all",
   "executable": "/usr/bin/env python3",
   "main_language": "python",
   "notebook_metadata_filter": "-all"
  }
 },
 "nbformat": 4,
 "nbformat_minor": 5
}
