{
 "cells": [
  {
   "cell_type": "code",
   "execution_count": null,
   "id": "2c7cbe41",
   "metadata": {
    "lines_to_next_cell": 2
   },
   "outputs": [],
   "source": [
    "import sys\n",
    "sys.path.append(\".\")\n",
    "import argparse\n",
    "import pathlib\n",
    "import pickle\n",
    "import json\n",
    "from lib import demos"
   ]
  },
  {
   "cell_type": "code",
   "execution_count": null,
   "id": "4ab958a2",
   "metadata": {},
   "outputs": [],
   "source": [
    "if __name__ == \"__main__\":\n",
    "    parser = argparse.ArgumentParser()\n",
    "    parser.add_argument(\"--dat\", required=True, help=\"Data file in json format\")\n",
    "    parser.add_argument(\"--obs\", required=True, help=\"Observations in pickle format\")\n",
    "    parser.add_argument(\"--save\", default=False, action=\"store_true\", help=\"Save images from observations\")\n",
    "    args = parser.parse_args()\n",
    "\n",
    "    p = pathlib.Path(args.obs)\n",
    "    rel_obs = pickle.loads(p.read_bytes())\n",
    "    p = pathlib.Path(args.dat)\n",
    "    data = json.loads(p.read_text())\n",
    "\n",
    "    if args.save:\n",
    "        for k in sorted(rel_obs.keys()):\n",
    "            f = f\"{k:05d}.png\"\n",
    "            demos.save_obs_image(rel_obs[k]['screenshot'], action=None, file_name=f, transpose=False)\n",
    "    new_data = demos.join_obs(data, rel_obs)\n",
    "    pass"
   ]
  }
 ],
 "metadata": {
  "jupytext": {
   "cell_metadata_filter": "-all",
   "executable": "/usr/bin/env python3",
   "main_language": "python",
   "notebook_metadata_filter": "-all"
  }
 },
 "nbformat": 4,
 "nbformat_minor": 5
}
