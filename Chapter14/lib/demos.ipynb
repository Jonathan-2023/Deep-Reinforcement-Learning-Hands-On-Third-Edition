{
 "cells": [
  {
   "cell_type": "code",
   "execution_count": null,
   "id": "9e16c53d",
   "metadata": {},
   "outputs": [],
   "source": [
    "import io\n",
    "import copy\n",
    "import json\n",
    "import pathlib"
   ]
  },
  {
   "cell_type": "code",
   "execution_count": null,
   "id": "46b0929d",
   "metadata": {},
   "outputs": [],
   "source": [
    "import math\n",
    "import numpy as np\n",
    "import bisect\n",
    "import base64\n",
    "import typing as tt\n",
    "from PIL import Image, ImageDraw"
   ]
  },
  {
   "cell_type": "code",
   "execution_count": null,
   "id": "5d545bf0",
   "metadata": {},
   "outputs": [],
   "source": [
    "from ptan.experience import ExperienceFirstLast"
   ]
  },
  {
   "cell_type": "code",
   "execution_count": null,
   "id": "dabc6367",
   "metadata": {},
   "outputs": [],
   "source": [
    "from lib import wob"
   ]
  },
  {
   "cell_type": "code",
   "execution_count": null,
   "id": "f078fb44",
   "metadata": {},
   "outputs": [],
   "source": [
    "def encode_screenshot(data: np.ndarray) -> str:\n",
    "    fd = io.BytesIO()\n",
    "    np.savez_compressed(fd, data)\n",
    "    return base64.encodebytes(fd.getvalue()).decode()"
   ]
  },
  {
   "cell_type": "code",
   "execution_count": null,
   "id": "3b1d18f6",
   "metadata": {},
   "outputs": [],
   "source": [
    "def decode_screenshot(s_data: str) -> np.ndarray:\n",
    "    data = base64.decodebytes(s_data.encode())\n",
    "    fd = io.BytesIO(data)\n",
    "    return np.load(fd)['arr_0']"
   ]
  },
  {
   "cell_type": "code",
   "execution_count": null,
   "id": "b9efe487",
   "metadata": {},
   "outputs": [],
   "source": [
    "def join_obs(data: dict, delta_obs: tt.Dict[int, dict], ofs_ms: int = 100) -> dict:\n",
    "    \"\"\"\n",
    "    Join events data and recorded observations (with screenshots)\n",
    "    :param data: events obtained from the website\n",
    "    :param delta_obs: observations in form delta_ms -> obs_dict\n",
    "    :param ofs_ms: the gap to make before and after events to prevent weird observations\n",
    "    :return: events data with screenshots joined\n",
    "    \"\"\"\n",
    "    keys = list(sorted(delta_obs.keys()))\n",
    "    new_data = copy.deepcopy(data)\n",
    "    last_time: tt.Dict[tt.Tuple[str, int], int] = dict()\n",
    "    for idx, state in enumerate(new_data['states']):\n",
    "        if idx == 0:\n",
    "            # initial state always copied from the first entry\n",
    "            src_idx = 0\n",
    "        else:\n",
    "            evt_type = state['action']['type']\n",
    "            evt_timing = state['action']['timing']\n",
    "            cur_time = state['time']\n",
    "            last_time[(evt_type, evt_timing)] = cur_time\n",
    "            # for click event, we need to take screenshot before the mousedown event,\n",
    "            # because event of click is timed when mouse was released. So, on long clicks\n",
    "            # image is different\n",
    "            if evt_type == 'click' and evt_timing == 1:\n",
    "                cur_time = last_time.get(('mousedown', 1), cur_time)\n",
    "            # search for index in observations. Events before the action got on the left, after on the right\n",
    "            if evt_timing == 1:\n",
    "                src_idx = bisect.bisect_left(keys, cur_time - ofs_ms) - 1\n",
    "            else:\n",
    "                src_idx = bisect.bisect_left(keys, cur_time + ofs_ms)\n",
    "        if src_idx >= len(keys):\n",
    "            src_idx = len(keys)-1\n",
    "        src_key = keys[src_idx]\n",
    "        scr_np = delta_obs[src_key]['screenshot']\n",
    "        scr = encode_screenshot(scr_np)\n",
    "        state['screenshot'] = scr\n",
    "    return new_data"
   ]
  },
  {
   "cell_type": "code",
   "execution_count": null,
   "id": "6cb8f984",
   "metadata": {},
   "outputs": [],
   "source": [
    "def observations_to_delta(observations: tt.List[tt.Tuple[dict, int]]) -> tt.Dict[int, dict]:\n",
    "    \"\"\"\n",
    "    Convert pairs of observations with nanoseconds into relative miliseconds dict\n",
    "    :param observations: list of tuples (observation, nanosecond timestamp)\n",
    "    :return: dict with key of milisecond relative time and value of observation.\n",
    "    \"\"\"\n",
    "    delta_obs = {}\n",
    "    start_ts = None\n",
    "    for obs, ts_ns in observations:\n",
    "        if start_ts is None:\n",
    "            start_ts = ts_ns\n",
    "        delta_ms = math.trunc((ts_ns - start_ts) / 1_000_000)\n",
    "        delta_obs[int(delta_ms)] = obs\n",
    "    return delta_obs"
   ]
  },
  {
   "cell_type": "code",
   "execution_count": null,
   "id": "47ce3edd",
   "metadata": {},
   "outputs": [],
   "source": [
    "def load_demo_file(\n",
    "        file_path: pathlib.Path,\n",
    "        gamma: float,\n",
    "        steps: int,\n",
    "        keep_text: bool = False,\n",
    ") -> tt.List[ExperienceFirstLast]:\n",
    "    \"\"\"\n",
    "    Load human demonstration from file and generate experience items from it.\n",
    "    :param file_path: path of file to load\n",
    "    :param gamma: gamma value to calculate discounted reward\n",
    "    :param steps: count of steps to compute experience items\n",
    "    :param keep_text: keep text in observation (besides screenshot)\n",
    "    :return: list of experience items\n",
    "    \"\"\"\n",
    "    data = json.loads(file_path.read_text())\n",
    "\n",
    "    text = data['utterance']\n",
    "    hist = []\n",
    "    for state in data['states']:\n",
    "        action = state['action']\n",
    "        if action is None:\n",
    "            continue\n",
    "        # we need only states before the mouse click\n",
    "        if not (action['type'] == 'click' and action['timing'] == 1):\n",
    "            continue\n",
    "        scr = decode_screenshot(state['screenshot'])\n",
    "        scr = np.transpose(scr, (2, 0, 1))\n",
    "        obs = (scr, text) if keep_text else scr\n",
    "        act = wob.coord_to_action(action[\"x\"], action[\"y\"])\n",
    "        hist.append((obs, act))\n",
    "    result = []\n",
    "    last_obs = None\n",
    "    reward = data['reward']\n",
    "    for obs, act in reversed(hist):\n",
    "        result.append(ExperienceFirstLast(\n",
    "            state=obs,\n",
    "            action=act,\n",
    "            reward=reward,\n",
    "            last_state=last_obs\n",
    "        ))\n",
    "        reward *= gamma**steps\n",
    "        last_obs = obs\n",
    "    return result"
   ]
  },
  {
   "cell_type": "code",
   "execution_count": null,
   "id": "2083af29",
   "metadata": {},
   "outputs": [],
   "source": [
    "def load_demo_dir(\n",
    "        dir_name: str, gamma: float,\n",
    "        steps: int, keep_text: bool = False\n",
    ") -> tt.List[ExperienceFirstLast]:\n",
    "    \"\"\"\n",
    "    Load all the demo from given directory. They have to belong to the single environment.\n",
    "    :param dir_name: Directory to load\n",
    "    :return: list of experience items loaded\n",
    "    \"\"\"\n",
    "    res = []\n",
    "    env_names = set()\n",
    "    for file in pathlib.Path(dir_name).glob(\"*.json\"):\n",
    "        env_name = file.name.split(\"_\", maxsplit=1)[0]\n",
    "        env_names.add(env_name)\n",
    "        res.extend(load_demo_file(\n",
    "            file, gamma=gamma, steps=steps, keep_text=keep_text\n",
    "        ))\n",
    "    if len(env_names) > 1:\n",
    "        raise RuntimeError(f\"Directory {dir_name} contains more than one environment samples: {env_names}\")\n",
    "    return res"
   ]
  },
  {
   "cell_type": "code",
   "execution_count": null,
   "id": "0257cb5c",
   "metadata": {},
   "outputs": [],
   "source": [
    "def save_obs_image(data: np.ndarray, action: tt.Optional[int], file_name: str, transpose: bool = True):\n",
    "    if transpose:\n",
    "        data = np.transpose(data, (1, 2, 0))\n",
    "    img = Image.fromarray(data)\n",
    "    if action is not None:\n",
    "        draw = ImageDraw.Draw(img)\n",
    "        x, y = wob.action_to_coord(action)\n",
    "        draw.ellipse((x - 2, y - 2, x + 2, y + 2), (255, 0, 0, 128))\n",
    "    img.save(file_name)"
   ]
  }
 ],
 "metadata": {
  "jupytext": {
   "cell_metadata_filter": "-all",
   "main_language": "python",
   "notebook_metadata_filter": "-all"
  }
 },
 "nbformat": 4,
 "nbformat_minor": 5
}
