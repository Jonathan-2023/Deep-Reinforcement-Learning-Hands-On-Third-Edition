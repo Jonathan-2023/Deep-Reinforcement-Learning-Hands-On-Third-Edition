{
 "cells": [
  {
   "cell_type": "code",
   "execution_count": null,
   "id": "f57c56d6",
   "metadata": {},
   "outputs": [],
   "source": [
    "import time"
   ]
  },
  {
   "cell_type": "code",
   "execution_count": null,
   "id": "d6ca17d3",
   "metadata": {
    "lines_to_next_cell": 2
   },
   "outputs": [],
   "source": [
    "import gymnasium as gym\n",
    "from gymnasium import spaces\n",
    "import typing as tt\n",
    "import numpy as np\n",
    "import miniwob\n",
    "from miniwob.action import ActionTypes, ActionSpaceConfig"
   ]
  },
  {
   "cell_type": "code",
   "execution_count": null,
   "id": "45110dec",
   "metadata": {},
   "outputs": [],
   "source": [
    "# Constants for MiniWoB\n",
    "WIDTH = 160\n",
    "HEIGHT = 210\n",
    "Y_OFS = 50"
   ]
  },
  {
   "cell_type": "code",
   "execution_count": null,
   "id": "fb572131",
   "metadata": {},
   "outputs": [],
   "source": [
    "# default size of the clicking bin - square area we can click\n",
    "BIN_SIZE = 10"
   ]
  },
  {
   "cell_type": "code",
   "execution_count": null,
   "id": "b3ed2b83",
   "metadata": {},
   "outputs": [],
   "source": [
    "WOB_SHAPE = (3, HEIGHT, WIDTH)"
   ]
  },
  {
   "cell_type": "code",
   "execution_count": null,
   "id": "edae397c",
   "metadata": {},
   "outputs": [],
   "source": [
    "class MiniWoBClickWrapper(gym.ObservationWrapper):\n",
    "    \"\"\"\n",
    "    Converts MiniWoB environment into simple bucketed click environment:\n",
    "    * observations are stripped to image\n",
    "    * actions are reduced to bucketed click items of given size,\n",
    "    performing Y offset to get rid of instruction area\n",
    "    \"\"\"\n",
    "    FULL_OBS_KEY = \"full_obs\"\n",
    "\n",
    "    def __init__(self, env: gym.Env, keep_text: bool = False,\n",
    "                 keep_obs: bool = False, bin_size: int = BIN_SIZE):\n",
    "        super(MiniWoBClickWrapper, self).__init__(env)\n",
    "        self.bin_size = bin_size\n",
    "        self.keep_text = keep_text\n",
    "        self.keep_obs = keep_obs\n",
    "        img_space = spaces.Box(low=0, high=255, shape=WOB_SHAPE, dtype=np.uint8)\n",
    "        if keep_text:\n",
    "            self.observation_space = spaces.Tuple(\n",
    "                (img_space, spaces.Text(max_length=1024)))\n",
    "        else:\n",
    "            self.observation_space = img_space\n",
    "        self.x_bins = WIDTH // bin_size\n",
    "        count = self.x_bins * ((HEIGHT - Y_OFS) // bin_size)\n",
    "        self.action_space = spaces.Discrete(count)\n",
    "\n",
    "    @classmethod\n",
    "    def create(cls, env_name: str, bin_size: int = BIN_SIZE, keep_text: bool = False,\n",
    "               keep_obs: bool = False, **kwargs) -> \"MiniWoBClickWrapper\":\n",
    "        \"\"\"\n",
    "        Creates miniwob environment wrapped into the click wrapper\n",
    "        :param env_name: name of the environment\n",
    "        :param bin_size: size of the click bin\n",
    "        :param keep_text: preserves instruction in the observation\n",
    "        :param keep_obs: save original observation in info dict\n",
    "        :param kwargs: extra args to gym.make()\n",
    "        :return: environment\n",
    "        \"\"\"\n",
    "        gym.register_envs(miniwob)\n",
    "        x_bins = WIDTH // bin_size\n",
    "        y_bins = (HEIGHT - Y_OFS) // bin_size\n",
    "        act_cfg = ActionSpaceConfig(\n",
    "            action_types=(ActionTypes.CLICK_COORDS, ), coord_bins=(x_bins, y_bins))\n",
    "        env = gym.make(env_name, action_space_config=act_cfg, **kwargs)\n",
    "        return MiniWoBClickWrapper(\n",
    "            env, keep_text=keep_text, keep_obs=keep_obs, bin_size=bin_size)\n",
    "\n",
    "    def _observation(self, observation: dict) -> np.ndarray | tt.Tuple[np.ndarray, str]:\n",
    "        text = observation['utterance']\n",
    "        scr = observation['screenshot']\n",
    "        scr = np.transpose(scr, (2, 0, 1))\n",
    "        if self.keep_text:\n",
    "            return scr, text\n",
    "        return scr\n",
    "\n",
    "    def reset(self, *, seed: int | None = None, options: dict[str, tt.Any] | None = None) \\\n",
    "            -> tuple[gym.core.WrapperObsType, dict[str, tt.Any]]:\n",
    "        obs, info = self.env.reset(seed=seed, options=options)\n",
    "        if self.keep_obs:\n",
    "            info[self.FULL_OBS_KEY] = obs\n",
    "        return self._observation(obs), info\n",
    "\n",
    "    def step(self, action: int) -> tt.Tuple[\n",
    "        gym.core.WrapperObsType, gym.core.SupportsFloat, bool, bool, dict[str, tt.Any]\n",
    "    ]:\n",
    "        b_x, b_y = action_to_bins(action, self.bin_size)\n",
    "        # click to last two rows might cause MoveOutOfBounds exception\n",
    "        b_y = min(b_y, 13)\n",
    "        new_act = {\n",
    "            \"action_type\": 0,\n",
    "            \"coords\": np.array((b_x, b_y), dtype=np.int8),\n",
    "        }\n",
    "        obs, reward, is_done, is_tr, info = self.env.step(new_act)\n",
    "        if self.keep_obs:\n",
    "            info[self.FULL_OBS_KEY] = obs\n",
    "        return self._observation(obs), reward, is_done, is_tr, info"
   ]
  },
  {
   "cell_type": "code",
   "execution_count": null,
   "id": "6cef77e3",
   "metadata": {},
   "outputs": [],
   "source": [
    "def coord_to_action(x: int, y: int, bin_size: int = BIN_SIZE) -> int:\n",
    "    \"\"\"\n",
    "    Convert coordinate of click into binned action\n",
    "    :param x: x coordinate of click\n",
    "    :param y: y coordinate of click\n",
    "    :param bin_size: size of the bin\n",
    "    :return: action index\n",
    "    \"\"\"\n",
    "    y -= Y_OFS\n",
    "    y = max(y, 0)\n",
    "    y //= bin_size\n",
    "    x //= bin_size\n",
    "    return x + (WIDTH // bin_size) * y"
   ]
  },
  {
   "cell_type": "code",
   "execution_count": null,
   "id": "32607096",
   "metadata": {},
   "outputs": [],
   "source": [
    "def action_to_coord(action: int, bin_size: int = BIN_SIZE) -> tt.Tuple[int, int]:\n",
    "    \"\"\"\n",
    "    Convert click action to coords\n",
    "    :param action: action from 0 to 255 (for bin=10)\n",
    "    :param bin_size: size of the bins\n",
    "    :return: x, y of coordinates\n",
    "    \"\"\"\n",
    "    b_x, b_y = action_to_bins(action, bin_size)\n",
    "    d = bin_size // 2\n",
    "    return (b_x * bin_size) + d, Y_OFS + (b_y * bin_size) + d"
   ]
  },
  {
   "cell_type": "code",
   "execution_count": null,
   "id": "cc46c4c2",
   "metadata": {
    "lines_to_next_cell": 2
   },
   "outputs": [],
   "source": [
    "def action_to_bins(action: int, bin_size: int = BIN_SIZE) -> tt.Tuple[int, int]:\n",
    "    \"\"\"\n",
    "    Convert click action to coords\n",
    "    :param action: action from 0 to 255 (for bin=10)\n",
    "    :param bin_size: size of the bins\n",
    "    :return: x, y of coordinates\n",
    "    \"\"\"\n",
    "    row_bins = WIDTH // bin_size\n",
    "    b_y = action // row_bins\n",
    "    b_x = action % row_bins\n",
    "    return b_x, b_y"
   ]
  }
 ],
 "metadata": {
  "jupytext": {
   "cell_metadata_filter": "-all",
   "main_language": "python",
   "notebook_metadata_filter": "-all"
  }
 },
 "nbformat": 4,
 "nbformat_minor": 5
}
