{
 "cells": [
  {
   "cell_type": "code",
   "execution_count": null,
   "id": "486c4dea",
   "metadata": {
    "lines_to_next_cell": 2
   },
   "outputs": [],
   "source": [
    "from lib import *"
   ]
  },
  {
   "cell_type": "code",
   "execution_count": null,
   "id": "65daf8b2",
   "metadata": {},
   "outputs": [],
   "source": [
    "if __name__ == \"__main__\":\n",
    "    env = ToyEnv()\n",
    "    agent = DullAgent(action=1)\n",
    "    exp_source = ptan.experience.ExperienceSourceFirstLast(env, agent, gamma=1.0, steps_count=1)\n",
    "    buffer = ptan.experience.ExperienceReplayBuffer(exp_source, buffer_size=100)\n",
    "\n",
    "    for step in range(6):\n",
    "        buffer.populate(1)\n",
    "        # if buffer is small enough, do nothing\n",
    "        if len(buffer) < 5:\n",
    "            continue\n",
    "        batch = buffer.sample(4)\n",
    "        print(\"Train time, %d batch samples:\" % len(batch))\n",
    "        for s in batch:\n",
    "            print(s)"
   ]
  }
 ],
 "metadata": {
  "jupytext": {
   "cell_metadata_filter": "-all",
   "main_language": "python",
   "notebook_metadata_filter": "-all"
  }
 },
 "nbformat": 4,
 "nbformat_minor": 5
}
