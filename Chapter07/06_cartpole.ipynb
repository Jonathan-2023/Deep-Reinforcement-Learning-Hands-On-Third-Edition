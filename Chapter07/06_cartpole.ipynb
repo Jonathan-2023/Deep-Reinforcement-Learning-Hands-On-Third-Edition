{
 "cells": [
  {
   "cell_type": "code",
   "execution_count": null,
   "id": "47bc80ff",
   "metadata": {
    "lines_to_next_cell": 2
   },
   "outputs": [],
   "source": [
    "import gymnasium as gym\n",
    "from ptan.experience import ExperienceFirstLast, ExperienceSourceFirstLast\n",
    "import ptan\n",
    "import numpy as np\n",
    "import torch\n",
    "import torch.nn as nn\n",
    "import torch.optim as optim\n",
    "import torch.nn.functional as F\n",
    "import typing as tt"
   ]
  },
  {
   "cell_type": "code",
   "execution_count": null,
   "id": "e80f9369",
   "metadata": {},
   "outputs": [],
   "source": [
    "HIDDEN_SIZE = 128\n",
    "BATCH_SIZE = 16\n",
    "TGT_NET_SYNC = 10\n",
    "GAMMA = 0.9\n",
    "REPLAY_SIZE = 1000\n",
    "LR = 1e-3\n",
    "EPS_DECAY = 0.99"
   ]
  },
  {
   "cell_type": "code",
   "execution_count": null,
   "id": "8a4bfc35",
   "metadata": {},
   "outputs": [],
   "source": [
    "class Net(nn.Module):\n",
    "    def __init__(self, obs_size: int, hidden_size: int, n_actions: int):\n",
    "        super(Net, self).__init__()\n",
    "        self.net = nn.Sequential(\n",
    "            nn.Linear(obs_size, hidden_size),\n",
    "            nn.ReLU(),\n",
    "            nn.Linear(hidden_size, n_actions)\n",
    "        )\n",
    "\n",
    "    def forward(self, x):\n",
    "        return self.net(x.float())"
   ]
  },
  {
   "cell_type": "code",
   "execution_count": null,
   "id": "4f0adc82",
   "metadata": {},
   "outputs": [],
   "source": [
    "@torch.no_grad()\n",
    "def unpack_batch(batch: tt.List[ExperienceFirstLast], net: Net, gamma: float):\n",
    "    states = []\n",
    "    actions = []\n",
    "    rewards = []\n",
    "    done_masks = []\n",
    "    last_states = []\n",
    "    for exp in batch:\n",
    "        states.append(exp.state)\n",
    "        actions.append(exp.action)\n",
    "        rewards.append(exp.reward)\n",
    "        done_masks.append(exp.last_state is None)\n",
    "        if exp.last_state is None:\n",
    "            last_states.append(exp.state)\n",
    "        else:\n",
    "            last_states.append(exp.last_state)\n",
    "\n",
    "    states_v = torch.as_tensor(np.stack(states))\n",
    "    actions_v = torch.tensor(actions)\n",
    "    rewards_v = torch.tensor(rewards)\n",
    "    last_states_v = torch.as_tensor(np.stack(last_states))\n",
    "    last_state_q_v = net(last_states_v)\n",
    "    best_last_q_v = torch.max(last_state_q_v, dim=1)[0]\n",
    "    best_last_q_v[done_masks] = 0.0\n",
    "    return states_v, actions_v, best_last_q_v * gamma + rewards_v"
   ]
  },
  {
   "cell_type": "code",
   "execution_count": null,
   "id": "6c025923",
   "metadata": {},
   "outputs": [],
   "source": [
    "if __name__ == \"__main__\":\n",
    "    env = gym.make(\"CartPole-v1\")\n",
    "    obs_size = env.observation_space.shape[0]\n",
    "    n_actions = env.action_space.n\n",
    "\n",
    "    net = Net(obs_size, HIDDEN_SIZE, n_actions)\n",
    "    tgt_net = ptan.agent.TargetNet(net)\n",
    "    selector = ptan.actions.ArgmaxActionSelector()\n",
    "    selector = ptan.actions.EpsilonGreedyActionSelector(epsilon=1, selector=selector)\n",
    "    agent = ptan.agent.DQNAgent(net, selector)\n",
    "    exp_source = ptan.experience.ExperienceSourceFirstLast(env, agent, gamma=GAMMA)\n",
    "    buffer = ptan.experience.ExperienceReplayBuffer(exp_source, buffer_size=REPLAY_SIZE)\n",
    "    optimizer = optim.Adam(net.parameters(), LR)\n",
    "\n",
    "    step = 0\n",
    "    episode = 0\n",
    "    solved = False\n",
    "\n",
    "    while True:\n",
    "        step += 1\n",
    "        buffer.populate(1)\n",
    "\n",
    "        for reward, steps in exp_source.pop_rewards_steps():\n",
    "            episode += 1\n",
    "            print(f\"{step}: episode {episode} done, reward={reward:.2f}, \"\n",
    "                  f\"epsilon={selector.epsilon:.2f}\")\n",
    "            solved = reward > 150\n",
    "        if solved:\n",
    "            print(\"Whee!\")\n",
    "            break\n",
    "        if len(buffer) < 2*BATCH_SIZE:\n",
    "            continue\n",
    "        batch = buffer.sample(BATCH_SIZE)\n",
    "        states_v, actions_v, tgt_q_v = unpack_batch(batch, tgt_net.target_model, GAMMA)\n",
    "        optimizer.zero_grad()\n",
    "        q_v = net(states_v)\n",
    "        q_v = q_v.gather(1, actions_v.unsqueeze(-1)).squeeze(-1)\n",
    "        loss_v = F.mse_loss(q_v, tgt_q_v)\n",
    "        loss_v.backward()\n",
    "        optimizer.step()\n",
    "        selector.epsilon *= EPS_DECAY\n",
    "\n",
    "        if step % TGT_NET_SYNC == 0:\n",
    "            tgt_net.sync()"
   ]
  }
 ],
 "metadata": {
  "jupytext": {
   "cell_metadata_filter": "-all",
   "main_language": "python",
   "notebook_metadata_filter": "-all"
  }
 },
 "nbformat": 4,
 "nbformat_minor": 5
}
