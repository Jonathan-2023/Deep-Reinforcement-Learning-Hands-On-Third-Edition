{
 "cells": [
  {
   "cell_type": "code",
   "execution_count": null,
   "id": "b4bb8164",
   "metadata": {
    "lines_to_next_cell": 2
   },
   "outputs": [],
   "source": [
    "from lib import *"
   ]
  },
  {
   "cell_type": "code",
   "execution_count": null,
   "id": "c119ef8f",
   "metadata": {},
   "outputs": [],
   "source": [
    "if __name__ == \"__main__\":\n",
    "    env = ToyEnv()\n",
    "    s, _ = env.reset()\n",
    "    print(f\"env.reset() -> {s}\")\n",
    "    s = env.step(1)\n",
    "    print(f\"env.step(1) -> {s}\")\n",
    "    s = env.step(2)\n",
    "    print(f\"env.step(2) -> {s}\")\n",
    "\n",
    "    for _ in range(10):\n",
    "        r = env.step(0)\n",
    "        print(r)\n",
    "\n",
    "    agent = DullAgent(action=1)\n",
    "    print(\"agent:\", agent([1, 2])[0])\n",
    "\n",
    "    env = ToyEnv()\n",
    "    agent = DullAgent(action=1)\n",
    "    exp_source = ptan.experience.ExperienceSource(\n",
    "        env=env, agent=agent, steps_count=2)\n",
    "    for idx, exp in enumerate(exp_source):\n",
    "        if idx > 15:\n",
    "            break\n",
    "        print(exp)\n",
    "\n",
    "    exp_source = ptan.experience.ExperienceSource(\n",
    "        env=env, agent=agent, steps_count=4)\n",
    "    print(next(iter(exp_source)))\n",
    "\n",
    "    exp_source = ptan.experience.ExperienceSource(\n",
    "        env=[ToyEnv(), ToyEnv()], agent=agent, steps_count=2)\n",
    "    for idx, exp in enumerate(exp_source):\n",
    "        if idx > 4:\n",
    "            break\n",
    "        print(exp)\n",
    "\n",
    "    print(\"ExperienceSourceFirstLast\")\n",
    "    exp_source = ptan.experience.ExperienceSourceFirstLast(\n",
    "        env, agent, gamma=1.0, steps_count=1)\n",
    "    for idx, exp in enumerate(exp_source):\n",
    "        print(exp)\n",
    "        if idx > 10:\n",
    "            break"
   ]
  }
 ],
 "metadata": {
  "jupytext": {
   "cell_metadata_filter": "-all",
   "main_language": "python",
   "notebook_metadata_filter": "-all"
  }
 },
 "nbformat": 4,
 "nbformat_minor": 5
}
