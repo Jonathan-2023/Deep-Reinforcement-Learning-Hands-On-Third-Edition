{
 "cells": [
  {
   "cell_type": "code",
   "execution_count": null,
   "id": "dd9e1782",
   "metadata": {
    "lines_to_next_cell": 2
   },
   "outputs": [],
   "source": [
    "import ptan\n",
    "import numpy as np"
   ]
  },
  {
   "cell_type": "code",
   "execution_count": null,
   "id": "96092a97",
   "metadata": {},
   "outputs": [],
   "source": [
    "if __name__ == \"__main__\":\n",
    "    q_vals = np.array([[1, 2, 3], [1, -1, 0]])\n",
    "    print(\"q_vals\")\n",
    "    print(q_vals)\n",
    "\n",
    "    selector = ptan.actions.ArgmaxActionSelector()\n",
    "    print(\"argmax:\", selector(q_vals))\n",
    "\n",
    "    selector = ptan.actions.EpsilonGreedyActionSelector(epsilon=0.0)\n",
    "    print(\"epsilon=0.0:\", selector(q_vals))\n",
    "\n",
    "    selector.epsilon = 1.0\n",
    "    print(\"epsilon=1.0:\", selector(q_vals))\n",
    "\n",
    "    selector.epsilon = 0.5\n",
    "    print(\"epsilon=0.5:\", selector(q_vals))\n",
    "    selector.epsilon = 0.1\n",
    "    print(\"epsilon=0.1:\", selector(q_vals))\n",
    "\n",
    "    selector = ptan.actions.ProbabilityActionSelector()\n",
    "    print(\"Actions sampled from three prob distributions:\")\n",
    "    for _ in range(10):\n",
    "        acts = selector(np.array([\n",
    "            [0.1, 0.8, 0.1],\n",
    "            [0.0, 0.0, 1.0],\n",
    "            [0.5, 0.5, 0.0]\n",
    "        ]))\n",
    "        print(acts)"
   ]
  }
 ],
 "metadata": {
  "jupytext": {
   "cell_metadata_filter": "-all",
   "main_language": "python",
   "notebook_metadata_filter": "-all"
  }
 },
 "nbformat": 4,
 "nbformat_minor": 5
}
