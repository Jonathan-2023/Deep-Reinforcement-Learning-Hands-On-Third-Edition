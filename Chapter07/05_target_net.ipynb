{
 "cells": [
  {
   "cell_type": "code",
   "execution_count": null,
   "id": "7488dbcb",
   "metadata": {
    "lines_to_next_cell": 2
   },
   "outputs": [],
   "source": [
    "from lib import *"
   ]
  },
  {
   "cell_type": "code",
   "execution_count": null,
   "id": "deb8b2b9",
   "metadata": {},
   "outputs": [],
   "source": [
    "if __name__ == \"__main__\":\n",
    "    net = DQNNet()\n",
    "    print(net)\n",
    "    tgt_net = ptan.agent.TargetNet(net)\n",
    "    print(\"Main net:\", net.ff.weight)\n",
    "    print(\"Target net:\", tgt_net.target_model.ff.weight)\n",
    "    net.ff.weight.data += 1.0\n",
    "    print(\"After update\")\n",
    "    print(\"Main net:\", net.ff.weight)\n",
    "    print(\"Target net:\", tgt_net.target_model.ff.weight)\n",
    "    tgt_net.sync()\n",
    "    print(\"After sync\")\n",
    "    print(\"Main net:\", net.ff.weight)\n",
    "    print(\"Target net:\", tgt_net.target_model.ff.weight)"
   ]
  }
 ],
 "metadata": {
  "jupytext": {
   "cell_metadata_filter": "-all",
   "main_language": "python",
   "notebook_metadata_filter": "-all"
  }
 },
 "nbformat": 4,
 "nbformat_minor": 5
}
