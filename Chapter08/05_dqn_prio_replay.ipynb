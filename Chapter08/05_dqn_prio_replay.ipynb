{
 "cells": [
  {
   "cell_type": "code",
   "execution_count": null,
   "id": "18e23c05",
   "metadata": {},
   "outputs": [],
   "source": [
    "import gymnasium as gym\n",
    "import ptan\n",
    "from ptan.experience import ExperienceFirstLast"
   ]
  },
  {
   "cell_type": "code",
   "execution_count": null,
   "id": "a442d293",
   "metadata": {},
   "outputs": [],
   "source": [
    "import typing as tt\n",
    "from ray import tune"
   ]
  },
  {
   "cell_type": "code",
   "execution_count": null,
   "id": "7ba15802",
   "metadata": {},
   "outputs": [],
   "source": [
    "import torch\n",
    "from torch import nn\n",
    "from torch import optim\n",
    "import numpy as np"
   ]
  },
  {
   "cell_type": "code",
   "execution_count": null,
   "id": "8be37802",
   "metadata": {},
   "outputs": [],
   "source": [
    "from ignite.engine import Engine"
   ]
  },
  {
   "cell_type": "code",
   "execution_count": null,
   "id": "a5b3ebfd",
   "metadata": {},
   "outputs": [],
   "source": [
    "from lib import dqn_model, common, dqn_extra"
   ]
  },
  {
   "cell_type": "code",
   "execution_count": null,
   "id": "c8895258",
   "metadata": {
    "lines_to_next_cell": 2
   },
   "outputs": [],
   "source": [
    "NAME = \"05_prio_replay\"\n",
    "PRIO_REPLAY_ALPHA = 0.6"
   ]
  },
  {
   "cell_type": "code",
   "execution_count": null,
   "id": "f9572b05",
   "metadata": {},
   "outputs": [],
   "source": [
    "BEST_PONG = common.Hyperparams(\n",
    "    env_name=\"PongNoFrameskip-v4\",\n",
    "    stop_reward=18.0,\n",
    "    run_name=\"pong\",\n",
    "    replay_size=100_000,\n",
    "    replay_initial=10_000,\n",
    "    target_net_sync=1000,\n",
    "    epsilon_frames=100_000,\n",
    "    epsilon_final=0.02,\n",
    "    learning_rate=8.839010139505506e-05,\n",
    "    gamma=0.99,\n",
    "    episodes_to_solve=333,\n",
    ")"
   ]
  },
  {
   "cell_type": "code",
   "execution_count": null,
   "id": "63ec23b3",
   "metadata": {},
   "outputs": [],
   "source": [
    "def calc_loss(batch: tt.List[ExperienceFirstLast], batch_weights: np.ndarray,\n",
    "              net: nn.Module, tgt_net: nn.Module, gamma: float,\n",
    "              device: torch.device) -> tt.Tuple[torch.Tensor, np.ndarray]:\n",
    "    states, actions, rewards, dones, next_states = common.unpack_batch(batch)\n",
    "\n",
    "    states_v = torch.as_tensor(states).to(device)\n",
    "    actions_v = torch.tensor(actions).to(device)\n",
    "    rewards_v = torch.tensor(rewards).to(device)\n",
    "    done_mask = torch.BoolTensor(dones).to(device)\n",
    "    batch_weights_v = torch.tensor(batch_weights).to(device)\n",
    "\n",
    "    actions_v = actions_v.unsqueeze(-1)\n",
    "    state_action_vals = net(states_v).gather(1, actions_v)\n",
    "    state_action_vals = state_action_vals.squeeze(-1)\n",
    "    with torch.no_grad():\n",
    "        next_states_v = torch.as_tensor(next_states).to(device)\n",
    "        next_s_vals = tgt_net(next_states_v).max(1)[0]\n",
    "        next_s_vals[done_mask] = 0.0\n",
    "        exp_sa_vals = next_s_vals.detach() * gamma + rewards_v\n",
    "    l = (state_action_vals - exp_sa_vals) ** 2\n",
    "    losses_v = batch_weights_v * l\n",
    "    return losses_v.mean(), (losses_v + 1e-5).data.cpu().numpy()"
   ]
  },
  {
   "cell_type": "code",
   "execution_count": null,
   "id": "ac555695",
   "metadata": {},
   "outputs": [],
   "source": [
    "def train(params: common.Hyperparams,\n",
    "          device: torch.device, extra: dict) -> tt.Optional[int]:\n",
    "    alpha = extra[\"alpha\"]\n",
    "    env = gym.make(params.env_name)\n",
    "    env = ptan.common.wrappers.wrap_dqn(env)\n",
    "\n",
    "    net = dqn_model.DQN(env.observation_space.shape,\n",
    "                        env.action_space.n).to(device)\n",
    "\n",
    "    tgt_net = ptan.agent.TargetNet(net)\n",
    "    selector = ptan.actions.EpsilonGreedyActionSelector(\n",
    "        epsilon=params.epsilon_start)\n",
    "    epsilon_tracker = common.EpsilonTracker(selector, params)\n",
    "    agent = ptan.agent.DQNAgent(net, selector, device=device)\n",
    "\n",
    "    exp_source = ptan.experience.ExperienceSourceFirstLast(\n",
    "        env, agent, gamma=params.gamma, env_seed=common.SEED)\n",
    "    buffer = dqn_extra.PrioReplayBuffer(exp_source, params.replay_size, alpha)\n",
    "    optimizer = optim.Adam(net.parameters(),\n",
    "                           lr=params.learning_rate)\n",
    "\n",
    "    def process_batch(engine, batch_data):\n",
    "        batch, batch_indices, batch_weights = batch_data\n",
    "        optimizer.zero_grad()\n",
    "        loss_v, sample_prios = calc_loss(\n",
    "            batch, batch_weights, net, tgt_net.target_model,\n",
    "            gamma=params.gamma, device=device)\n",
    "        loss_v.backward()\n",
    "        optimizer.step()\n",
    "        buffer.update_priorities(batch_indices, sample_prios)\n",
    "        epsilon_tracker.frame(engine.state.iteration)\n",
    "        if engine.state.iteration % params.target_net_sync == 0:\n",
    "            tgt_net.sync()\n",
    "        return {\n",
    "            \"loss\": loss_v.item(),\n",
    "            \"epsilon\": selector.epsilon,\n",
    "            \"beta\": buffer.update_beta(engine.state.iteration),\n",
    "        }\n",
    "\n",
    "    engine = Engine(process_batch)\n",
    "    common.setup_ignite(engine, params, exp_source, NAME)\n",
    "    r = engine.run(common.batch_generator(buffer, params.replay_initial,\n",
    "                                          params.batch_size))\n",
    "    if r.solved:\n",
    "        return r.episode"
   ]
  },
  {
   "cell_type": "code",
   "execution_count": null,
   "id": "7fc66312",
   "metadata": {},
   "outputs": [],
   "source": [
    "if __name__ == \"__main__\":\n",
    "    args = common.argparser().parse_args()\n",
    "    common.train_or_tune(\n",
    "        args, train, BEST_PONG,\n",
    "        extra_params={\n",
    "            \"alpha\": PRIO_REPLAY_ALPHA,\n",
    "        },\n",
    "        extra_space={\n",
    "            \"alpha\": tune.choice([n / 10 for n in range(3, 10)]),\n",
    "        }\n",
    "    )"
   ]
  }
 ],
 "metadata": {
  "jupytext": {
   "cell_metadata_filter": "-all",
   "executable": "/usr/bin/env python3",
   "main_language": "python",
   "notebook_metadata_filter": "-all"
  }
 },
 "nbformat": 4,
 "nbformat_minor": 5
}
