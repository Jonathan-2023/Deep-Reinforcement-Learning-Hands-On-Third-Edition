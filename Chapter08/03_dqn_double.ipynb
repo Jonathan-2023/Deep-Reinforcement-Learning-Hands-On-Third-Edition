{
 "cells": [
  {
   "cell_type": "code",
   "execution_count": null,
   "id": "cde30be7",
   "metadata": {},
   "outputs": [],
   "source": [
    "import gymnasium as gym\n",
    "import ptan\n",
    "import argparse\n",
    "import random"
   ]
  },
  {
   "cell_type": "code",
   "execution_count": null,
   "id": "4f5c98ab",
   "metadata": {},
   "outputs": [],
   "source": [
    "import torch\n",
    "import torch.optim as optim\n",
    "from torch import nn\n",
    "import typing as tt\n",
    "import numpy as np"
   ]
  },
  {
   "cell_type": "code",
   "execution_count": null,
   "id": "0f27b59f",
   "metadata": {},
   "outputs": [],
   "source": [
    "from ignite.engine import Engine"
   ]
  },
  {
   "cell_type": "code",
   "execution_count": null,
   "id": "66f591fd",
   "metadata": {},
   "outputs": [],
   "source": [
    "from lib import dqn_model, common"
   ]
  },
  {
   "cell_type": "code",
   "execution_count": null,
   "id": "26e18637",
   "metadata": {
    "lines_to_next_cell": 2
   },
   "outputs": [],
   "source": [
    "NAME = \"03_double\"\n",
    "STATES_TO_EVALUATE = 1000\n",
    "EVAL_EVERY_FRAME = 100"
   ]
  },
  {
   "cell_type": "code",
   "execution_count": null,
   "id": "feee3390",
   "metadata": {},
   "outputs": [],
   "source": [
    "BEST_PONG = common.Hyperparams(\n",
    "    env_name=\"PongNoFrameskip-v4\",\n",
    "    stop_reward=18.0,\n",
    "    run_name=\"pong\",\n",
    "    replay_size=100_000,\n",
    "    replay_initial=10_000,\n",
    "    target_net_sync=1000,\n",
    "    epsilon_frames=100_000,\n",
    "    epsilon_final=0.02,\n",
    "    learning_rate=8.53462665602991e-05,\n",
    "    gamma=0.98,\n",
    "    episodes_to_solve=412,\n",
    ")"
   ]
  },
  {
   "cell_type": "code",
   "execution_count": null,
   "id": "a453c17b",
   "metadata": {},
   "outputs": [],
   "source": [
    "def calc_loss_double_dqn(\n",
    "        batch: tt.List[ptan.experience.ExperienceFirstLast],\n",
    "        net: nn.Module, tgt_net: nn.Module, gamma: float, device: torch.device):\n",
    "    states, actions, rewards, dones, next_states = common.unpack_batch(batch)\n",
    "\n",
    "    states_v = torch.as_tensor(states).to(device)\n",
    "    actions_v = torch.tensor(actions).to(device)\n",
    "    rewards_v = torch.tensor(rewards).to(device)\n",
    "    done_mask = torch.BoolTensor(dones).to(device)\n",
    "\n",
    "    actions_v = actions_v.unsqueeze(-1)\n",
    "    state_action_vals = net(states_v).gather(1, actions_v)\n",
    "    state_action_vals = state_action_vals.squeeze(-1)\n",
    "    with torch.no_grad():\n",
    "        next_states_v = torch.as_tensor(next_states).to(device)\n",
    "        next_state_acts = net(next_states_v).max(1)[1]\n",
    "        next_state_acts = next_state_acts.unsqueeze(-1)\n",
    "        next_state_vals = tgt_net(next_states_v).gather(1, next_state_acts).squeeze(-1)\n",
    "        next_state_vals[done_mask] = 0.0\n",
    "        exp_sa_vals = next_state_vals.detach() * gamma + rewards_v\n",
    "    return nn.MSELoss()(state_action_vals, exp_sa_vals)"
   ]
  },
  {
   "cell_type": "code",
   "execution_count": null,
   "id": "4bfdfc7c",
   "metadata": {},
   "outputs": [],
   "source": [
    "def train(params: common.Hyperparams,\n",
    "          device: torch.device, extra: dict) -> tt.Optional[int]:\n",
    "    env = gym.make(params.env_name)\n",
    "    env = ptan.common.wrappers.wrap_dqn(env)\n",
    "\n",
    "    net = dqn_model.DQN(env.observation_space.shape,\n",
    "                        env.action_space.n).to(device)\n",
    "\n",
    "    tgt_net = ptan.agent.TargetNet(net)\n",
    "    selector = ptan.actions.EpsilonGreedyActionSelector(\n",
    "        epsilon=params.epsilon_start)\n",
    "    epsilon_tracker = common.EpsilonTracker(selector, params)\n",
    "    agent = ptan.agent.DQNAgent(net, selector, device=device)\n",
    "\n",
    "    exp_source = ptan.experience.ExperienceSourceFirstLast(\n",
    "        env, agent, gamma=params.gamma, env_seed=common.SEED)\n",
    "    buffer = ptan.experience.ExperienceReplayBuffer(\n",
    "        exp_source, buffer_size=params.replay_size)\n",
    "    optimizer = optim.Adam(net.parameters(), lr=params.learning_rate)\n",
    "\n",
    "    def process_batch(engine, batch):\n",
    "        optimizer.zero_grad()\n",
    "        if args.double:\n",
    "            loss_v = calc_loss_double_dqn(\n",
    "                batch, net, tgt_net.target_model, gamma=params.gamma, device=device)\n",
    "        else:\n",
    "            loss_v = common.calc_loss_dqn(\n",
    "                batch, net, tgt_net.target_model, gamma=params.gamma, device=device)\n",
    "        loss_v.backward()\n",
    "        optimizer.step()\n",
    "        epsilon_tracker.frame(engine.state.iteration)\n",
    "        if engine.state.iteration % params.target_net_sync == 0:\n",
    "            tgt_net.sync()\n",
    "        if engine.state.iteration % EVAL_EVERY_FRAME == 0:\n",
    "            eval_states = getattr(engine.state, \"eval_states\", None)\n",
    "            if eval_states is None:\n",
    "                eval_states = buffer.sample(STATES_TO_EVALUATE)\n",
    "                eval_states = [\n",
    "                    np.asarray(transition.state)\n",
    "                    for transition in eval_states\n",
    "                ]\n",
    "                eval_states = np.asarray(eval_states)\n",
    "                engine.state.eval_states = eval_states\n",
    "            engine.state.metrics[\"values\"] = \\\n",
    "                common.calc_values_of_states(eval_states, net, device)\n",
    "        return {\n",
    "            \"loss\": loss_v.item(),\n",
    "            \"epsilon\": selector.epsilon,\n",
    "        }\n",
    "\n",
    "    engine = Engine(process_batch)\n",
    "    common.setup_ignite(\n",
    "        engine, params, exp_source,\n",
    "        f\"{NAME}={args.double}\", extra_metrics=('values',))\n",
    "    r = engine.run(common.batch_generator(\n",
    "        buffer, params.replay_initial,\n",
    "        params.batch_size))\n",
    "    if r.solved:\n",
    "        return r.episode"
   ]
  },
  {
   "cell_type": "code",
   "execution_count": null,
   "id": "9637f1e3",
   "metadata": {},
   "outputs": [],
   "source": [
    "if __name__ == \"__main__\":\n",
    "    parser = common.argparser()\n",
    "    parser.add_argument(\"--double\", default=False, action=\"store_true\",\n",
    "                        help = \"Enable double dqn, default=disabled\")\n",
    "    args = parser.parse_args()\n",
    "    common.train_or_tune(args, train, BEST_PONG)"
   ]
  }
 ],
 "metadata": {
  "jupytext": {
   "cell_metadata_filter": "-all",
   "executable": "/usr/bin/env python3",
   "main_language": "python",
   "notebook_metadata_filter": "-all"
  }
 },
 "nbformat": 4,
 "nbformat_minor": 5
}
