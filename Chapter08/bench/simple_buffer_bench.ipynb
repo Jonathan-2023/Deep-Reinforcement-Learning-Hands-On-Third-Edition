{
 "cells": [
  {
   "cell_type": "code",
   "execution_count": null,
   "id": "ff37296c",
   "metadata": {
    "lines_to_next_cell": 2
   },
   "outputs": [],
   "source": [
    "\"\"\"\n",
    "Benchmark various Replay Buffer variants\n",
    "\"\"\"\n",
    "import timeit\n",
    "import numpy as np\n",
    "import collections"
   ]
  },
  {
   "cell_type": "code",
   "execution_count": null,
   "id": "211a1f62",
   "metadata": {},
   "outputs": [],
   "source": [
    "SIZES = [10**n for n in (3, 4, 5)]\n",
    "DATA_SHAPE = (84, 84, 4)\n",
    "REPEAT_NUMBER = 10"
   ]
  },
  {
   "cell_type": "code",
   "execution_count": null,
   "id": "908c8cb1",
   "metadata": {},
   "outputs": [],
   "source": [
    "class ExperienceBufferDeque:\n",
    "    def __init__(self, capacity):\n",
    "        self.buffer = collections.deque(maxlen=capacity)\n",
    "\n",
    "    def __len__(self):\n",
    "        return len(self.buffer)\n",
    "\n",
    "    def append(self, experience):\n",
    "        self.buffer.append(experience)\n",
    "\n",
    "    def sample(self, batch_size):\n",
    "        indices = np.random.choice(len(self.buffer), batch_size, replace=True)\n",
    "        return [self.buffer[idx] for idx in indices]"
   ]
  },
  {
   "cell_type": "code",
   "execution_count": null,
   "id": "1679c701",
   "metadata": {},
   "outputs": [],
   "source": [
    "class ExperienceBufferCircularList:\n",
    "    def __init__(self, capacity):\n",
    "        self.buffer = list()\n",
    "        self.capacity = capacity\n",
    "        self.pos = 0\n",
    "\n",
    "    def __len__(self):\n",
    "        return len(self.buffer)\n",
    "\n",
    "    def append(self, experience):\n",
    "        if len(self.buffer) < self.capacity:\n",
    "            self.buffer.append(experience)\n",
    "        else:\n",
    "            self.buffer[self.pos] = experience\n",
    "            self.pos = (self.pos + 1) % self.capacity\n",
    "\n",
    "    def sample(self, batch_size):\n",
    "        indices = np.random.choice(len(self.buffer), batch_size, replace=True)\n",
    "        return [self.buffer[idx] for idx in indices]"
   ]
  },
  {
   "cell_type": "code",
   "execution_count": null,
   "id": "7b7fd8d6",
   "metadata": {},
   "outputs": [],
   "source": []
  },
  {
   "cell_type": "code",
   "execution_count": null,
   "id": "57cc491f",
   "metadata": {},
   "outputs": [],
   "source": [
    "def fill_buf(buf, size):\n",
    "    for _ in range(size):\n",
    "        buf.append(np.zeros(DATA_SHAPE, dtype=np.uint8))"
   ]
  },
  {
   "cell_type": "code",
   "execution_count": null,
   "id": "c3f8e2b1",
   "metadata": {},
   "outputs": [],
   "source": [
    "def bench_buffer(buf_class):\n",
    "    print(\"Benchmarking %s\" % buf_class.__name__)\n",
    "\n",
    "    for size in SIZES:\n",
    "        print(\"  Test size %d\" % size)\n",
    "        ns = globals()\n",
    "        ns.update(locals())\n",
    "        t = timeit.timeit('fill_buf(buf, size)', setup='buf = buf_class(size)', number=REPEAT_NUMBER, globals=ns)\n",
    "        print(\"  * Initial fill:\\t%.2f items/s\" % (size*REPEAT_NUMBER / t))\n",
    "        buf = buf_class(size)\n",
    "        fill_buf(buf, size)\n",
    "        ns.update(locals())\n",
    "        t = timeit.timeit('fill_buf(buf, size)', number=REPEAT_NUMBER, globals=ns)\n",
    "        print(\"  * Append:\\t\\t%.2f items/s\" % (size*REPEAT_NUMBER / t))\n",
    "        t = timeit.timeit('buf.sample(4)', number=REPEAT_NUMBER*100, globals=ns)\n",
    "        print(\"  * Sample 4:\\t\\t%.2f items/s\" % (REPEAT_NUMBER*100 / t))\n",
    "        t = timeit.timeit('buf.sample(8)', number=REPEAT_NUMBER*100, globals=ns)\n",
    "        print(\"  * Sample 8:\\t\\t%.2f items/s\" % (REPEAT_NUMBER*100 / t))\n",
    "        t = timeit.timeit('buf.sample(16)', number=REPEAT_NUMBER*100, globals=ns)\n",
    "        print(\"  * Sample 16:\\t\\t%.2f items/s\" % (REPEAT_NUMBER*100 / t))\n",
    "        t = timeit.timeit('buf.sample(32)', number=REPEAT_NUMBER*100, globals=ns)\n",
    "        print(\"  * Sample 32:\\t\\t%.2f items/s\" % (REPEAT_NUMBER*100 / t))"
   ]
  },
  {
   "cell_type": "code",
   "execution_count": null,
   "id": "bcca7352",
   "metadata": {},
   "outputs": [],
   "source": []
  },
  {
   "cell_type": "code",
   "execution_count": null,
   "id": "dae80e4c",
   "metadata": {},
   "outputs": [],
   "source": [
    "if __name__ == \"__main__\":\n",
    "    bench_buffer(ExperienceBufferCircularList)\n",
    "    bench_buffer(ExperienceBufferDeque)\n",
    "    pass"
   ]
  }
 ],
 "metadata": {
  "jupytext": {
   "cell_metadata_filter": "-all",
   "executable": "/usr/bin/env python3",
   "main_language": "python",
   "notebook_metadata_filter": "-all"
  }
 },
 "nbformat": 4,
 "nbformat_minor": 5
}
