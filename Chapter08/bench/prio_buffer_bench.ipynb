{
 "cells": [
  {
   "cell_type": "code",
   "execution_count": null,
   "id": "0d455c9a",
   "metadata": {},
   "outputs": [],
   "source": [
    "\"\"\"\n",
    "Benchmark various Priority Replay Buffer variants\n",
    "\"\"\"\n",
    "import timeit\n",
    "import numpy as np\n",
    "import collections"
   ]
  },
  {
   "cell_type": "code",
   "execution_count": null,
   "id": "f50477bd",
   "metadata": {},
   "outputs": [],
   "source": [
    "SIZES = [10**n for n in (3, 4, 5)]\n",
    "DATA_SHAPE = (84, 84, 4)\n",
    "REPEAT_NUMBER = 10"
   ]
  },
  {
   "cell_type": "code",
   "execution_count": null,
   "id": "57be185b",
   "metadata": {},
   "outputs": [],
   "source": [
    "class PrioReplayBufferDeque:\n",
    "    def __init__(self, buf_size, prob_alpha=0.6):\n",
    "        self.prob_alpha = prob_alpha\n",
    "        self.buffer = collections.deque(maxlen=buf_size)\n",
    "        self.priorities = collections.deque(maxlen=buf_size)\n",
    "\n",
    "    def __len__(self):\n",
    "        return len(self.buffer)\n",
    "\n",
    "    def append(self, sample):\n",
    "        max_prio = max(self.priorities) if self.priorities else 1.0\n",
    "        self.buffer.append(sample)\n",
    "        self.priorities.append(max_prio)\n",
    "\n",
    "    def sample(self, batch_size, beta=0.4):\n",
    "        probs = np.array(self.priorities, dtype=np.float32) ** self.prob_alpha\n",
    "        probs /= probs.sum()\n",
    "        indices = np.random.choice(len(self.buffer), batch_size, p=probs, replace=True)\n",
    "        samples = [self.buffer[idx] for idx in indices]\n",
    "        total = len(self.buffer)\n",
    "        weights = (total * probs[indices]) ** (-beta)\n",
    "        weights /= weights.max()\n",
    "        return samples, indices, weights\n",
    "\n",
    "    def update_priorities(self, batch_indices, batch_priorities):\n",
    "        for idx, prio in zip(batch_indices, batch_priorities):\n",
    "            self.priorities[idx] = prio"
   ]
  },
  {
   "cell_type": "code",
   "execution_count": null,
   "id": "599ff84c",
   "metadata": {},
   "outputs": [],
   "source": [
    "class PrioReplayBufferList:\n",
    "    def __init__(self, buf_size, prob_alpha=0.6):\n",
    "        self.prob_alpha = prob_alpha\n",
    "        self.capacity = buf_size\n",
    "        self.pos = 0\n",
    "        self.buffer = []\n",
    "        self.priorities = np.zeros((buf_size, ), dtype=np.float32)\n",
    "\n",
    "    def __len__(self):\n",
    "        return len(self.buffer)\n",
    "\n",
    "    def append(self, sample):\n",
    "        max_prio = self.priorities.max() if self.buffer else 1.0\n",
    "        if len(self.buffer) < self.capacity:\n",
    "            self.buffer.append(sample)\n",
    "        else:\n",
    "            self.buffer[self.pos] = sample\n",
    "        self.priorities[self.pos] = max_prio\n",
    "        self.pos = (self.pos + 1) % self.capacity\n",
    "\n",
    "    def sample(self, batch_size, beta=0.4):\n",
    "        if len(self.buffer) == self.capacity:\n",
    "            prios = self.priorities\n",
    "        else:\n",
    "            prios = self.priorities[:self.pos]\n",
    "        probs = np.array(prios, dtype=np.float32) ** self.prob_alpha\n",
    "\n",
    "        probs /= probs.sum()\n",
    "        indices = np.random.choice(len(self.buffer), batch_size, p=probs, replace=True)\n",
    "        samples = [self.buffer[idx] for idx in indices]\n",
    "        total = len(self.buffer)\n",
    "        weights = (total * probs[indices]) ** (-beta)\n",
    "        weights /= weights.max()\n",
    "        return samples, indices, weights\n",
    "\n",
    "    def update_priorities(self, batch_indices, batch_priorities):\n",
    "        for idx, prio in zip(batch_indices, batch_priorities):\n",
    "            self.priorities[idx] = prio"
   ]
  },
  {
   "cell_type": "code",
   "execution_count": null,
   "id": "fc3c32b2",
   "metadata": {},
   "outputs": [],
   "source": [
    "def fill_buf(buf, size):\n",
    "    for _ in range(size):\n",
    "        buf.append(np.zeros(DATA_SHAPE, dtype=np.uint8))"
   ]
  },
  {
   "cell_type": "code",
   "execution_count": null,
   "id": "5437ee12",
   "metadata": {},
   "outputs": [],
   "source": [
    "def bench_buffer(buf_class):\n",
    "    print(\"Benchmarking %s\" % buf_class.__name__)\n",
    "\n",
    "    for size in SIZES:\n",
    "        print(\"  Test size %d\" % size)\n",
    "        ns = globals()\n",
    "        ns.update(locals())\n",
    "        t = timeit.timeit('fill_buf(buf, size)', setup='buf = buf_class(size)', number=REPEAT_NUMBER, globals=ns)\n",
    "        print(\"  * Initial fill:\\t%.2f items/s\" % (size*REPEAT_NUMBER / t))\n",
    "        buf = buf_class(size)\n",
    "        fill_buf(buf, size)\n",
    "        ns.update(locals())\n",
    "        t = timeit.timeit('fill_buf(buf, size)', number=REPEAT_NUMBER, globals=ns)\n",
    "        print(\"  * Append:\\t\\t%.2f items/s\" % (size*REPEAT_NUMBER / t))\n",
    "        t = timeit.timeit('buf.sample(4)', number=REPEAT_NUMBER*100, globals=ns)\n",
    "        print(\"  * Sample 4:\\t\\t%.2f items/s\" % (REPEAT_NUMBER*100 / t))\n",
    "        t = timeit.timeit('buf.sample(8)', number=REPEAT_NUMBER*100, globals=ns)\n",
    "        print(\"  * Sample 8:\\t\\t%.2f items/s\" % (REPEAT_NUMBER*100 / t))\n",
    "        t = timeit.timeit('buf.sample(16)', number=REPEAT_NUMBER*100, globals=ns)\n",
    "        print(\"  * Sample 16:\\t\\t%.2f items/s\" % (REPEAT_NUMBER*100 / t))\n",
    "        t = timeit.timeit('buf.sample(32)', number=REPEAT_NUMBER*100, globals=ns)\n",
    "        print(\"  * Sample 32:\\t\\t%.2f items/s\" % (REPEAT_NUMBER*100 / t))"
   ]
  },
  {
   "cell_type": "code",
   "execution_count": null,
   "id": "1ee92419",
   "metadata": {},
   "outputs": [],
   "source": []
  },
  {
   "cell_type": "code",
   "execution_count": null,
   "id": "6250c0ee",
   "metadata": {},
   "outputs": [],
   "source": [
    "if __name__ == \"__main__\":\n",
    "    bench_buffer(PrioReplayBufferList)\n",
    "    bench_buffer(PrioReplayBufferDeque)\n",
    "    pass"
   ]
  }
 ],
 "metadata": {
  "jupytext": {
   "cell_metadata_filter": "-all",
   "executable": "/usr/bin/env python3",
   "main_language": "python",
   "notebook_metadata_filter": "-all"
  }
 },
 "nbformat": 4,
 "nbformat_minor": 5
}
