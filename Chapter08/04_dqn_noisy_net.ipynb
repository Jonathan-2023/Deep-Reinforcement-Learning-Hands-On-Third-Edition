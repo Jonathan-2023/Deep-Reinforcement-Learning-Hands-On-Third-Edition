{
 "cells": [
  {
   "cell_type": "code",
   "execution_count": null,
   "id": "5f971f7e",
   "metadata": {},
   "outputs": [],
   "source": [
    "import gymnasium as gym\n",
    "import ptan\n",
    "import typing as tt"
   ]
  },
  {
   "cell_type": "code",
   "execution_count": null,
   "id": "6acbdd6c",
   "metadata": {},
   "outputs": [],
   "source": [
    "import torch\n",
    "import torch.optim as optim"
   ]
  },
  {
   "cell_type": "code",
   "execution_count": null,
   "id": "5d48cddf",
   "metadata": {},
   "outputs": [],
   "source": [
    "from ignite.engine import Engine"
   ]
  },
  {
   "cell_type": "code",
   "execution_count": null,
   "id": "c9a0e2a3",
   "metadata": {},
   "outputs": [],
   "source": [
    "from lib import common, dqn_extra"
   ]
  },
  {
   "cell_type": "code",
   "execution_count": null,
   "id": "3b26e9ea",
   "metadata": {},
   "outputs": [],
   "source": [
    "NAME = \"04_noisy\"\n",
    "NOISY_SNR_EVERY_ITERS = 100"
   ]
  },
  {
   "cell_type": "code",
   "execution_count": null,
   "id": "2e07793c",
   "metadata": {},
   "outputs": [],
   "source": [
    "BEST_PONG = common.Hyperparams(\n",
    "    env_name=\"PongNoFrameskip-v4\",\n",
    "    stop_reward=18.0,\n",
    "    run_name=\"pong\",\n",
    "    replay_size=100_000,\n",
    "    replay_initial=10_000,\n",
    "    target_net_sync=1000,\n",
    "    epsilon_frames=100_000,\n",
    "    epsilon_final=0.02,\n",
    "    learning_rate=7.142520950425814e-05,\n",
    "    gamma=0.99,\n",
    "    episodes_to_solve=273,\n",
    ")"
   ]
  },
  {
   "cell_type": "code",
   "execution_count": null,
   "id": "84dc9bad",
   "metadata": {},
   "outputs": [],
   "source": []
  },
  {
   "cell_type": "code",
   "execution_count": null,
   "id": "012e9612",
   "metadata": {},
   "outputs": [],
   "source": [
    "def train(params: common.Hyperparams,\n",
    "          device: torch.device, extra: dict) -> tt.Optional[int]:\n",
    "    env = gym.make(params.env_name)\n",
    "    env = ptan.common.wrappers.wrap_dqn(env)\n",
    "\n",
    "    net = dqn_extra.NoisyDQN(\n",
    "        env.observation_space.shape,\n",
    "        env.action_space.n).to(device)\n",
    "\n",
    "    tgt_net = ptan.agent.TargetNet(net)\n",
    "    selector = ptan.actions.ArgmaxActionSelector()\n",
    "    agent = ptan.agent.DQNAgent(net, selector, device=device)\n",
    "\n",
    "    exp_source = ptan.experience.ExperienceSourceFirstLast(\n",
    "        env, agent, gamma=params.gamma, env_seed=common.SEED)\n",
    "    buffer = ptan.experience.ExperienceReplayBuffer(\n",
    "        exp_source, buffer_size=params.replay_size)\n",
    "    optimizer = optim.Adam(net.parameters(),\n",
    "                           lr=params.learning_rate)\n",
    "\n",
    "    def process_batch(engine, batch):\n",
    "        optimizer.zero_grad()\n",
    "        loss_v = common.calc_loss_dqn(\n",
    "            batch, net, tgt_net.target_model,\n",
    "            gamma=params.gamma, device=device)\n",
    "        loss_v.backward()\n",
    "        optimizer.step()\n",
    "        net.reset_noise()\n",
    "        if engine.state.iteration % params.target_net_sync == 0:\n",
    "            tgt_net.sync()\n",
    "        if engine.state.iteration % NOISY_SNR_EVERY_ITERS == 0:\n",
    "            for layer_idx, sigma_l2 in enumerate(net.noisy_layers_sigma_snr()):\n",
    "                engine.state.metrics[f'snr_{layer_idx+1}'] = sigma_l2\n",
    "        return {\n",
    "            \"loss\": loss_v.item(),\n",
    "        }\n",
    "\n",
    "    engine = Engine(process_batch)\n",
    "    common.setup_ignite(engine, params, exp_source, NAME, extra_metrics=('snr_1', 'snr_2'))\n",
    "    r = engine.run(common.batch_generator(buffer, params.replay_initial,\n",
    "                                          params.batch_size))\n",
    "    if r.solved:\n",
    "        return r.episode"
   ]
  },
  {
   "cell_type": "code",
   "execution_count": null,
   "id": "cf737d64",
   "metadata": {},
   "outputs": [],
   "source": [
    "if __name__ == \"__main__\":\n",
    "    args = common.argparser().parse_args()\n",
    "    common.train_or_tune(args, train, BEST_PONG)"
   ]
  }
 ],
 "metadata": {
  "jupytext": {
   "cell_metadata_filter": "-all",
   "executable": "/usr/bin/env python3",
   "main_language": "python",
   "notebook_metadata_filter": "-all"
  }
 },
 "nbformat": 4,
 "nbformat_minor": 5
}
