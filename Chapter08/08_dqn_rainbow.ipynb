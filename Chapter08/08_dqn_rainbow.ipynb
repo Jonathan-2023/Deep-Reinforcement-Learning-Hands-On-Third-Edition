{
 "cells": [
  {
   "cell_type": "code",
   "execution_count": null,
   "id": "99b8d303",
   "metadata": {},
   "outputs": [],
   "source": [
    "import gymnasium as gym\n",
    "import ptan\n",
    "from ptan.experience import ExperienceFirstLast\n",
    "import typing as tt\n",
    "import numpy as np"
   ]
  },
  {
   "cell_type": "code",
   "execution_count": null,
   "id": "ada6ef08",
   "metadata": {},
   "outputs": [],
   "source": [
    "import torch\n",
    "from torch import optim, nn"
   ]
  },
  {
   "cell_type": "code",
   "execution_count": null,
   "id": "71b64016",
   "metadata": {},
   "outputs": [],
   "source": [
    "from ignite.engine import Engine"
   ]
  },
  {
   "cell_type": "code",
   "execution_count": null,
   "id": "09104baa",
   "metadata": {},
   "outputs": [],
   "source": [
    "from lib import common, dqn_extra"
   ]
  },
  {
   "cell_type": "code",
   "execution_count": null,
   "id": "a6e3d73f",
   "metadata": {},
   "outputs": [],
   "source": [
    "NAME = \"08_rainbow\"\n",
    "N_STEPS = 3\n",
    "PRIO_REPLAY_ALPHA = 0.6"
   ]
  },
  {
   "cell_type": "code",
   "execution_count": null,
   "id": "fa53dcba",
   "metadata": {},
   "outputs": [],
   "source": [
    "BEST_PONG = common.Hyperparams(\n",
    "    env_name=\"PongNoFrameskip-v4\",\n",
    "    stop_reward=18.0,\n",
    "    run_name=\"pong\",\n",
    "    replay_size=100_000,\n",
    "    replay_initial=10_000,\n",
    "    target_net_sync=1000,\n",
    "    epsilon_frames=100_000,\n",
    "    epsilon_final=0.02,\n",
    "    learning_rate=8.085421018377671e-05,\n",
    "    gamma=0.98,\n",
    "    episodes_to_solve=215,\n",
    ")"
   ]
  },
  {
   "cell_type": "code",
   "execution_count": null,
   "id": "efd5756d",
   "metadata": {},
   "outputs": [],
   "source": [
    "def calc_loss(\n",
    "        batch: tt.List[ExperienceFirstLast],\n",
    "        batch_weights: np.ndarray, net: dqn_extra.RainbowDQN,\n",
    "        tgt_net: dqn_extra.RainbowDQN, gamma: float,\n",
    "        device: torch.device) -> tt.Tuple[torch.Tensor, np.ndarray]:\n",
    "    states, actions, rewards, dones, next_states = \\\n",
    "        common.unpack_batch(batch)\n",
    "\n",
    "    states_v = torch.tensor(states).to(device)\n",
    "    actions_v = torch.tensor(actions).to(device)\n",
    "    rewards_v = torch.tensor(rewards).to(device)\n",
    "    done_mask = torch.BoolTensor(dones).to(device)\n",
    "    batch_weights_v = torch.tensor(batch_weights).to(device)\n",
    "\n",
    "    state_action_values = net(states_v).gather(1, actions_v.unsqueeze(-1)).squeeze(-1)\n",
    "    with torch.no_grad():\n",
    "        next_states_v = torch.tensor(next_states).to(device)\n",
    "        next_state_values = tgt_net(next_states_v).max(1)[0]\n",
    "        next_state_values[done_mask] = 0.0\n",
    "        expected_state_action_values = next_state_values.detach() * gamma + rewards_v\n",
    "    losses_v = batch_weights_v * (state_action_values - expected_state_action_values) ** 2\n",
    "    return losses_v.mean(), (losses_v + 1e-5).data.cpu().numpy()"
   ]
  },
  {
   "cell_type": "code",
   "execution_count": null,
   "id": "81b1162a",
   "metadata": {},
   "outputs": [],
   "source": [
    "def train(params: common.Hyperparams,\n",
    "          device: torch.device, extra: dict) -> tt.Optional[int]:\n",
    "    alpha = extra['alpha']\n",
    "    n_steps = extra['n_steps']\n",
    "    env = gym.make(params.env_name)\n",
    "    env = ptan.common.wrappers.wrap_dqn(env)\n",
    "\n",
    "    net = dqn_extra.RainbowDQN(env.observation_space.shape,\n",
    "                        env.action_space.n).to(device)\n",
    "\n",
    "    tgt_net = ptan.agent.TargetNet(net)\n",
    "    selector = ptan.actions.ArgmaxActionSelector()\n",
    "    agent = ptan.agent.DQNAgent(net, selector, device=device)\n",
    "\n",
    "    exp_source = ptan.experience.ExperienceSourceFirstLast(\n",
    "        env, agent, gamma=params.gamma, steps_count=n_steps)\n",
    "    buffer = dqn_extra.PrioReplayBuffer(\n",
    "        exp_source, params.replay_size, alpha)\n",
    "    optimizer = optim.Adam(net.parameters(),\n",
    "                           lr=params.learning_rate)\n",
    "\n",
    "    def process_batch(engine, batch_data):\n",
    "        batch, batch_indices, batch_weights = batch_data\n",
    "        optimizer.zero_grad()\n",
    "        loss_v, sample_prios = calc_loss(\n",
    "            batch, batch_weights, net, tgt_net.target_model,\n",
    "            gamma=params.gamma**n_steps, device=device)\n",
    "        loss_v.backward()\n",
    "        optimizer.step()\n",
    "        net.reset_noise()\n",
    "        buffer.update_priorities(batch_indices, sample_prios)\n",
    "        if engine.state.iteration % params.target_net_sync == 0:\n",
    "            tgt_net.sync()\n",
    "        return {\n",
    "            \"loss\": loss_v.item(),\n",
    "            \"beta\": buffer.update_beta(engine.state.iteration),\n",
    "        }\n",
    "\n",
    "    engine = Engine(process_batch)\n",
    "    common.setup_ignite(engine, params, exp_source, NAME)\n",
    "    r = engine.run(common.batch_generator(\n",
    "        buffer, params.replay_initial,\n",
    "        params.batch_size))\n",
    "    if r.solved:\n",
    "        return r.episode"
   ]
  },
  {
   "cell_type": "code",
   "execution_count": null,
   "id": "daee66a9",
   "metadata": {},
   "outputs": [],
   "source": [
    "if __name__ == \"__main__\":\n",
    "    args = common.argparser().parse_args()\n",
    "    common.train_or_tune(\n",
    "        args, train, BEST_PONG,\n",
    "        extra_params={\n",
    "            \"alpha\": PRIO_REPLAY_ALPHA,\n",
    "            \"n_steps\": N_STEPS,\n",
    "        },\n",
    "        extra_space={\n",
    "            \"alpha\": PRIO_REPLAY_ALPHA,\n",
    "            \"n_steps\": N_STEPS,\n",
    "        }\n",
    "    )"
   ]
  },
  {
   "cell_type": "code",
   "execution_count": null,
   "id": "a3e82cff",
   "metadata": {},
   "outputs": [],
   "source": []
  }
 ],
 "metadata": {
  "jupytext": {
   "cell_metadata_filter": "-all",
   "executable": "/usr/bin/env python3",
   "main_language": "python",
   "notebook_metadata_filter": "-all"
  }
 },
 "nbformat": 4,
 "nbformat_minor": 5
}
