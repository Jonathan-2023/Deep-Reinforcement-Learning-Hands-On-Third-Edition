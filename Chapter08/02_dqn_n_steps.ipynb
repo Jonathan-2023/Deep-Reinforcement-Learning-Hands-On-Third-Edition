{
 "cells": [
  {
   "cell_type": "code",
   "execution_count": null,
   "id": "17d66d12",
   "metadata": {},
   "outputs": [],
   "source": [
    "import gymnasium as gym\n",
    "import ptan\n",
    "import typing as tt"
   ]
  },
  {
   "cell_type": "code",
   "execution_count": null,
   "id": "c360c661",
   "metadata": {},
   "outputs": [],
   "source": [
    "import torch\n",
    "import torch.optim as optim"
   ]
  },
  {
   "cell_type": "code",
   "execution_count": null,
   "id": "da066cd7",
   "metadata": {},
   "outputs": [],
   "source": [
    "from ignite.engine import Engine"
   ]
  },
  {
   "cell_type": "code",
   "execution_count": null,
   "id": "cdcff728",
   "metadata": {},
   "outputs": [],
   "source": [
    "from lib import dqn_model, common"
   ]
  },
  {
   "cell_type": "code",
   "execution_count": null,
   "id": "724309d2",
   "metadata": {},
   "outputs": [],
   "source": [
    "NAME = \"02_n_steps\"\n",
    "DEFAULT_STEPS = 3"
   ]
  },
  {
   "cell_type": "code",
   "execution_count": null,
   "id": "473f4006",
   "metadata": {},
   "outputs": [],
   "source": [
    "BEST_PONG: tt.Dict[int, common.Hyperparams] = {\n",
    "    2: common.Hyperparams(\n",
    "        env_name=\"PongNoFrameskip-v4\",\n",
    "        stop_reward=18.0,\n",
    "        run_name=\"pong\",\n",
    "        replay_size=100_000,\n",
    "        replay_initial=10_000,\n",
    "        target_net_sync=1000,\n",
    "        epsilon_frames=100_000,\n",
    "        epsilon_final=0.02,\n",
    "        learning_rate=3.9688475460127145e-05,\n",
    "        gamma=0.98,\n",
    "        episodes_to_solve=293,\n",
    "    ),\n",
    "    3: common.Hyperparams(\n",
    "        env_name=\"PongNoFrameskip-v4\",\n",
    "        stop_reward=18.0,\n",
    "        run_name=\"pong\",\n",
    "        replay_size=100_000,\n",
    "        replay_initial=10_000,\n",
    "        target_net_sync=1000,\n",
    "        epsilon_frames=100_000,\n",
    "        epsilon_final=0.02,\n",
    "        learning_rate=7.82368506822844e-05,\n",
    "        gamma=0.98,\n",
    "        episodes_to_solve=260,\n",
    "    ),\n",
    "    4: common.Hyperparams(\n",
    "        env_name=\"PongNoFrameskip-v4\",\n",
    "        stop_reward=18.0,\n",
    "        run_name=\"pong\",\n",
    "        replay_size=100_000,\n",
    "        replay_initial=10_000,\n",
    "        target_net_sync=1000,\n",
    "        epsilon_frames=100_000,\n",
    "        epsilon_final=0.02,\n",
    "        learning_rate=6.0739390947756206e-05,\n",
    "        gamma=0.98,\n",
    "        episodes_to_solve=290,\n",
    "    ),\n",
    "}"
   ]
  },
  {
   "cell_type": "code",
   "execution_count": null,
   "id": "a2b0c8fb",
   "metadata": {},
   "outputs": [],
   "source": [
    "def train(params: common.Hyperparams,\n",
    "          device: torch.device, extra: dict) -> tt.Optional[int]:\n",
    "    n_steps = extra[\"n\"]\n",
    "\n",
    "    env = gym.make(params.env_name)\n",
    "    env = ptan.common.wrappers.wrap_dqn(env)\n",
    "\n",
    "    net = dqn_model.DQN(env.observation_space.shape,\n",
    "                        env.action_space.n).to(device)\n",
    "\n",
    "    tgt_net = ptan.agent.TargetNet(net)\n",
    "    selector = ptan.actions.EpsilonGreedyActionSelector(\n",
    "        epsilon=params.epsilon_start)\n",
    "    epsilon_tracker = common.EpsilonTracker(selector, params)\n",
    "    agent = ptan.agent.DQNAgent(net, selector, device=device)\n",
    "\n",
    "    exp_source = ptan.experience.ExperienceSourceFirstLast(\n",
    "        env, agent, gamma=params.gamma, env_seed=common.SEED,\n",
    "        steps_count=n_steps\n",
    "    )\n",
    "    buffer = ptan.experience.ExperienceReplayBuffer(\n",
    "        exp_source, buffer_size=params.replay_size)\n",
    "    optimizer = optim.Adam(net.parameters(), lr=params.learning_rate)\n",
    "\n",
    "    def process_batch(engine, batch):\n",
    "        optimizer.zero_grad()\n",
    "        loss_v = common.calc_loss_dqn(\n",
    "            batch, net, tgt_net.target_model,\n",
    "            gamma=params.gamma**n_steps, device=device)\n",
    "        loss_v.backward()\n",
    "        optimizer.step()\n",
    "        epsilon_tracker.frame(engine.state.iteration)\n",
    "        if engine.state.iteration % params.target_net_sync == 0:\n",
    "            tgt_net.sync()\n",
    "        return {\n",
    "            \"loss\": loss_v.item(),\n",
    "            \"epsilon\": selector.epsilon,\n",
    "        }\n",
    "\n",
    "    engine = Engine(process_batch)\n",
    "    common.setup_ignite(engine, params, exp_source,\n",
    "                        f\"{NAME}={n_steps}\")\n",
    "    r = engine.run(\n",
    "        common.batch_generator(buffer, params.replay_initial,\n",
    "                               params.batch_size)\n",
    "    )\n",
    "    if r.solved:\n",
    "        return r.episode"
   ]
  },
  {
   "cell_type": "code",
   "execution_count": null,
   "id": "0eb5d252",
   "metadata": {},
   "outputs": [],
   "source": [
    "if __name__ == \"__main__\":\n",
    "    parser = common.argparser()\n",
    "    parser.add_argument(\n",
    "        \"-n\", type=int, default=DEFAULT_STEPS,\n",
    "        help=\"Steps count on Bellman unroll\")\n",
    "    args = parser.parse_args()\n",
    "\n",
    "    common.train_or_tune(\n",
    "        args,\n",
    "        train,\n",
    "        best_params=BEST_PONG[args.n],\n",
    "        extra_params={\"n\": args.n},\n",
    "        extra_space={\"n\": args.n},\n",
    "    )"
   ]
  }
 ],
 "metadata": {
  "jupytext": {
   "cell_metadata_filter": "-all",
   "executable": "/usr/bin/env python3",
   "main_language": "python",
   "notebook_metadata_filter": "-all"
  }
 },
 "nbformat": 4,
 "nbformat_minor": 5
}
