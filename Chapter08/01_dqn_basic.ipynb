{
 "cells": [
  {
   "cell_type": "code",
   "execution_count": null,
   "id": "c0a052db",
   "metadata": {},
   "outputs": [],
   "source": [
    "import gymnasium as gym\n",
    "import ptan\n",
    "import typing as tt"
   ]
  },
  {
   "cell_type": "code",
   "execution_count": null,
   "id": "f2688875",
   "metadata": {},
   "outputs": [],
   "source": [
    "import torch\n",
    "import torch.optim as optim"
   ]
  },
  {
   "cell_type": "code",
   "execution_count": null,
   "id": "de7c6f15",
   "metadata": {},
   "outputs": [],
   "source": [
    "from ignite.engine import Engine"
   ]
  },
  {
   "cell_type": "code",
   "execution_count": null,
   "id": "2e98ceef",
   "metadata": {},
   "outputs": [],
   "source": [
    "from lib import dqn_model, common"
   ]
  },
  {
   "cell_type": "code",
   "execution_count": null,
   "id": "6cdfd101",
   "metadata": {},
   "outputs": [],
   "source": [
    "NAME = \"01_baseline\""
   ]
  },
  {
   "cell_type": "code",
   "execution_count": null,
   "id": "abbdeaa5",
   "metadata": {},
   "outputs": [],
   "source": [
    "BEST_PONG = common.Hyperparams(\n",
    "    env_name=\"PongNoFrameskip-v4\",\n",
    "    stop_reward=18.0,\n",
    "    run_name=\"pong\",\n",
    "    replay_size=100_000,\n",
    "    replay_initial=10_000,\n",
    "    target_net_sync=1000,\n",
    "    epsilon_frames=100_000,\n",
    "    epsilon_final=0.02,\n",
    "    learning_rate=9.932831968547505e-05,\n",
    "    gamma=0.98,\n",
    "    episodes_to_solve=340,\n",
    ")"
   ]
  },
  {
   "cell_type": "code",
   "execution_count": null,
   "id": "ada834a8",
   "metadata": {},
   "outputs": [],
   "source": [
    "def train(params: common.Hyperparams,\n",
    "          device: torch.device, _: dict) -> tt.Optional[int]:\n",
    "    env = gym.make(params.env_name)\n",
    "    env = ptan.common.wrappers.wrap_dqn(env)\n",
    "\n",
    "    net = dqn_model.DQN(env.observation_space.shape, env.action_space.n).to(device)\n",
    "    tgt_net = ptan.agent.TargetNet(net)\n",
    "    selector = ptan.actions.EpsilonGreedyActionSelector(epsilon=params.epsilon_start)\n",
    "    epsilon_tracker = common.EpsilonTracker(selector, params)\n",
    "    agent = ptan.agent.DQNAgent(net, selector, device=device)\n",
    "\n",
    "    exp_source = ptan.experience.ExperienceSourceFirstLast(\n",
    "        env, agent, gamma=params.gamma, env_seed=common.SEED)\n",
    "    buffer = ptan.experience.ExperienceReplayBuffer(\n",
    "        exp_source, buffer_size=params.replay_size)\n",
    "    optimizer = optim.Adam(net.parameters(), lr=params.learning_rate)\n",
    "\n",
    "    def process_batch(engine, batch):\n",
    "        optimizer.zero_grad()\n",
    "        loss_v = common.calc_loss_dqn(batch, net, tgt_net.target_model,\n",
    "                                      gamma=params.gamma, device=device)\n",
    "        loss_v.backward()\n",
    "        optimizer.step()\n",
    "        epsilon_tracker.frame(engine.state.iteration)\n",
    "        if engine.state.iteration % params.target_net_sync == 0:\n",
    "            tgt_net.sync()\n",
    "        return {\n",
    "            \"loss\": loss_v.item(),\n",
    "            \"epsilon\": selector.epsilon,\n",
    "        }\n",
    "\n",
    "    engine = Engine(process_batch)\n",
    "    common.setup_ignite(engine, params, exp_source, NAME)\n",
    "    r = engine.run(common.batch_generator(buffer, params.replay_initial, params.batch_size))\n",
    "    if r.solved:\n",
    "        return r.episode"
   ]
  },
  {
   "cell_type": "code",
   "execution_count": null,
   "id": "96602e87",
   "metadata": {},
   "outputs": [],
   "source": [
    "if __name__ == \"__main__\":\n",
    "    args = common.argparser().parse_args()\n",
    "    common.train_or_tune(args, train, BEST_PONG)"
   ]
  }
 ],
 "metadata": {
  "jupytext": {
   "cell_metadata_filter": "-all",
   "executable": "/usr/bin/env python3",
   "main_language": "python",
   "notebook_metadata_filter": "-all"
  }
 },
 "nbformat": 4,
 "nbformat_minor": 5
}
