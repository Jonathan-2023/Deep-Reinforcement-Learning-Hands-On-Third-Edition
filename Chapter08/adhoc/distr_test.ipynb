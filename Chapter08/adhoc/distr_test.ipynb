{
 "cells": [
  {
   "cell_type": "code",
   "execution_count": null,
   "id": "792fb6e6",
   "metadata": {},
   "outputs": [],
   "source": [
    "import sys\n",
    "import numpy as np"
   ]
  },
  {
   "cell_type": "code",
   "execution_count": null,
   "id": "c41d9605",
   "metadata": {},
   "outputs": [],
   "source": [
    "import lib.dqn_extra"
   ]
  },
  {
   "cell_type": "code",
   "execution_count": null,
   "id": "3b69a0c1",
   "metadata": {},
   "outputs": [],
   "source": [
    "sys.path.append(\"./\")"
   ]
  },
  {
   "cell_type": "code",
   "execution_count": null,
   "id": "fc688e81",
   "metadata": {},
   "outputs": [],
   "source": [
    "from lib import common"
   ]
  },
  {
   "cell_type": "code",
   "execution_count": null,
   "id": "e1f15913",
   "metadata": {
    "lines_to_next_cell": 2
   },
   "outputs": [],
   "source": [
    "import matplotlib as mpl\n",
    "mpl.use(\"Agg\")\n",
    "import matplotlib.pyplot as plt"
   ]
  },
  {
   "cell_type": "code",
   "execution_count": null,
   "id": "010076dd",
   "metadata": {},
   "outputs": [],
   "source": [
    "Vmax = 10\n",
    "Vmin = -10\n",
    "N_ATOMS = 51\n",
    "DELTA_Z = (Vmax - Vmin) / (N_ATOMS - 1)"
   ]
  },
  {
   "cell_type": "code",
   "execution_count": null,
   "id": "5e93115f",
   "metadata": {},
   "outputs": [],
   "source": [
    "def save_distr(src, proj, name):\n",
    "    plt.clf()\n",
    "    p = np.arange(Vmin, Vmax+DELTA_Z, DELTA_Z)\n",
    "    plt.subplot(2, 1, 1)\n",
    "    plt.bar(p, src, width=0.5)\n",
    "    plt.title(\"Source\")\n",
    "    plt.subplot(2, 1, 2)\n",
    "    plt.bar(p, proj, width=0.5)\n",
    "    plt.title(\"Projected\")\n",
    "    plt.savefig(name + \".png\")"
   ]
  },
  {
   "cell_type": "code",
   "execution_count": null,
   "id": "bef6a7be",
   "metadata": {},
   "outputs": [],
   "source": [
    "if __name__ == \"__main__\":\n",
    "    np.random.seed(123)\n",
    "    atoms = np.arange(Vmin, Vmax+DELTA_Z, DELTA_Z)\n",
    "\n",
    "    # single peak distribution\n",
    "    src_hist = np.zeros(shape=(1, N_ATOMS), dtype=np.float32)\n",
    "    src_hist[0, N_ATOMS//2+1] = 1.0\n",
    "    proj_hist = lib.dqn_extra.distr_projection(src_hist, np.array([2], dtype=np.float32), np.array([False]),\n",
    "                                               Vmin, Vmax, N_ATOMS, gamma=0.9)\n",
    "    save_distr(src_hist[0], proj_hist[0], \"peak-r=2\")\n",
    "\n",
    "    # normal distribution\n",
    "    data = np.random.normal(size=1000, scale=3)\n",
    "    hist = np.histogram(data, normed=True, bins=np.arange(Vmin - DELTA_Z/2, Vmax + DELTA_Z*3/2, DELTA_Z))\n",
    "\n",
    "    src_hist = hist[0]\n",
    "    proj_hist = lib.dqn_extra.distr_projection(np.array([src_hist]), np.array([2], dtype=np.float32), np.array([False]),\n",
    "                                               Vmin, Vmax, N_ATOMS, gamma=0.9)\n",
    "    save_distr(hist[0], proj_hist[0], \"normal-r=2\")\n",
    "\n",
    "    # normal distribution, but done episode\n",
    "    proj_hist = lib.dqn_extra.distr_projection(np.array([src_hist]), np.array([2], dtype=np.float32), np.array([True]),\n",
    "                                               Vmin, Vmax, N_ATOMS, gamma=0.9)\n",
    "    save_distr(hist[0], proj_hist[0], \"normal-done-r=2\")\n",
    "\n",
    "    # clipping for out-of-range distribution\n",
    "    proj_dist = lib.dqn_extra.distr_projection(np.array([src_hist]), np.array([10], dtype=np.float32), np.array([False]),\n",
    "                                               Vmin, Vmax, N_ATOMS, gamma=0.9)\n",
    "    save_distr(hist[0], proj_dist[0], \"normal-r=10\")\n",
    "\n",
    "    # test both done and not done, unclipped\n",
    "    proj_hist = lib.dqn_extra.distr_projection(np.array([src_hist, src_hist]), np.array([2, 2], dtype=np.float32),\n",
    "                                               np.array([False, True]), Vmin, Vmax, N_ATOMS, gamma=0.9)\n",
    "    save_distr(src_hist, proj_hist[0], \"both_not_clip-01-incomplete\")\n",
    "    save_distr(src_hist, proj_hist[1], \"both_not_clip-02-complete\")\n",
    "\n",
    "    # test both done and not done, clipped right\n",
    "    proj_hist = lib.dqn_extra.distr_projection(np.array([src_hist, src_hist]), np.array([10, 10], dtype=np.float32),\n",
    "                                               np.array([False, True]), Vmin, Vmax, N_ATOMS, gamma=0.9)\n",
    "    save_distr(src_hist, proj_hist[0], \"both_clip-right-01-incomplete\")\n",
    "    save_distr(src_hist, proj_hist[1], \"both_clip-right-02-complete\")\n",
    "\n",
    "    # test both done and not done, clipped left\n",
    "    proj_hist = lib.dqn_extra.distr_projection(np.array([src_hist, src_hist]), np.array([-10, -10], dtype=np.float32),\n",
    "                                               np.array([False, True]), Vmin, Vmax, N_ATOMS, gamma=0.9)\n",
    "    save_distr(src_hist, proj_hist[0], \"both_clip-left-01-incomplete\")\n",
    "    save_distr(src_hist, proj_hist[1], \"both_clip-left-02-complete\")\n",
    "\n",
    "    pass"
   ]
  }
 ],
 "metadata": {
  "jupytext": {
   "cell_metadata_filter": "-all",
   "main_language": "python",
   "notebook_metadata_filter": "-all"
  }
 },
 "nbformat": 4,
 "nbformat_minor": 5
}
