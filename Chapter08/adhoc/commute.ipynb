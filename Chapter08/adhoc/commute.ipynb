{
 "cells": [
  {
   "cell_type": "code",
   "execution_count": null,
   "id": "39201fac",
   "metadata": {},
   "outputs": [],
   "source": [
    "import numpy as np\n",
    "import matplotlib as mpl\n",
    "mpl.use(\"Agg\")\n",
    "import matplotlib.pyplot as plt"
   ]
  },
  {
   "cell_type": "code",
   "execution_count": null,
   "id": "3e88057f",
   "metadata": {},
   "outputs": [],
   "source": [
    "if __name__ == \"__main__\":\n",
    "    plt.clf()\n",
    "    v1 = np.random.normal(30, 2.0, size=2000)\n",
    "    v2 = np.random.normal(90, 4.0, size=200)\n",
    "    v = np.concatenate((v1, v2))\n",
    "    mean_time = v.mean()\n",
    "    plt.hist(v, normed=True, bins=100)\n",
    "    plt.title(\"Car commute time distribution\\nmean=%.2f mins\" % mean_time)\n",
    "    plt.xlabel(\"Time, minutes\")\n",
    "    plt.ylabel(\"Probability\")\n",
    "    plt.savefig(\"commute-car.png\")\n",
    "\n",
    "    plt.clf()\n",
    "    v1 = np.random.normal(40, 2.0, size=2000)\n",
    "    v2 = np.random.normal(60, 1.0, size=50)\n",
    "    v = np.concatenate((v1, v2))\n",
    "    mean_time = v.mean()\n",
    "    plt.hist(v, normed=True, bins=100)\n",
    "    plt.title(\"Train commute time distribution\\nmean=%.2f mins\" % mean_time)\n",
    "    plt.xlabel(\"Time, minutes\")\n",
    "    plt.ylabel(\"Probability\")\n",
    "    plt.savefig(\"commute-train.png\")"
   ]
  }
 ],
 "metadata": {
  "jupytext": {
   "cell_metadata_filter": "-all",
   "main_language": "python",
   "notebook_metadata_filter": "-all"
  }
 },
 "nbformat": 4,
 "nbformat_minor": 5
}
