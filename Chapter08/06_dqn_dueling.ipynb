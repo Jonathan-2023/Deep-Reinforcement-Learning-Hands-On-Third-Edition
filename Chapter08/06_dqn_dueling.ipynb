{
 "cells": [
  {
   "cell_type": "code",
   "execution_count": null,
   "id": "10fef643",
   "metadata": {},
   "outputs": [],
   "source": [
    "import gymnasium as gym\n",
    "import ptan\n",
    "import typing as tt"
   ]
  },
  {
   "cell_type": "code",
   "execution_count": null,
   "id": "6ac1d1c0",
   "metadata": {},
   "outputs": [],
   "source": [
    "import torch\n",
    "from torch import nn\n",
    "from torch import optim\n",
    "import numpy as np"
   ]
  },
  {
   "cell_type": "code",
   "execution_count": null,
   "id": "16e26dca",
   "metadata": {},
   "outputs": [],
   "source": [
    "from ignite.engine import Engine"
   ]
  },
  {
   "cell_type": "code",
   "execution_count": null,
   "id": "3942827f",
   "metadata": {},
   "outputs": [],
   "source": [
    "from lib import dqn_extra, common"
   ]
  },
  {
   "cell_type": "code",
   "execution_count": null,
   "id": "9c3bb0ca",
   "metadata": {},
   "outputs": [],
   "source": [
    "NAME = \"06_dueling\""
   ]
  },
  {
   "cell_type": "code",
   "execution_count": null,
   "id": "f5194469",
   "metadata": {},
   "outputs": [],
   "source": [
    "STATES_TO_EVALUATE = 1000\n",
    "EVAL_EVERY_FRAME = 100"
   ]
  },
  {
   "cell_type": "code",
   "execution_count": null,
   "id": "5a419589",
   "metadata": {},
   "outputs": [],
   "source": [
    "BEST_PONG = common.GAME_PARAMS['pong']"
   ]
  },
  {
   "cell_type": "code",
   "execution_count": null,
   "id": "546181ed",
   "metadata": {},
   "outputs": [],
   "source": [
    "@torch.no_grad()\n",
    "def evaluate_states(states: np.ndarray, net: nn.Module,\n",
    "                    device: torch.device, engine: Engine):\n",
    "    s_v = torch.as_tensor(states).to(device)\n",
    "    adv, val = net.adv_val(s_v)\n",
    "    engine.state.metrics['adv'] = adv.mean().item()\n",
    "    engine.state.metrics['val'] = val.mean().item()"
   ]
  },
  {
   "cell_type": "code",
   "execution_count": null,
   "id": "611b3297",
   "metadata": {},
   "outputs": [],
   "source": [
    "def train(params: common.Hyperparams,\n",
    "          device: torch.device, extra: dict) -> tt.Optional[int]:\n",
    "    env = gym.make(params.env_name)\n",
    "    env = ptan.common.wrappers.wrap_dqn(env)\n",
    "\n",
    "    net = dqn_extra.DuelingDQN(env.observation_space.shape,\n",
    "                               env.action_space.n).to(device)\n",
    "\n",
    "    tgt_net = ptan.agent.TargetNet(net)\n",
    "    selector = ptan.actions.EpsilonGreedyActionSelector(\n",
    "        epsilon=params.epsilon_start)\n",
    "    epsilon_tracker = common.EpsilonTracker(selector, params)\n",
    "    agent = ptan.agent.DQNAgent(net, selector, device=device)\n",
    "\n",
    "    exp_source = ptan.experience.ExperienceSourceFirstLast(\n",
    "        env, agent, gamma=params.gamma, env_seed=common.SEED)\n",
    "    buffer = ptan.experience.ExperienceReplayBuffer(\n",
    "        exp_source, buffer_size=params.replay_size)\n",
    "    optimizer = optim.Adam(net.parameters(),\n",
    "                           lr=params.learning_rate)\n",
    "\n",
    "    def process_batch(engine, batch):\n",
    "        optimizer.zero_grad()\n",
    "        loss_v = common.calc_loss_dqn(\n",
    "            batch, net, tgt_net.target_model,\n",
    "            gamma=params.gamma, device=device)\n",
    "        loss_v.backward()\n",
    "        optimizer.step()\n",
    "        epsilon_tracker.frame(engine.state.iteration)\n",
    "        if engine.state.iteration % params.target_net_sync == 0:\n",
    "            tgt_net.sync()\n",
    "        if engine.state.iteration % EVAL_EVERY_FRAME == 0:\n",
    "            eval_states = getattr(engine.state, \"eval_states\", None)\n",
    "            if eval_states is None:\n",
    "                eval_states = buffer.sample(STATES_TO_EVALUATE)\n",
    "                eval_states = [\n",
    "                    np.asarray(transition.state)\n",
    "                    for transition in eval_states\n",
    "                ]\n",
    "                eval_states = np.asarray(eval_states)\n",
    "                engine.state.eval_states = eval_states\n",
    "            evaluate_states(eval_states, net, device, engine)\n",
    "        return {\n",
    "            \"loss\": loss_v.item(),\n",
    "            \"epsilon\": selector.epsilon,\n",
    "        }\n",
    "\n",
    "    engine = Engine(process_batch)\n",
    "    common.setup_ignite(engine, params, exp_source, NAME, extra_metrics=('adv', 'val'))\n",
    "    r = engine.run(common.batch_generator(\n",
    "        buffer, params.replay_initial, params.batch_size))\n",
    "    if r.solved:\n",
    "        return r.episode"
   ]
  },
  {
   "cell_type": "code",
   "execution_count": null,
   "id": "dcbeae3b",
   "metadata": {},
   "outputs": [],
   "source": [
    "if __name__ == \"__main__\":\n",
    "    args = common.argparser().parse_args()\n",
    "    common.train_or_tune(args, train, BEST_PONG)"
   ]
  }
 ],
 "metadata": {
  "jupytext": {
   "cell_metadata_filter": "-all",
   "executable": "/usr/bin/env python3",
   "main_language": "python",
   "notebook_metadata_filter": "-all"
  }
 },
 "nbformat": 4,
 "nbformat_minor": 5
}
