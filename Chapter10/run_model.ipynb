{
 "cells": [
  {
   "cell_type": "code",
   "execution_count": null,
   "id": "30e75a42",
   "metadata": {},
   "outputs": [],
   "source": [
    "import argparse\n",
    "import numpy as np"
   ]
  },
  {
   "cell_type": "code",
   "execution_count": null,
   "id": "b260effb",
   "metadata": {},
   "outputs": [],
   "source": [
    "from lib import environ, data, models"
   ]
  },
  {
   "cell_type": "code",
   "execution_count": null,
   "id": "39b5a9c7",
   "metadata": {},
   "outputs": [],
   "source": [
    "import torch"
   ]
  },
  {
   "cell_type": "code",
   "execution_count": null,
   "id": "12822c13",
   "metadata": {
    "lines_to_next_cell": 2
   },
   "outputs": [],
   "source": [
    "import matplotlib as mpl\n",
    "mpl.use(\"Agg\")\n",
    "import matplotlib.pyplot as plt"
   ]
  },
  {
   "cell_type": "code",
   "execution_count": null,
   "id": "8c6bb57b",
   "metadata": {
    "lines_to_next_cell": 2
   },
   "outputs": [],
   "source": [
    "EPSILON = 0.02"
   ]
  },
  {
   "cell_type": "code",
   "execution_count": null,
   "id": "3befc6d4",
   "metadata": {},
   "outputs": [],
   "source": [
    "if __name__ == \"__main__\":\n",
    "    parser = argparse.ArgumentParser()\n",
    "    parser.add_argument(\"-d\", \"--data\", required=True, help=\"CSV file with quotes to run the model\")\n",
    "    parser.add_argument(\"-m\", \"--model\", required=True, help=\"Model file to load\")\n",
    "    parser.add_argument(\"-b\", \"--bars\", type=int, default=50, help=\"Count of bars to feed into the model\")\n",
    "    parser.add_argument(\"-n\", \"--name\", required=True, help=\"Name to use in output images\")\n",
    "    parser.add_argument(\"--commission\", type=float, default=0.1, help=\"Commission size in percent, default=0.1\")\n",
    "    parser.add_argument(\"--conv\", default=False, action=\"store_true\", help=\"Use convolution model instead of FF\")\n",
    "    args = parser.parse_args()\n",
    "\n",
    "    prices = data.load_relative(args.data)\n",
    "    env = environ.StocksEnv({\"TEST\": prices}, bars_count=args.bars, reset_on_close=False, commission=args.commission,\n",
    "                            state_1d=args.conv, random_ofs_on_reset=False, reward_on_close=False, volumes=False)\n",
    "    if args.conv:\n",
    "        net = models.DQNConv1D(env.observation_space.shape, env.action_space.n)\n",
    "    else:\n",
    "        net = models.SimpleFFDQN(env.observation_space.shape[0], env.action_space.n)\n",
    "\n",
    "    net.load_state_dict(torch.load(args.model, map_location=lambda storage, loc: storage, weights_only=True))\n",
    "\n",
    "    obs, _ = env.reset()\n",
    "    start_price = env._state._cur_close()\n",
    "\n",
    "    total_reward = 0.0\n",
    "    step_idx = 0\n",
    "    rewards = []\n",
    "\n",
    "    while True:\n",
    "        step_idx += 1\n",
    "        obs_v = torch.tensor([obs])\n",
    "        out_v = net(obs_v)\n",
    "        action_idx = out_v.max(dim=1)[1].item()\n",
    "        if np.random.random() < EPSILON:\n",
    "            action_idx = env.action_space.sample()\n",
    "        action = environ.Actions(action_idx)\n",
    "\n",
    "        obs, reward, done, _, _ = env.step(action_idx)\n",
    "        total_reward += reward\n",
    "        rewards.append(total_reward)\n",
    "        if step_idx % 100 == 0:\n",
    "            print(\"%d: reward=%.3f\" % (step_idx, total_reward))\n",
    "        if done:\n",
    "            break\n",
    "\n",
    "    plt.clf()\n",
    "    plt.plot(rewards)\n",
    "    plt.title(\"Total reward, data=%s\" % args.name)\n",
    "    plt.ylabel(\"Reward, %\")\n",
    "    plt.savefig(\"rewards-%s.png\" % args.name)"
   ]
  }
 ],
 "metadata": {
  "jupytext": {
   "cell_metadata_filter": "-all",
   "executable": "/usr/bin/env python3",
   "main_language": "python",
   "notebook_metadata_filter": "-all"
  }
 },
 "nbformat": 4,
 "nbformat_minor": 5
}
