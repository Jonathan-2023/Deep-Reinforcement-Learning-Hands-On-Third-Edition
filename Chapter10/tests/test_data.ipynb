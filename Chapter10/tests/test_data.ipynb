{
 "cells": [
  {
   "cell_type": "code",
   "execution_count": null,
   "id": "4501009a",
   "metadata": {},
   "outputs": [],
   "source": [
    "import numpy as np\n",
    "import pathlib\n",
    "from lib import data"
   ]
  },
  {
   "cell_type": "code",
   "execution_count": null,
   "id": "c92af2f5",
   "metadata": {},
   "outputs": [],
   "source": [
    "def test_read_csv():\n",
    "    prices = data.read_csv(pathlib.Path(\"data/YNDX_160101_161231.csv\"))\n",
    "    assert isinstance(prices, data.Prices)"
   ]
  },
  {
   "cell_type": "code",
   "execution_count": null,
   "id": "ae84da41",
   "metadata": {},
   "outputs": [],
   "source": [
    "def test_prices_to_relative():\n",
    "    t = data.Prices(open=np.array([1.0]),\n",
    "                    high=np.array([3.0]),\n",
    "                    low=np.array([0.5]),\n",
    "                    close=np.array([2.0]),\n",
    "                    volume=np.array([10]))\n",
    "    rel = data.prices_to_relative(t)\n",
    "    np.testing.assert_equal(rel.open,  t.open)\n",
    "    np.testing.assert_equal(rel.volume,  t.volume)\n",
    "    np.testing.assert_equal(rel.high,  np.array([2.0]))  # 200% growth\n",
    "    np.testing.assert_equal(rel.low,   np.array([-.5]))  # 50% fall\n",
    "    np.testing.assert_equal(rel.close, np.array([1.0]))  # 100% growth"
   ]
  },
  {
   "cell_type": "code",
   "execution_count": null,
   "id": "987dd6ed",
   "metadata": {
    "lines_to_next_cell": 2
   },
   "outputs": [],
   "source": [
    "def test_price_files():\n",
    "    files = data.price_files(\"data\")\n",
    "    assert len(files) > 0"
   ]
  }
 ],
 "metadata": {
  "jupytext": {
   "cell_metadata_filter": "-all",
   "main_language": "python",
   "notebook_metadata_filter": "-all"
  }
 },
 "nbformat": 4,
 "nbformat_minor": 5
}
