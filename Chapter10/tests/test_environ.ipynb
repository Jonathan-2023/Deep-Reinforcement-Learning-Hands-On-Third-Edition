{
 "cells": [
  {
   "cell_type": "code",
   "execution_count": null,
   "id": "4e4a5726",
   "metadata": {},
   "outputs": [],
   "source": [
    "import pytest\n",
    "import pathlib\n",
    "import typing as tt"
   ]
  },
  {
   "cell_type": "code",
   "execution_count": null,
   "id": "f1850011",
   "metadata": {},
   "outputs": [],
   "source": [
    "import numpy as np"
   ]
  },
  {
   "cell_type": "code",
   "execution_count": null,
   "id": "04cbf78c",
   "metadata": {},
   "outputs": [],
   "source": [
    "from lib import data, environ"
   ]
  },
  {
   "cell_type": "code",
   "execution_count": null,
   "id": "08881eb1",
   "metadata": {},
   "outputs": [],
   "source": []
  },
  {
   "cell_type": "code",
   "execution_count": null,
   "id": "3650e35d",
   "metadata": {},
   "outputs": [],
   "source": [
    "def test_env_simple():\n",
    "    prices = data.load_relative(\"data/YNDX_160101_161231.csv\")\n",
    "    env = environ.StocksEnv({\"YNDX\": prices})\n",
    "    s = env.reset()\n",
    "    obs, reward, done, is_tr, info = env.step(0)\n",
    "    assert reward == pytest.approx(0.0)"
   ]
  },
  {
   "cell_type": "code",
   "execution_count": null,
   "id": "5e343441",
   "metadata": {},
   "outputs": [],
   "source": [
    "@pytest.fixture\n",
    "def prices() -> data.Prices:\n",
    "    p = data.Prices(open=np.array([1.0, 2.0, 3.0, 1.0]),\n",
    "                    high=np.array([2.0, 3.0, 4.0, 2.0]),\n",
    "                    low=np.array([0.0, 1.0, 2.0, 0.0]),\n",
    "                    close=np.array([2.0, 3.0, 1.0, 2.0]),\n",
    "                    volume=np.array([10.0, 10.0, 10.0, 10.0]))\n",
    "    return data.prices_to_relative(p)"
   ]
  },
  {
   "cell_type": "code",
   "execution_count": null,
   "id": "986305b9",
   "metadata": {},
   "outputs": [],
   "source": []
  },
  {
   "cell_type": "code",
   "execution_count": null,
   "id": "481ef74b",
   "metadata": {},
   "outputs": [],
   "source": [
    "def test_states_basic():\n",
    "    s = environ.State(bars_count=4, commission_perc=0.0, reset_on_close=False, volumes=False)\n",
    "    assert s.shape == (4*3+2, )"
   ]
  },
  {
   "cell_type": "code",
   "execution_count": null,
   "id": "3ac19e5c",
   "metadata": {},
   "outputs": [],
   "source": [
    "def test_basic1d(prices):\n",
    "    s = environ.State1D(bars_count=2, commission_perc=0.0, reset_on_close=False, volumes=True)\n",
    "    assert s.shape == (6, 2)\n",
    "    s.reset(prices, 1)\n",
    "    d = s.encode()\n",
    "    assert s.shape == d.shape"
   ]
  },
  {
   "cell_type": "code",
   "execution_count": null,
   "id": "5f2fb921",
   "metadata": {},
   "outputs": [],
   "source": [
    "def test_reset(prices):\n",
    "    s = environ.State(bars_count=1, commission_perc=0.0, reset_on_close=False)\n",
    "    s.reset(prices, offset=0)\n",
    "    assert not s.have_position\n",
    "    assert s._cur_close() == pytest.approx(2.0)\n",
    "\n",
    "    r, done = s.step(environ.Actions.Skip)\n",
    "    assert s._cur_close() == pytest.approx(3.0)\n",
    "    assert r == pytest.approx(0.0)\n",
    "    assert not done\n",
    "\n",
    "    r, done = s.step(environ.Actions.Skip)\n",
    "    assert s._cur_close() == pytest.approx(1.0)\n",
    "    assert r == pytest.approx(0.0)\n",
    "    assert not done\n",
    "\n",
    "    r, done = s.step(environ.Actions.Skip)\n",
    "    assert s._cur_close() == pytest.approx(2.0)\n",
    "    assert r == pytest.approx(0.0)\n",
    "    assert done"
   ]
  },
  {
   "cell_type": "code",
   "execution_count": null,
   "id": "5fe7b410",
   "metadata": {},
   "outputs": [],
   "source": [
    "def test_reward(prices):\n",
    "    s = environ.State(bars_count=1, commission_perc=0.0, reset_on_close=False,\n",
    "                      reward_on_close=False)\n",
    "    s.reset(prices, offset=0)\n",
    "    assert not s.have_position\n",
    "    assert s._cur_close() == pytest.approx(2.0)\n",
    "\n",
    "    r, done = s.step(environ.Actions.Buy)\n",
    "    assert s.have_position\n",
    "    assert not done\n",
    "    assert r == pytest.approx(50.0)\n",
    "    assert s._cur_close() == pytest.approx(3.0)\n",
    "\n",
    "    r, done = s.step(environ.Actions.Skip)\n",
    "    assert not done\n",
    "    assert r == pytest.approx(-2/3 * 100.0)\n",
    "    assert s._cur_close() == pytest.approx(1.0)\n",
    "\n",
    "    r, done = s.step(environ.Actions.Skip)\n",
    "    assert done\n",
    "    assert r == pytest.approx(100.0)\n",
    "    assert s._cur_close() == pytest.approx(2.0)"
   ]
  },
  {
   "cell_type": "code",
   "execution_count": null,
   "id": "bcfcef8e",
   "metadata": {},
   "outputs": [],
   "source": [
    "def test_comission(prices):\n",
    "    s = environ.State(bars_count=1, commission_perc=1.0, reset_on_close=False, reward_on_close=False)\n",
    "    s.reset(prices, offset=0)\n",
    "    assert not s.have_position\n",
    "    assert s._cur_close() == pytest.approx(2.0)\n",
    "\n",
    "    r, done = s.step(environ.Actions.Buy)\n",
    "    assert s.have_position\n",
    "    assert not done\n",
    "\n",
    "    # execution price is the cur bar close, comission 1%, reward in percent\n",
    "    assert r == pytest.approx(100.0 * (3.0 - 2.0) / 2.0 - 1.0)\n",
    "    assert s._cur_close() == pytest.approx(3.0)"
   ]
  },
  {
   "cell_type": "code",
   "execution_count": null,
   "id": "3b215e2c",
   "metadata": {},
   "outputs": [],
   "source": [
    "def test_final_reward(prices):\n",
    "    s = environ.State(bars_count=1, commission_perc=0.0, reset_on_close=False, reward_on_close=True)\n",
    "    s.reset(prices, offset=0)\n",
    "    assert not s.have_position\n",
    "    assert s._cur_close() == pytest.approx(2.0)\n",
    "\n",
    "    r, done = s.step(environ.Actions.Buy)\n",
    "    assert s.have_position\n",
    "    assert not done\n",
    "    assert s._cur_close() == pytest.approx(3.0)\n",
    "\n",
    "    r, done = s.step(environ.Actions.Skip)\n",
    "    assert not done\n",
    "    assert s._cur_close() == pytest.approx(1.0)\n",
    "\n",
    "    r, done = s.step(environ.Actions.Close)\n",
    "    assert done\n",
    "    assert r == pytest.approx(-50.0)\n",
    "    assert s._cur_close() == pytest.approx(2.0)"
   ]
  }
 ],
 "metadata": {
  "jupytext": {
   "cell_metadata_filter": "-all",
   "main_language": "python",
   "notebook_metadata_filter": "-all"
  }
 },
 "nbformat": 4,
 "nbformat_minor": 5
}
