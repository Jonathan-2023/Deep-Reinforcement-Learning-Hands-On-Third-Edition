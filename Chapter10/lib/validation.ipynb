{
 "cells": [
  {
   "cell_type": "code",
   "execution_count": null,
   "id": "9aaaa9e1",
   "metadata": {},
   "outputs": [],
   "source": [
    "import numpy as np"
   ]
  },
  {
   "cell_type": "code",
   "execution_count": null,
   "id": "e8a6eb0b",
   "metadata": {},
   "outputs": [],
   "source": [
    "import torch"
   ]
  },
  {
   "cell_type": "code",
   "execution_count": null,
   "id": "5089f6c5",
   "metadata": {},
   "outputs": [],
   "source": [
    "from lib import environ"
   ]
  },
  {
   "cell_type": "code",
   "execution_count": null,
   "id": "19fa8a68",
   "metadata": {},
   "outputs": [],
   "source": [
    "METRICS = (\n",
    "    'episode_reward',\n",
    "    'episode_steps',\n",
    "    'order_profits',\n",
    "    'order_steps',\n",
    ")"
   ]
  },
  {
   "cell_type": "code",
   "execution_count": null,
   "id": "11dd7abd",
   "metadata": {},
   "outputs": [],
   "source": [
    "def validation_run(env, net, episodes=100, device=\"cpu\", epsilon=0.02, comission=0.1):\n",
    "    stats = { metric: [] for metric in METRICS }\n",
    "\n",
    "    for episode in range(episodes):\n",
    "        obs, _ = env.reset()\n",
    "\n",
    "        total_reward = 0.0\n",
    "        position = None\n",
    "        position_steps = None\n",
    "        episode_steps = 0\n",
    "\n",
    "        while True:\n",
    "            obs_v = torch.tensor([obs]).to(device)\n",
    "            out_v = net(obs_v)\n",
    "\n",
    "            action_idx = out_v.max(dim=1)[1].item()\n",
    "            if np.random.random() < epsilon:\n",
    "                action_idx = env.action_space.sample()\n",
    "            action = environ.Actions(action_idx)\n",
    "\n",
    "            close_price = env._state._cur_close()\n",
    "\n",
    "            if action == environ.Actions.Buy and position is None:\n",
    "                position = close_price\n",
    "                position_steps = 0\n",
    "            elif action == environ.Actions.Close and position is not None:\n",
    "                profit = close_price - position - (close_price + position) * comission / 100\n",
    "                profit = 100.0 * profit / position\n",
    "                stats['order_profits'].append(profit)\n",
    "                stats['order_steps'].append(position_steps)\n",
    "                position = None\n",
    "                position_steps = None\n",
    "\n",
    "            obs, reward, done, _, _ = env.step(action_idx)\n",
    "            total_reward += reward\n",
    "            episode_steps += 1\n",
    "            if position_steps is not None:\n",
    "                position_steps += 1\n",
    "            if done:\n",
    "                if position is not None:\n",
    "                    profit = close_price - position - (close_price + position) * comission / 100\n",
    "                    profit = 100.0 * profit / position\n",
    "                    stats['order_profits'].append(profit)\n",
    "                    stats['order_steps'].append(position_steps)\n",
    "                break\n",
    "\n",
    "        stats['episode_reward'].append(total_reward)\n",
    "        stats['episode_steps'].append(episode_steps)\n",
    "\n",
    "    return { key: np.mean(vals) for key, vals in stats.items() }"
   ]
  }
 ],
 "metadata": {
  "jupytext": {
   "cell_metadata_filter": "-all",
   "main_language": "python",
   "notebook_metadata_filter": "-all"
  }
 },
 "nbformat": 4,
 "nbformat_minor": 5
}
