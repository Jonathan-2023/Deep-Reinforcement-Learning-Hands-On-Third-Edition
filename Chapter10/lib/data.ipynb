{
 "cells": [
  {
   "cell_type": "code",
   "execution_count": null,
   "id": "6c340204",
   "metadata": {},
   "outputs": [],
   "source": [
    "import os\n",
    "import csv\n",
    "import glob\n",
    "import pathlib\n",
    "import numpy as np\n",
    "import typing as tt\n",
    "from dataclasses import dataclass"
   ]
  },
  {
   "cell_type": "code",
   "execution_count": null,
   "id": "f5e96277",
   "metadata": {},
   "outputs": [],
   "source": [
    "@dataclass\n",
    "class Prices:\n",
    "    open: np.ndarray\n",
    "    high: np.ndarray\n",
    "    low: np.ndarray\n",
    "    close: np.ndarray\n",
    "    volume: np.ndarray"
   ]
  },
  {
   "cell_type": "code",
   "execution_count": null,
   "id": "f2d01511",
   "metadata": {},
   "outputs": [],
   "source": [
    "def read_csv(file_path: pathlib.Path, sep: str = ',',\n",
    "             filter_data: bool = True,\n",
    "             fix_open_price: bool = False) -> Prices:\n",
    "    print(\"Reading\", file_path)\n",
    "    with file_path.open('rt', encoding='utf-8') as fd:\n",
    "        reader = csv.reader(fd, delimiter=sep)\n",
    "        h = next(reader)\n",
    "        if '<OPEN>' not in h and sep == ',':\n",
    "            return read_csv(file_path, ';')\n",
    "        indices = [\n",
    "            h.index(s)\n",
    "            for s in ('<OPEN>', '<HIGH>', '<LOW>',\n",
    "                      '<CLOSE>', '<VOL>')\n",
    "        ]\n",
    "        o, h, l, c, v = [], [], [], [], []\n",
    "        count_out = 0\n",
    "        count_filter = 0\n",
    "        count_fixed = 0\n",
    "        prev_vals = None\n",
    "        filter_func = lambda v: abs(v-vals[0]) < 1e-8\n",
    "        for row in reader:\n",
    "            vals = list(map(float, [row[idx] for idx in indices]))\n",
    "            if filter_data and all(map(filter_func, vals[:-1])):\n",
    "                count_filter += 1\n",
    "                continue\n",
    "\n",
    "            po, ph, pl, pc, pv = vals\n",
    "\n",
    "            # fix open price for current bar to match close price for the previous bar\n",
    "            if fix_open_price and prev_vals is not None:\n",
    "                ppo, pph, ppl, ppc, ppv = prev_vals\n",
    "                if abs(po - ppc) > 1e-8:\n",
    "                    count_fixed += 1\n",
    "                    po = ppc\n",
    "                    pl = min(pl, po)\n",
    "                    ph = max(ph, po)\n",
    "            count_out += 1\n",
    "            o.append(po)\n",
    "            c.append(pc)\n",
    "            h.append(ph)\n",
    "            l.append(pl)\n",
    "            v.append(pv)\n",
    "            prev_vals = vals\n",
    "    print(f\"Read done, got {count_filter + count_out} rows, \"\n",
    "          f\"{count_filter} filtered, \"\n",
    "          f\"{count_fixed} open prices adjusted\")\n",
    "    return Prices(open=np.array(o, dtype=np.float32),\n",
    "                  high=np.array(h, dtype=np.float32),\n",
    "                  low=np.array(l, dtype=np.float32),\n",
    "                  close=np.array(c, dtype=np.float32),\n",
    "                  volume=np.array(v, dtype=np.float32))"
   ]
  },
  {
   "cell_type": "code",
   "execution_count": null,
   "id": "6c110216",
   "metadata": {},
   "outputs": [],
   "source": [
    "def prices_to_relative(prices: Prices):\n",
    "    \"\"\"\n",
    "    Convert prices to relative in respect to open price\n",
    "    :param ochl: tuple with open, close, high, low\n",
    "    :return: tuple with open, rel_close, rel_high, rel_low\n",
    "    \"\"\"\n",
    "    rh = (prices.high - prices.open) / prices.open\n",
    "    rl = (prices.low - prices.open) / prices.open\n",
    "    rc = (prices.close - prices.open) / prices.open\n",
    "    return Prices(open=prices.open, high=rh, low=rl,\n",
    "                  close=rc, volume=prices.volume)"
   ]
  },
  {
   "cell_type": "code",
   "execution_count": null,
   "id": "10561f0f",
   "metadata": {},
   "outputs": [],
   "source": [
    "def load_relative(csv_path: pathlib.Path | str) -> Prices:\n",
    "    if isinstance(csv_path, str):\n",
    "        csv_path = pathlib.Path(csv_path)\n",
    "    return prices_to_relative(read_csv(csv_path))"
   ]
  },
  {
   "cell_type": "code",
   "execution_count": null,
   "id": "60d9d633",
   "metadata": {},
   "outputs": [],
   "source": [
    "def price_files(dir_name: str) -> tt.List[pathlib.Path]:\n",
    "    result = []\n",
    "    for path in glob.glob(os.path.join(dir_name, \"*.csv\")):\n",
    "        result.append(pathlib.Path(path))\n",
    "    return result"
   ]
  },
  {
   "cell_type": "code",
   "execution_count": null,
   "id": "a739fc33",
   "metadata": {},
   "outputs": [],
   "source": [
    "def load_year_data(\n",
    "        year: int, basedir: str = 'data'\n",
    ") -> tt.Dict[str, Prices]:\n",
    "    y = str(year)[-2:]\n",
    "    result = {}\n",
    "    for path in glob.glob(os.path.join(basedir, \"*_%s*.csv\" % y)):\n",
    "        result[path] = load_relative(pathlib.Path(path))\n",
    "    return result"
   ]
  }
 ],
 "metadata": {
  "jupytext": {
   "cell_metadata_filter": "-all",
   "main_language": "python",
   "notebook_metadata_filter": "-all"
  }
 },
 "nbformat": 4,
 "nbformat_minor": 5
}
