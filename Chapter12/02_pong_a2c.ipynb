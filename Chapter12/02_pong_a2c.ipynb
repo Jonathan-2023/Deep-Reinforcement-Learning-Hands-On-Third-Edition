{
 "cells": [
  {
   "cell_type": "code",
   "execution_count": null,
   "id": "b86826c8",
   "metadata": {},
   "outputs": [],
   "source": [
    "import gymnasium as gym\n",
    "import ptan\n",
    "from ptan.experience import VectorExperienceSourceFirstLast\n",
    "from ptan.common.utils import TBMeanTracker\n",
    "import numpy as np\n",
    "import argparse\n",
    "from torch.utils.tensorboard.writer import SummaryWriter"
   ]
  },
  {
   "cell_type": "code",
   "execution_count": null,
   "id": "6d111ff7",
   "metadata": {},
   "outputs": [],
   "source": [
    "import torch\n",
    "import torch.nn.utils as nn_utils\n",
    "import torch.nn.functional as F\n",
    "import torch.optim as optim"
   ]
  },
  {
   "cell_type": "code",
   "execution_count": null,
   "id": "7ffaa077",
   "metadata": {},
   "outputs": [],
   "source": [
    "from lib import common"
   ]
  },
  {
   "cell_type": "code",
   "execution_count": null,
   "id": "dcd90305",
   "metadata": {},
   "outputs": [],
   "source": [
    "GAMMA = 0.99\n",
    "LEARNING_RATE = 0.001\n",
    "ENTROPY_BETA = 0.01\n",
    "BATCH_SIZE = 128\n",
    "NUM_ENVS = 50"
   ]
  },
  {
   "cell_type": "code",
   "execution_count": null,
   "id": "adc09faa",
   "metadata": {
    "lines_to_next_cell": 2
   },
   "outputs": [],
   "source": [
    "REWARD_STEPS = 4\n",
    "CLIP_GRAD = 0.1"
   ]
  },
  {
   "cell_type": "code",
   "execution_count": null,
   "id": "eb39ceac",
   "metadata": {},
   "outputs": [],
   "source": [
    "if __name__ == \"__main__\":\n",
    "    parser = argparse.ArgumentParser()\n",
    "    parser.add_argument(\"--dev\", default=\"cpu\", help=\"Device to use, default=cpu\")\n",
    "    parser.add_argument(\"--use-async\", default=False, action='store_true',\n",
    "                        help=\"Use async vector env (A3C mode)\")\n",
    "    parser.add_argument(\"-n\", \"--name\", required=True, help=\"Name of the run\")\n",
    "    args = parser.parse_args()\n",
    "    device = torch.device(args.dev)\n",
    "\n",
    "    env_factories = [\n",
    "        lambda: ptan.common.wrappers.wrap_dqn(gym.make(\"PongNoFrameskip-v4\"))\n",
    "        for _ in range(NUM_ENVS)\n",
    "    ]\n",
    "    if args.use_async:\n",
    "        env = gym.vector.AsyncVectorEnv(env_factories)\n",
    "    else:\n",
    "        env = gym.vector.SyncVectorEnv(env_factories)\n",
    "    writer = SummaryWriter(comment=\"-pong-a2c_\" + args.name)\n",
    "\n",
    "    net = common.AtariA2C(env.single_observation_space.shape,\n",
    "                          env.single_action_space.n).to(device)\n",
    "    print(net)\n",
    "\n",
    "    agent = ptan.agent.PolicyAgent(lambda x: net(x)[0], apply_softmax=True, device=device)\n",
    "    exp_source = VectorExperienceSourceFirstLast(\n",
    "        env, agent, gamma=GAMMA, steps_count=REWARD_STEPS)\n",
    "\n",
    "    optimizer = optim.Adam(net.parameters(), lr=LEARNING_RATE, eps=1e-3)\n",
    "\n",
    "    batch = []\n",
    "\n",
    "    with common.RewardTracker(writer, stop_reward=18) as tracker:\n",
    "        with TBMeanTracker(writer, batch_size=10) as tb_tracker:\n",
    "            for step_idx, exp in enumerate(exp_source):\n",
    "                batch.append(exp)\n",
    "\n",
    "                # handle new rewards\n",
    "                new_rewards = exp_source.pop_total_rewards()\n",
    "                if new_rewards:\n",
    "                    if tracker.reward(new_rewards[0], step_idx):\n",
    "                        break\n",
    "\n",
    "                if len(batch) < BATCH_SIZE:\n",
    "                    continue\n",
    "\n",
    "                states_t, actions_t, vals_ref_t = common.unpack_batch(\n",
    "                    batch, net, device=device, gamma=GAMMA, reward_steps=REWARD_STEPS)\n",
    "                batch.clear()\n",
    "\n",
    "                optimizer.zero_grad()\n",
    "                logits_t, value_t = net(states_t)\n",
    "                loss_value_t = F.mse_loss(value_t.squeeze(-1), vals_ref_t)\n",
    "\n",
    "                log_prob_t = F.log_softmax(logits_t, dim=1)\n",
    "                adv_t = vals_ref_t - value_t.detach()\n",
    "                log_act_t = log_prob_t[range(BATCH_SIZE), actions_t]\n",
    "                log_prob_actions_t = adv_t * log_act_t\n",
    "                loss_policy_t = -log_prob_actions_t.mean()\n",
    "\n",
    "                prob_t = F.softmax(logits_t, dim=1)\n",
    "                entropy_loss_t = ENTROPY_BETA * (prob_t * log_prob_t).sum(dim=1).mean()\n",
    "\n",
    "                # calculate policy gradients only\n",
    "                loss_policy_t.backward(retain_graph=True)\n",
    "                grads = np.concatenate([\n",
    "                    p.grad.data.cpu().numpy().flatten()\n",
    "                    for p in net.parameters() if p.grad is not None\n",
    "                ])\n",
    "\n",
    "                # apply entropy and value gradients\n",
    "                loss_v = entropy_loss_t + loss_value_t\n",
    "                loss_v.backward()\n",
    "                nn_utils.clip_grad_norm_(net.parameters(), CLIP_GRAD)\n",
    "                optimizer.step()\n",
    "                # get full loss\n",
    "                loss_v += loss_policy_t\n",
    "\n",
    "                tb_tracker.track(\"advantage\", adv_t, step_idx)\n",
    "                tb_tracker.track(\"values\", value_t, step_idx)\n",
    "                tb_tracker.track(\"batch_rewards\", vals_ref_t, step_idx)\n",
    "                tb_tracker.track(\"loss_entropy\", entropy_loss_t, step_idx)\n",
    "                tb_tracker.track(\"loss_policy\", loss_policy_t, step_idx)\n",
    "                tb_tracker.track(\"loss_value\", loss_value_t, step_idx)\n",
    "                tb_tracker.track(\"loss_total\", loss_v, step_idx)\n",
    "                tb_tracker.track(\"grad_l2\", np.sqrt(np.mean(np.square(grads))), step_idx)\n",
    "                tb_tracker.track(\"grad_max\", np.max(np.abs(grads)), step_idx)\n",
    "                tb_tracker.track(\"grad_var\", np.var(grads), step_idx)"
   ]
  }
 ],
 "metadata": {
  "jupytext": {
   "cell_metadata_filter": "-all",
   "executable": "/usr/bin/env python3",
   "main_language": "python",
   "notebook_metadata_filter": "-all"
  }
 },
 "nbformat": 4,
 "nbformat_minor": 5
}
