{
 "cells": [
  {
   "cell_type": "code",
   "execution_count": null,
   "id": "dbb34967",
   "metadata": {},
   "outputs": [],
   "source": [
    "import unittest"
   ]
  },
  {
   "cell_type": "code",
   "execution_count": null,
   "id": "dd8a03c0",
   "metadata": {},
   "outputs": [],
   "source": [
    "import numpy as np\n",
    "from lib import game, model"
   ]
  },
  {
   "cell_type": "code",
   "execution_count": null,
   "id": "7276e331",
   "metadata": {},
   "outputs": [],
   "source": [
    "class TestEncoding(unittest.TestCase):\n",
    "    def test_encoding(self):\n",
    "        s = [[0, 1, 0], [0], [1, 1, 1], [], [1], [], []]\n",
    "        batch_v = model.state_lists_to_batch([s, s], [game.PLAYER_BLACK, game.PLAYER_WHITE])\n",
    "        batch = batch_v.data.numpy()\n",
    "        np.testing.assert_equal(batch, [\n",
    "            # black player's view\n",
    "            [\n",
    "                # player\n",
    "                [\n",
    "                    [0, 0, 0, 0, 0, 0, 0],\n",
    "                    [0, 0, 0, 0, 0, 0, 0],\n",
    "                    [0, 0, 0, 0, 0, 0, 0],\n",
    "                    [0, 0, 1, 0, 0, 0, 0],\n",
    "                    [1, 0, 1, 0, 0, 0, 0],\n",
    "                    [0, 0, 1, 0, 1, 0, 0],\n",
    "                ],\n",
    "                # opponent\n",
    "                [\n",
    "                    [0, 0, 0, 0, 0, 0, 0],\n",
    "                    [0, 0, 0, 0, 0, 0, 0],\n",
    "                    [0, 0, 0, 0, 0, 0, 0],\n",
    "                    [1, 0, 0, 0, 0, 0, 0],\n",
    "                    [0, 0, 0, 0, 0, 0, 0],\n",
    "                    [1, 1, 0, 0, 0, 0, 0],\n",
    "                ]\n",
    "            ],\n",
    "            # white player's view\n",
    "            [\n",
    "                # player\n",
    "                [\n",
    "                    [0, 0, 0, 0, 0, 0, 0],\n",
    "                    [0, 0, 0, 0, 0, 0, 0],\n",
    "                    [0, 0, 0, 0, 0, 0, 0],\n",
    "                    [1, 0, 0, 0, 0, 0, 0],\n",
    "                    [0, 0, 0, 0, 0, 0, 0],\n",
    "                    [1, 1, 0, 0, 0, 0, 0],\n",
    "                ],\n",
    "                # opponent\n",
    "                [\n",
    "                    [0, 0, 0, 0, 0, 0, 0],\n",
    "                    [0, 0, 0, 0, 0, 0, 0],\n",
    "                    [0, 0, 0, 0, 0, 0, 0],\n",
    "                    [0, 0, 1, 0, 0, 0, 0],\n",
    "                    [1, 0, 1, 0, 0, 0, 0],\n",
    "                    [0, 0, 1, 0, 1, 0, 0],\n",
    "                ]\n",
    "            ],\n",
    "        ])"
   ]
  },
  {
   "cell_type": "code",
   "execution_count": null,
   "id": "89250fe6",
   "metadata": {},
   "outputs": [],
   "source": [
    "pass"
   ]
  }
 ],
 "metadata": {
  "jupytext": {
   "cell_metadata_filter": "-all",
   "main_language": "python",
   "notebook_metadata_filter": "-all"
  }
 },
 "nbformat": 4,
 "nbformat_minor": 5
}
