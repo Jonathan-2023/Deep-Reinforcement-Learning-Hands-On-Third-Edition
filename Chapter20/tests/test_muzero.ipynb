{
 "cells": [
  {
   "cell_type": "code",
   "execution_count": null,
   "id": "bec5d647",
   "metadata": {},
   "outputs": [],
   "source": [
    "import numpy as np\n",
    "from lib import muzero as mu\n",
    "from lib import game"
   ]
  },
  {
   "cell_type": "code",
   "execution_count": null,
   "id": "d61aaae5",
   "metadata": {},
   "outputs": [],
   "source": [
    "def test_node():\n",
    "    n = mu.MCTSNode(0.5, first_plays=True)\n",
    "    assert not n.is_expanded\n",
    "    assert n.value == 0"
   ]
  },
  {
   "cell_type": "code",
   "execution_count": null,
   "id": "cc219b2b",
   "metadata": {},
   "outputs": [],
   "source": [
    "def test_mcts():\n",
    "    params = mu.MuZeroParams()\n",
    "    models = mu.MuZeroModels(mu.OBS_SHAPE, game.GAME_COLS)\n",
    "    min_max = mu.MinMaxStats()\n",
    "    root = mu.run_mcts(0, game.INITIAL_STATE, params, models,\n",
    "                       search_rounds=10, min_max=min_max)\n",
    "    assert root.is_expanded\n",
    "    assert len(root.children) == game.GAME_COLS\n",
    "    assert root.visit_count == 11"
   ]
  },
  {
   "cell_type": "code",
   "execution_count": null,
   "id": "0554b4f3",
   "metadata": {},
   "outputs": [],
   "source": [
    "def test_action_selection():\n",
    "    params = mu.MuZeroParams()\n",
    "    root = mu.MCTSNode(0.5, first_plays=True)\n",
    "    np.random.seed(10)\n",
    "    v = root.select_action(1, params)\n",
    "    assert v == 1\n",
    "    for a in range(params.actions_count):\n",
    "        root.children[a] = mu.MCTSNode(0.1, first_plays=False)\n",
    "    root.children[0].visit_count = 100\n",
    "    v = root.select_action(0.0000001, params)\n",
    "    assert v == 0\n",
    "    v = root.select_action(0.1, params)\n",
    "    assert v == 0"
   ]
  },
  {
   "cell_type": "code",
   "execution_count": null,
   "id": "c0181b3d",
   "metadata": {},
   "outputs": [],
   "source": [
    "def test_play_game():\n",
    "    params = mu.MuZeroParams()\n",
    "    models = mu.MuZeroModels(mu.OBS_SHAPE, game.GAME_COLS)\n",
    "    reward, episode = mu.play_game(\n",
    "        models, models, params, temperature=0,\n",
    "        init_state=8516337133269602564\n",
    "    )\n",
    "    assert episode"
   ]
  }
 ],
 "metadata": {
  "jupytext": {
   "cell_metadata_filter": "-all",
   "main_language": "python",
   "notebook_metadata_filter": "-all"
  }
 },
 "nbformat": 4,
 "nbformat_minor": 5
}
