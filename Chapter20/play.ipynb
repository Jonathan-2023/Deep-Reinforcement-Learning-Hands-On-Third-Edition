{
 "cells": [
  {
   "cell_type": "code",
   "execution_count": null,
   "id": "ba5a4338",
   "metadata": {},
   "outputs": [],
   "source": [
    "import sys\n",
    "import time\n",
    "import argparse"
   ]
  },
  {
   "cell_type": "code",
   "execution_count": null,
   "id": "7ad5d2c8",
   "metadata": {},
   "outputs": [],
   "source": [
    "from lib import game, model"
   ]
  },
  {
   "cell_type": "code",
   "execution_count": null,
   "id": "ded59341",
   "metadata": {
    "lines_to_next_cell": 2
   },
   "outputs": [],
   "source": [
    "import torch"
   ]
  },
  {
   "cell_type": "code",
   "execution_count": null,
   "id": "7f2ac538",
   "metadata": {
    "lines_to_next_cell": 2
   },
   "outputs": [],
   "source": [
    "MCTS_SEARCHES = 10\n",
    "MCTS_BATCH_SIZE = 8"
   ]
  },
  {
   "cell_type": "code",
   "execution_count": null,
   "id": "cc7f6c56",
   "metadata": {},
   "outputs": [],
   "source": [
    "if __name__ == \"__main__\":\n",
    "    parser = argparse.ArgumentParser()\n",
    "    parser.add_argument(\"models\", nargs='+', help=\"The list of models (at least 2) to play against each other\")\n",
    "    parser.add_argument(\"-r\", \"--rounds\", type=int, default=2, help=\"Count of rounds to perform for every pair\")\n",
    "    parser.add_argument(\"--cuda\", default=False, action=\"store_true\", help=\"Enable CUDA\")\n",
    "    args = parser.parse_args()\n",
    "    device = torch.device(\"cuda\" if args.cuda else \"cpu\")\n",
    "\n",
    "    nets = []\n",
    "    for fname in args.models:\n",
    "        net = model.Net(model.OBS_SHAPE, game.GAME_COLS)\n",
    "        net.load_state_dict(torch.load(fname, map_location=lambda storage, loc: storage, weights_only=True))\n",
    "        net = net.to(device)\n",
    "        nets.append((fname, net))\n",
    "\n",
    "    total_agent = {}\n",
    "    total_pairs = {}\n",
    "\n",
    "    for idx1, n1 in enumerate(nets):\n",
    "        for idx2, n2 in enumerate(nets):\n",
    "            if idx1 == idx2:\n",
    "                continue\n",
    "            wins, losses, draws = 0, 0, 0\n",
    "            ts = time.time()\n",
    "            for _ in range(args.rounds):\n",
    "                r, _ = model.play_game(mcts_stores=None, replay_buffer=None, net1=n1[1], net2=n2[1], steps_before_tau_0=0,\n",
    "                                    mcts_searches=MCTS_SEARCHES, mcts_batch_size=MCTS_BATCH_SIZE, device=device)\n",
    "                if r > 0.5:\n",
    "                    wins += 1\n",
    "                elif r < -0.5:\n",
    "                    losses += 1\n",
    "                else:\n",
    "                    draws += 1\n",
    "            speed_games = args.rounds / (time.time() - ts)\n",
    "            name_1, name_2 = n1[0], n2[0]\n",
    "            print(\"%s vs %s -> w=%d, l=%d, d=%d\" % (name_1, name_2, wins, losses, draws))\n",
    "            sys.stderr.write(\"Speed %.2f games/s\\n\" % speed_games)\n",
    "            sys.stdout.flush()\n",
    "            game.update_counts(total_agent, name_1, (wins, losses, draws))\n",
    "            game.update_counts(total_agent, name_2, (losses, wins, draws))\n",
    "            game.update_counts(total_pairs, (name_1, name_2), (wins, losses, draws))\n",
    "\n",
    "    # leaderboard by total wins\n",
    "    total_leaders = list(total_agent.items())\n",
    "    total_leaders.sort(reverse=True, key=lambda p: p[1][0])\n",
    "\n",
    "    print(\"Leaderboard:\")\n",
    "    for name, (wins, losses, draws) in total_leaders:\n",
    "        print(\"%s: \\t w=%d, l=%d, d=%d\" % (name, wins, losses, draws))"
   ]
  }
 ],
 "metadata": {
  "jupytext": {
   "cell_metadata_filter": "-all",
   "executable": "/usr/bin/env python3",
   "main_language": "python",
   "notebook_metadata_filter": "-all"
  }
 },
 "nbformat": 4,
 "nbformat_minor": 5
}
