{
 "cells": [
  {
   "cell_type": "code",
   "execution_count": null,
   "id": "267b25dd",
   "metadata": {},
   "outputs": [],
   "source": [
    "import argparse\n",
    "import gymnasium as gym"
   ]
  },
  {
   "cell_type": "code",
   "execution_count": null,
   "id": "7682ceb8",
   "metadata": {},
   "outputs": [],
   "source": [
    "from lib import common, model, kfac"
   ]
  },
  {
   "cell_type": "code",
   "execution_count": null,
   "id": "4532194c",
   "metadata": {
    "lines_to_next_cell": 2
   },
   "outputs": [],
   "source": [
    "import numpy as np\n",
    "import torch"
   ]
  },
  {
   "cell_type": "code",
   "execution_count": null,
   "id": "62f50a74",
   "metadata": {},
   "outputs": [],
   "source": [
    "if __name__ == \"__main__\":\n",
    "    parser = argparse.ArgumentParser()\n",
    "    parser.add_argument(\"-m\", \"--model\", required=True, help=\"Model file to load\")\n",
    "    parser.add_argument(\"-e\", \"--env\", choices=list(common.ENV_PARAMS.keys()),\n",
    "                        default='cheetah', help=\"Environment name to use, default=cheehah\")\n",
    "    parser.add_argument(\"-r\", \"--record\", help=\"If specified, sets the recording dir, default=Disabled\")\n",
    "    parser.add_argument(\"--acktr\", default=False, action='store_true', help=\"Enable Acktr-specific tweaks\")\n",
    "    parser.add_argument(\"--mujoco\", default=False, action='store_true', help=\"Enable MuJoCo, default=PyBullet\")\n",
    "    args = parser.parse_args()\n",
    "\n",
    "    env_id = common.register_env(args.env, args.mujoco)\n",
    "    env = gym.make(env_id, render_mode='rgb_array')\n",
    "    if args.record is not None:\n",
    "        env = gym.wrappers.RecordVideo(env, video_folder=args.record)\n",
    "\n",
    "    net = model.ModelActor(env.observation_space.shape[0], env.action_space.shape[0])\n",
    "    if args.acktr:\n",
    "        opt = kfac.KFACOptimizer(net)\n",
    "    net.load_state_dict(torch.load(args.model, map_location=torch.device('cpu'), weights_only=True))\n",
    "\n",
    "    obs, _ = env.reset()\n",
    "    total_reward = 0.0\n",
    "    total_steps = 0\n",
    "    while True:\n",
    "        obs_v = torch.FloatTensor(obs)\n",
    "        mu_v = net(obs_v)\n",
    "        action = mu_v.squeeze(dim=0).data.numpy()\n",
    "        action = np.clip(action, -1, 1)\n",
    "        if np.isscalar(action): \n",
    "            action = [action]\n",
    "        obs, reward, done, is_tr, _ = env.step(action)\n",
    "        total_reward += reward\n",
    "        total_steps += 1\n",
    "        if done or is_tr:\n",
    "            break\n",
    "    print(\"In %d steps we got %.3f reward\" % (total_steps, total_reward))"
   ]
  }
 ],
 "metadata": {
  "jupytext": {
   "cell_metadata_filter": "-all",
   "executable": "/usr/bin/env python3",
   "main_language": "python",
   "notebook_metadata_filter": "-all"
  }
 },
 "nbformat": 4,
 "nbformat_minor": 5
}
