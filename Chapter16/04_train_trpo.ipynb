{
 "cells": [
  {
   "cell_type": "code",
   "execution_count": null,
   "id": "6546b78b",
   "metadata": {},
   "outputs": [],
   "source": [
    "import os\n",
    "import ptan\n",
    "import time\n",
    "import gymnasium as gym\n",
    "import argparse\n",
    "from torch.utils.tensorboard.writer import SummaryWriter"
   ]
  },
  {
   "cell_type": "code",
   "execution_count": null,
   "id": "ef165c4d",
   "metadata": {},
   "outputs": [],
   "source": [
    "from lib import model, trpo, common"
   ]
  },
  {
   "cell_type": "code",
   "execution_count": null,
   "id": "60771dfe",
   "metadata": {
    "lines_to_next_cell": 2
   },
   "outputs": [],
   "source": [
    "import numpy as np\n",
    "import torch\n",
    "import torch.optim as optim\n",
    "import torch.nn.functional as F"
   ]
  },
  {
   "cell_type": "code",
   "execution_count": null,
   "id": "b810474f",
   "metadata": {},
   "outputs": [],
   "source": [
    "GAMMA = 0.99\n",
    "GAE_LAMBDA = 0.95"
   ]
  },
  {
   "cell_type": "code",
   "execution_count": null,
   "id": "91ede1b7",
   "metadata": {},
   "outputs": [],
   "source": [
    "TRAJECTORY_SIZE = 2049\n",
    "LEARNING_RATE_CRITIC = 1e-3"
   ]
  },
  {
   "cell_type": "code",
   "execution_count": null,
   "id": "6cd67291",
   "metadata": {},
   "outputs": [],
   "source": [
    "TRPO_MAX_KL = 0.01\n",
    "TRPO_DAMPING = 0.1"
   ]
  },
  {
   "cell_type": "code",
   "execution_count": null,
   "id": "ad2db65b",
   "metadata": {
    "lines_to_next_cell": 2
   },
   "outputs": [],
   "source": [
    "TEST_ITERS = 100000"
   ]
  },
  {
   "cell_type": "code",
   "execution_count": null,
   "id": "a4f34c86",
   "metadata": {
    "lines_to_next_cell": 2
   },
   "outputs": [],
   "source": [
    "if __name__ == \"__main__\":\n",
    "    parser = argparse.ArgumentParser()\n",
    "    parser.add_argument(\"--dev\", default=\"cpu\", help=\"Device to use, default=cpu\")\n",
    "    parser.add_argument(\"-n\", \"--name\", required=True, help=\"Name of the run\")\n",
    "    parser.add_argument(\"-e\", \"--env\", choices=list(common.ENV_PARAMS.keys()),\n",
    "                        default='cheetah', help=\"Environment id, default=cheetah\")\n",
    "    parser.add_argument(\"--mujoco\", default=False, action='store_true',\n",
    "                        help=\"If given, MuJoCo env will be used instead of PyBullet\")\n",
    "    parser.add_argument(\"--no-unhealthy\", default=False, action='store_true',\n",
    "                        help=\"Disable unhealthy checks in MuJoCo env\")\n",
    "    parser.add_argument(\"--lr\", default=LEARNING_RATE_CRITIC, type=float, help=\"Critic learning rate\")\n",
    "    parser.add_argument(\"--maxkl\", default=TRPO_MAX_KL, type=float, help=\"Maximum KL divergence\")\n",
    "    args = parser.parse_args()\n",
    "    device = torch.device(args.dev)\n",
    "\n",
    "    name = args.name + (\"-mujoco\" if args.mujoco else \"-pybullet\")\n",
    "    save_path = os.path.join(\"saves\", \"trpo-\" + name)\n",
    "    os.makedirs(save_path, exist_ok=True)\n",
    "\n",
    "    extra = {}\n",
    "    if args.mujoco and args.no_unhealthy:\n",
    "        extra['terminate_when_unhealthy'] = False\n",
    "    env_id = common.register_env(args.env, args.mujoco)\n",
    "    env = gym.make(env_id, **extra)\n",
    "    test_env = gym.make(env_id, **extra)\n",
    "\n",
    "    net_act = model.ModelActor(env.observation_space.shape[0], env.action_space.shape[0]).to(device)\n",
    "    net_crt = model.ModelCritic(env.observation_space.shape[0]).to(device)\n",
    "    print(net_act)\n",
    "    print(net_crt)\n",
    "\n",
    "    writer = SummaryWriter(comment=\"-trpo_\" + name)\n",
    "    agent = model.AgentA2C(net_act, device=device)\n",
    "    exp_source = ptan.experience.ExperienceSource(env, agent, steps_count=1)\n",
    "\n",
    "    opt_crt = optim.Adam(net_crt.parameters(), lr=args.lr)\n",
    "\n",
    "    trajectory = []\n",
    "    best_reward = None\n",
    "    with ptan.common.utils.RewardTracker(writer) as tracker:\n",
    "        for step_idx, exp in enumerate(exp_source):\n",
    "            rewards_steps = exp_source.pop_rewards_steps()\n",
    "            if rewards_steps:\n",
    "                rewards, steps = zip(*rewards_steps)\n",
    "                writer.add_scalar(\"episode_steps\", np.mean(steps), step_idx)\n",
    "                tracker.reward(np.mean(rewards), step_idx)\n",
    "\n",
    "            if step_idx % TEST_ITERS == 0:\n",
    "                ts = time.time()\n",
    "                rewards, steps = model.test_net(net_act, test_env, device=device)\n",
    "                print(\"Test done in %.2f sec, reward %.3f, steps %d\" % (\n",
    "                    time.time() - ts, rewards, steps))\n",
    "                writer.add_scalar(\"test_reward\", rewards, step_idx)\n",
    "                writer.add_scalar(\"test_steps\", steps, step_idx)\n",
    "                if best_reward is None or best_reward < rewards:\n",
    "                    if best_reward is not None:\n",
    "                        print(\"Best reward updated: %.3f -> %.3f\" % (best_reward, rewards))\n",
    "                        name = \"best_%+.3f_%d.dat\" % (rewards, step_idx)\n",
    "                        fname = os.path.join(save_path, name)\n",
    "                        torch.save(net_act.state_dict(), fname)\n",
    "                    best_reward = rewards\n",
    "\n",
    "            trajectory.append(exp)\n",
    "            if len(trajectory) < TRAJECTORY_SIZE:\n",
    "                continue\n",
    "\n",
    "            traj_states = [t[0].state for t in trajectory]\n",
    "            traj_actions = [t[0].action for t in trajectory]\n",
    "            traj_states_v = torch.FloatTensor(np.asarray(traj_states)).to(device)\n",
    "            traj_actions_v = torch.FloatTensor(np.asarray(traj_actions)).to(device)\n",
    "            traj_adv_v, traj_ref_v = common.calc_adv_ref(\n",
    "                trajectory, net_crt, traj_states_v,\n",
    "                GAMMA, GAE_LAMBDA, device=device)\n",
    "            mu_v = net_act(traj_states_v)\n",
    "            old_logprob_v = model.calc_logprob(mu_v, net_act.logstd, traj_actions_v)\n",
    "\n",
    "            # normalize advantages\n",
    "            traj_adv_v = (traj_adv_v - torch.mean(traj_adv_v)) / torch.std(traj_adv_v)\n",
    "\n",
    "            # drop last entry from the trajectory, an our adv and ref value calculated without it\n",
    "            trajectory = trajectory[:-1]\n",
    "            old_logprob_v = old_logprob_v[:-1].detach()\n",
    "            traj_states_v = traj_states_v[:-1]\n",
    "            traj_actions_v = traj_actions_v[:-1]\n",
    "            sum_loss_value = 0.0\n",
    "            sum_loss_policy = 0.0\n",
    "            count_steps = 0\n",
    "\n",
    "            # critic step\n",
    "            opt_crt.zero_grad()\n",
    "            value_v = net_crt(traj_states_v)\n",
    "            loss_value_v = F.mse_loss(value_v.squeeze(-1), traj_ref_v)\n",
    "            loss_value_v.backward()\n",
    "            opt_crt.step()\n",
    "\n",
    "            # actor step\n",
    "            def get_loss():\n",
    "                mu_v = net_act(traj_states_v)\n",
    "                logprob_v = model.calc_logprob(mu_v, net_act.logstd, traj_actions_v)\n",
    "                dp_v = torch.exp(logprob_v - old_logprob_v)\n",
    "                action_loss_v = -traj_adv_v.unsqueeze(dim=-1)*dp_v\n",
    "                return action_loss_v.mean()\n",
    "\n",
    "            def get_kl():\n",
    "                mu_v = net_act(traj_states_v)\n",
    "                logstd_v = net_act.logstd\n",
    "                mu0_v = mu_v.detach()\n",
    "                logstd0_v = logstd_v.detach()\n",
    "                std_v = torch.exp(logstd_v)\n",
    "                std0_v = std_v.detach()\n",
    "                v = (std0_v ** 2 + (mu0_v - mu_v) ** 2) / (2.0 * std_v ** 2)\n",
    "                kl = logstd_v - logstd0_v + v - 0.5\n",
    "                return kl.sum(1, keepdim=True)\n",
    "\n",
    "            trpo.trpo_step(net_act, get_loss, get_kl, args.maxkl,\n",
    "                           TRPO_DAMPING, device=device)\n",
    "\n",
    "            trajectory.clear()\n",
    "            writer.add_scalar(\"advantage\", traj_adv_v.mean().item(), step_idx)\n",
    "            writer.add_scalar(\"values\", traj_ref_v.mean().item(), step_idx)\n",
    "            writer.add_scalar(\"loss_value\", loss_value_v.item(), step_idx)"
   ]
  }
 ],
 "metadata": {
  "jupytext": {
   "cell_metadata_filter": "-all",
   "executable": "/usr/bin/env python3",
   "main_language": "python",
   "notebook_metadata_filter": "-all"
  }
 },
 "nbformat": 4,
 "nbformat_minor": 5
}
