{
 "cells": [
  {
   "cell_type": "code",
   "execution_count": null,
   "id": "b1d00a75",
   "metadata": {
    "lines_to_next_cell": 2
   },
   "outputs": [],
   "source": [
    "import gymnasium as gym\n",
    "import numpy as np\n",
    "import torch\n",
    "import ptan"
   ]
  },
  {
   "cell_type": "code",
   "execution_count": null,
   "id": "a96054db",
   "metadata": {},
   "outputs": [],
   "source": [
    "ENV_ID = \"MinitaurBulletEnv-v0\"\n",
    "ENTRY = \"pybullet_envs.bullet.minitaur_gym_env:MinitaurBulletEnv\""
   ]
  },
  {
   "cell_type": "code",
   "execution_count": null,
   "id": "75e8ad11",
   "metadata": {},
   "outputs": [],
   "source": []
  },
  {
   "cell_type": "code",
   "execution_count": null,
   "id": "7b519c99",
   "metadata": {},
   "outputs": [],
   "source": [
    "def register_env():\n",
    "    # Small hack to fix render_modes metadata\n",
    "    from pybullet_envs.bullet.minitaur_gym_env import MinitaurBulletEnv\n",
    "    MinitaurBulletEnv.metadata['render_modes'] = MinitaurBulletEnv.metadata.pop('render.modes')\n",
    "\n",
    "    # register environment in gymnasium registry, not gym's\n",
    "    gym.register(\n",
    "        ENV_ID, entry_point=ENTRY,\n",
    "        max_episode_steps=1000, reward_threshold=15.0,\n",
    "        apply_api_compatibility=True,\n",
    "        disable_env_checker=True,\n",
    "    )"
   ]
  },
  {
   "cell_type": "code",
   "execution_count": null,
   "id": "f3165f6c",
   "metadata": {},
   "outputs": [],
   "source": [
    "def unpack_batch_a2c(batch, net, last_val_gamma, device=\"cpu\"):\n",
    "    \"\"\"\n",
    "    Convert batch into training tensors\n",
    "    :param batch:\n",
    "    :param net:\n",
    "    :return: states variable, actions tensor, reference values variable\n",
    "    \"\"\"\n",
    "    states = []\n",
    "    actions = []\n",
    "    rewards = []\n",
    "    not_done_idx = []\n",
    "    last_states = []\n",
    "    for idx, exp in enumerate(batch):\n",
    "        states.append(exp.state)\n",
    "        actions.append(exp.action)\n",
    "        rewards.append(exp.reward)\n",
    "        if exp.last_state is not None:\n",
    "            not_done_idx.append(idx)\n",
    "            last_states.append(exp.last_state)\n",
    "    states_v = ptan.agent.float32_preprocessor(states).to(device)\n",
    "    actions_v = torch.FloatTensor(np.asarray(actions)).to(device)\n",
    "\n",
    "    # handle rewards\n",
    "    rewards_np = np.array(rewards, dtype=np.float32)\n",
    "    if not_done_idx:\n",
    "        last_states_v = ptan.agent.float32_preprocessor(last_states).to(device)\n",
    "        last_vals_v = net(last_states_v)[2]\n",
    "        last_vals_np = last_vals_v.data.cpu().numpy()[:, 0]\n",
    "        rewards_np[not_done_idx] += last_val_gamma * last_vals_np\n",
    "\n",
    "    ref_vals_v = torch.FloatTensor(rewards_np).to(device)\n",
    "    return states_v, actions_v, ref_vals_v"
   ]
  },
  {
   "cell_type": "code",
   "execution_count": null,
   "id": "84c3ea53",
   "metadata": {},
   "outputs": [],
   "source": [
    "def unpack_batch_ddqn(batch, device=\"cpu\"):\n",
    "    states, actions, rewards, dones, last_states = [], [], [], [], []\n",
    "    for exp in batch:\n",
    "        states.append(exp.state)\n",
    "        actions.append(exp.action)\n",
    "        rewards.append(exp.reward)\n",
    "        dones.append(exp.last_state is None)\n",
    "        if exp.last_state is None:\n",
    "            last_states.append(exp.state)\n",
    "        else:\n",
    "            last_states.append(exp.last_state)\n",
    "    states_v = ptan.agent.float32_preprocessor(states).to(device)\n",
    "    actions_v = ptan.agent.float32_preprocessor(actions).to(device)\n",
    "    rewards_v = ptan.agent.float32_preprocessor(rewards).to(device)\n",
    "    last_states_v = ptan.agent.float32_preprocessor(last_states).to(device)\n",
    "    dones_t = torch.BoolTensor(dones).to(device)\n",
    "    return states_v, actions_v, rewards_v, dones_t, last_states_v"
   ]
  }
 ],
 "metadata": {
  "jupytext": {
   "cell_metadata_filter": "-all",
   "main_language": "python",
   "notebook_metadata_filter": "-all"
  }
 },
 "nbformat": 4,
 "nbformat_minor": 5
}
