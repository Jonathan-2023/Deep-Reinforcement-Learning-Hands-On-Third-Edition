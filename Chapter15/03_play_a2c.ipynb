{
 "cells": [
  {
   "cell_type": "code",
   "execution_count": null,
   "id": "462c55f5",
   "metadata": {},
   "outputs": [],
   "source": [
    "import argparse\n",
    "import gymnasium as gym"
   ]
  },
  {
   "cell_type": "code",
   "execution_count": null,
   "id": "e5b29083",
   "metadata": {},
   "outputs": [],
   "source": [
    "from lib import model, common"
   ]
  },
  {
   "cell_type": "code",
   "execution_count": null,
   "id": "f5a99246",
   "metadata": {
    "lines_to_next_cell": 2
   },
   "outputs": [],
   "source": [
    "import numpy as np\n",
    "import torch"
   ]
  },
  {
   "cell_type": "code",
   "execution_count": null,
   "id": "bb2c3076",
   "metadata": {},
   "outputs": [],
   "source": [
    "if __name__ == \"__main__\":\n",
    "    parser = argparse.ArgumentParser()\n",
    "    parser.add_argument(\"-m\", \"--model\", required=True, help=\"Model file to load\")\n",
    "    parser.add_argument(\"-r\", \"--record\", help=\"If specified, sets the recording dir, default=Disabled\")\n",
    "    args = parser.parse_args()\n",
    "\n",
    "    common.register_env()\n",
    "    env = gym.make(common.ENV_ID, render_mode='rgb_array')\n",
    "    if args.record is not None:\n",
    "        env = gym.wrappers.RecordVideo(env, video_folder=args.record)\n",
    "\n",
    "    net = model.ModelA2C(env.observation_space.shape[0], env.action_space.shape[0])\n",
    "    net.load_state_dict(torch.load(args.model, map_location=torch.device('cpu'), weights_only=True))\n",
    "\n",
    "    obs, _ = env.reset()\n",
    "    total_reward = 0.0\n",
    "    total_steps = 0\n",
    "    while True:\n",
    "        obs_v = torch.FloatTensor(np.expand_dims(obs, 0))\n",
    "        mu_v, var_v, val_v = net(obs_v)\n",
    "        action = mu_v.squeeze(dim=0).data.numpy()\n",
    "        action = np.clip(action, -1, 1)\n",
    "        obs, reward, done, is_tr, _ = env.step(action)\n",
    "        total_reward += reward\n",
    "        total_steps += 1\n",
    "        if done or is_tr:\n",
    "            break\n",
    "    print(\"In %d steps we got %.3f reward\" % (total_steps, total_reward))\n",
    "    env.close()"
   ]
  }
 ],
 "metadata": {
  "jupytext": {
   "cell_metadata_filter": "-all",
   "executable": "/usr/bin/env python3",
   "main_language": "python",
   "notebook_metadata_filter": "-all"
  }
 },
 "nbformat": 4,
 "nbformat_minor": 5
}
