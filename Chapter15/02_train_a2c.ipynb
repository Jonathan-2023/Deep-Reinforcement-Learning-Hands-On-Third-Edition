{
 "cells": [
  {
   "cell_type": "code",
   "execution_count": null,
   "id": "5a8e5818",
   "metadata": {},
   "outputs": [],
   "source": [
    "import os\n",
    "import time\n",
    "import math\n",
    "import ptan\n",
    "import gymnasium as gym\n",
    "import argparse\n",
    "from torch.utils.tensorboard.writer import SummaryWriter"
   ]
  },
  {
   "cell_type": "code",
   "execution_count": null,
   "id": "cbf2b23c",
   "metadata": {},
   "outputs": [],
   "source": [
    "from lib import model, common"
   ]
  },
  {
   "cell_type": "code",
   "execution_count": null,
   "id": "aa3c7673",
   "metadata": {
    "lines_to_next_cell": 2
   },
   "outputs": [],
   "source": [
    "import numpy as np\n",
    "import torch\n",
    "import torch.optim as optim\n",
    "import torch.nn.functional as F"
   ]
  },
  {
   "cell_type": "code",
   "execution_count": null,
   "id": "811cdc6e",
   "metadata": {},
   "outputs": [],
   "source": [
    "GAMMA = 0.99\n",
    "REWARD_STEPS = 2\n",
    "BATCH_SIZE = 32\n",
    "LEARNING_RATE = 5e-5\n",
    "ENTROPY_BETA = 1e-4"
   ]
  },
  {
   "cell_type": "code",
   "execution_count": null,
   "id": "94ad0891",
   "metadata": {},
   "outputs": [],
   "source": [
    "TEST_ITERS = 1000"
   ]
  },
  {
   "cell_type": "code",
   "execution_count": null,
   "id": "9e192bfc",
   "metadata": {},
   "outputs": [],
   "source": [
    "def test_net(net: model.ModelA2C, env: gym.Env, count: int = 10,\n",
    "             device: torch.device = torch.device(\"cpu\")):\n",
    "    rewards = 0.0\n",
    "    steps = 0\n",
    "    for _ in range(count):\n",
    "        obs, _ = env.reset()\n",
    "        while True:\n",
    "            obs_v = ptan.agent.float32_preprocessor([obs])\n",
    "            obs_v = obs_v.to(device)\n",
    "            mu_v = net(obs_v)[0]\n",
    "            action = mu_v.squeeze(dim=0).data.cpu().numpy()\n",
    "            action = np.clip(action, -1, 1)\n",
    "            obs, reward, done, is_tr, _ = env.step(action)\n",
    "            rewards += reward\n",
    "            steps += 1\n",
    "            if done or is_tr:\n",
    "                break\n",
    "    return rewards / count, steps / count"
   ]
  },
  {
   "cell_type": "code",
   "execution_count": null,
   "id": "2ca35ae7",
   "metadata": {},
   "outputs": [],
   "source": [
    "def calc_logprob(mu_v: torch.Tensor, var_v: torch.Tensor, actions_v: torch.Tensor):\n",
    "    p1 = - ((mu_v - actions_v) ** 2) / (2*var_v.clamp(min=1e-3))\n",
    "    p2 = - torch.log(torch.sqrt(2 * math.pi * var_v))\n",
    "    return p1 + p2"
   ]
  },
  {
   "cell_type": "code",
   "execution_count": null,
   "id": "7ebb17a3",
   "metadata": {},
   "outputs": [],
   "source": [
    "if __name__ == \"__main__\":\n",
    "    parser = argparse.ArgumentParser()\n",
    "    parser.add_argument(\"--dev\", default=\"cpu\",\n",
    "                        help=\"Device to use, default=cpu\")\n",
    "    parser.add_argument(\"-n\", \"--name\", required=True, help=\"Name of the run\")\n",
    "    args = parser.parse_args()\n",
    "    device = torch.device(args.dev)\n",
    "\n",
    "    save_path = os.path.join(\"saves\", \"a2c-\" + args.name)\n",
    "    os.makedirs(save_path, exist_ok=True)\n",
    "\n",
    "    common.register_env()\n",
    "    env = gym.make(common.ENV_ID)\n",
    "    test_env = gym.make(common.ENV_ID)\n",
    "\n",
    "    net = model.ModelA2C(env.observation_space.shape[0], env.action_space.shape[0]).to(device)\n",
    "    print(net)\n",
    "\n",
    "    writer = SummaryWriter(comment=\"-a2c_\" + args.name)\n",
    "    agent = model.AgentA2C(net, device=device)\n",
    "    exp_source = ptan.experience.ExperienceSourceFirstLast(env, agent, GAMMA, steps_count=REWARD_STEPS)\n",
    "\n",
    "    optimizer = optim.Adam(net.parameters(), lr=LEARNING_RATE)\n",
    "\n",
    "    batch = []\n",
    "    best_reward = None\n",
    "    with ptan.common.utils.RewardTracker(writer) as tracker:\n",
    "        with ptan.common.utils.TBMeanTracker(writer, batch_size=10) as tb_tracker:\n",
    "            for step_idx, exp in enumerate(exp_source):\n",
    "                rewards_steps = exp_source.pop_rewards_steps()\n",
    "                if rewards_steps:\n",
    "                    rewards, steps = zip(*rewards_steps)\n",
    "                    tb_tracker.track(\"episode_steps\", steps[0], step_idx)\n",
    "                    tracker.reward(rewards[0], step_idx)\n",
    "\n",
    "                if step_idx % TEST_ITERS == 0:\n",
    "                    ts = time.time()\n",
    "                    rewards, steps = test_net(net, test_env, device=device)\n",
    "                    print(\"Test done is %.2f sec, reward %.3f, steps %d\" % (\n",
    "                        time.time() - ts, rewards, steps))\n",
    "                    writer.add_scalar(\"test_reward\", rewards, step_idx)\n",
    "                    writer.add_scalar(\"test_steps\", steps, step_idx)\n",
    "                    if best_reward is None or best_reward < rewards:\n",
    "                        if best_reward is not None:\n",
    "                            print(\"Best reward updated: %.3f -> %.3f\" % (best_reward, rewards))\n",
    "                            name = \"best_%+.3f_%d.dat\" % (rewards, step_idx)\n",
    "                            fname = os.path.join(save_path, name)\n",
    "                            torch.save(net.state_dict(), fname)\n",
    "                        best_reward = rewards\n",
    "\n",
    "                batch.append(exp)\n",
    "                if len(batch) < BATCH_SIZE:\n",
    "                    continue\n",
    "\n",
    "                states_v, actions_v, vals_ref_v = common.unpack_batch_a2c(\n",
    "                    batch, net, device=device, last_val_gamma=GAMMA ** REWARD_STEPS)\n",
    "                batch.clear()\n",
    "\n",
    "                optimizer.zero_grad()\n",
    "                mu_v, var_v, value_v = net(states_v)\n",
    "\n",
    "                loss_value_v = F.mse_loss(value_v.squeeze(-1), vals_ref_v)\n",
    "                adv_v = vals_ref_v.unsqueeze(dim=-1) - value_v.detach()\n",
    "                log_prob_v = adv_v * calc_logprob(mu_v, var_v, actions_v)\n",
    "                loss_policy_v = -log_prob_v.mean()\n",
    "                ent_v = -(torch.log(2*math.pi*var_v) + 1)/2\n",
    "                entropy_loss_v = ENTROPY_BETA * ent_v.mean()\n",
    "\n",
    "                loss_v = loss_policy_v + entropy_loss_v + loss_value_v\n",
    "                loss_v.backward()\n",
    "                optimizer.step()\n",
    "\n",
    "                tb_tracker.track(\"advantage\", adv_v, step_idx)\n",
    "                tb_tracker.track(\"values\", value_v, step_idx)\n",
    "                tb_tracker.track(\"batch_rewards\", vals_ref_v, step_idx)\n",
    "                tb_tracker.track(\"loss_entropy\", entropy_loss_v, step_idx)\n",
    "                tb_tracker.track(\"loss_policy\", loss_policy_v, step_idx)\n",
    "                tb_tracker.track(\"loss_value\", loss_value_v, step_idx)\n",
    "                tb_tracker.track(\"loss_total\", loss_v, step_idx)"
   ]
  }
 ],
 "metadata": {
  "jupytext": {
   "cell_metadata_filter": "-all",
   "executable": "/usr/bin/env python3",
   "main_language": "python",
   "notebook_metadata_filter": "-all"
  }
 },
 "nbformat": 4,
 "nbformat_minor": 5
}
