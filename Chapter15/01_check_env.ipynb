{
 "cells": [
  {
   "cell_type": "code",
   "execution_count": null,
   "id": "b7390659",
   "metadata": {},
   "outputs": [],
   "source": [
    "import gymnasium as gym"
   ]
  },
  {
   "cell_type": "code",
   "execution_count": null,
   "id": "fbba10b7",
   "metadata": {
    "lines_to_next_cell": 2
   },
   "outputs": [],
   "source": [
    "ENV_ID = \"MinitaurBulletEnv-v0\"\n",
    "ENTRY = \"pybullet_envs.bullet.minitaur_gym_env:MinitaurBulletEnv\"\n",
    "RENDER = True"
   ]
  },
  {
   "cell_type": "code",
   "execution_count": null,
   "id": "cf92b00d",
   "metadata": {},
   "outputs": [],
   "source": [
    "if __name__ == \"__main__\":\n",
    "    gym.register(ENV_ID, entry_point=ENTRY, max_episode_steps=1000,\n",
    "                 reward_threshold=15.0, disable_env_checker=True)\n",
    "    env = gym.make(ENV_ID, render=RENDER)\n",
    "\n",
    "    print(\"Observation space:\", env.observation_space)\n",
    "    print(\"Action space:\", env.action_space)\n",
    "    print(env)\n",
    "    print(env.reset())\n",
    "    input(\"Press any key to exit\\n\")\n",
    "    env.close()"
   ]
  }
 ],
 "metadata": {
  "jupytext": {
   "cell_metadata_filter": "-all",
   "executable": "/usr/bin/env python3",
   "main_language": "python",
   "notebook_metadata_filter": "-all"
  }
 },
 "nbformat": 4,
 "nbformat_minor": 5
}
