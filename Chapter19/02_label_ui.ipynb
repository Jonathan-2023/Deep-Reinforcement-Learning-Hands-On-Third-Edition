{
 "cells": [
  {
   "cell_type": "code",
   "execution_count": null,
   "id": "208869af",
   "metadata": {},
   "outputs": [],
   "source": [
    "\"\"\"\n",
    "Web interface to label stored data\n",
    "\"\"\"\n",
    "import argparse"
   ]
  },
  {
   "cell_type": "code",
   "execution_count": null,
   "id": "c2ea1af9",
   "metadata": {},
   "outputs": [],
   "source": [
    "from nicegui import ui\n",
    "import typing as tt"
   ]
  },
  {
   "cell_type": "code",
   "execution_count": null,
   "id": "05496f38",
   "metadata": {},
   "outputs": [],
   "source": [
    "from lib import ui_tools, rlhf"
   ]
  },
  {
   "cell_type": "code",
   "execution_count": null,
   "id": "79169be1",
   "metadata": {},
   "outputs": [],
   "source": [
    "db: tt.Optional[rlhf.Database] = None\n",
    "to_label: tt.List[rlhf.HumanLabel] = []"
   ]
  },
  {
   "cell_type": "code",
   "execution_count": null,
   "id": "b97f0254",
   "metadata": {},
   "outputs": [],
   "source": []
  },
  {
   "cell_type": "code",
   "execution_count": null,
   "id": "386b2717",
   "metadata": {},
   "outputs": [],
   "source": [
    "def label_ui():\n",
    "    with ui.splitter().classes(\"w-full\") as splitter:\n",
    "        with splitter.before:\n",
    "            ui.label(\"List with data samples\")\n",
    "        with splitter.after:\n",
    "            ui.label(\"Interface with gif\")"
   ]
  },
  {
   "cell_type": "code",
   "execution_count": null,
   "id": "c218050d",
   "metadata": {},
   "outputs": [],
   "source": [
    "@ui.page(ui_tools.URL_ROOT, title=\"RLHF db overview\")\n",
    "def view_root():\n",
    "    ui_tools.drawers(ui_tools.URL_ROOT)\n",
    "    ui.label(f\"DB path: {db.db_root}\")\n",
    "    ui.label(f\"Trajectories: {len(db.paths)}\")\n",
    "    ui.label(f\"Human Labels: {len(db.labels)}\")"
   ]
  },
  {
   "cell_type": "code",
   "execution_count": null,
   "id": "4b0cef17",
   "metadata": {},
   "outputs": [],
   "source": [
    "@ui.page(ui_tools.URL_LABEL, title=\"RLHF label data\")\n",
    "def view_label():\n",
    "    ui_tools.drawers(ui_tools.URL_LABEL)\n",
    "    ui_tools.label_list_view(db, to_label)"
   ]
  },
  {
   "cell_type": "code",
   "execution_count": null,
   "id": "076ec182",
   "metadata": {},
   "outputs": [],
   "source": [
    "@ui.page(ui_tools.URL_DATA, title=\"RLHF existing data\")\n",
    "def view_label():\n",
    "    ui_tools.drawers(ui_tools.URL_DATA)\n",
    "    # make a copy, just in case\n",
    "    labels_list = list(db.labels)\n",
    "    ui_tools.label_list_view(db, labels_list, show_resample_list=False)"
   ]
  },
  {
   "cell_type": "code",
   "execution_count": null,
   "id": "92680980",
   "metadata": {},
   "outputs": [],
   "source": [
    "if __name__ in {\"__main__\", \"__mp_main__\"}:\n",
    "    parser = argparse.ArgumentParser()\n",
    "    parser.add_argument(\"-d\", \"--db\", required=True, help=\"DB path to label\")\n",
    "    args = parser.parse_args()\n",
    "\n",
    "    db = rlhf.load_db(args.db)\n",
    "    to_label = rlhf.sample_to_label(db)\n",
    "\n",
    "    ui.run(host='0.0.0.0', port=8080, show=False)"
   ]
  }
 ],
 "metadata": {
  "jupytext": {
   "cell_metadata_filter": "-all",
   "executable": "/usr/bin/env python3",
   "main_language": "python",
   "notebook_metadata_filter": "-all"
  }
 },
 "nbformat": 4,
 "nbformat_minor": 5
}
