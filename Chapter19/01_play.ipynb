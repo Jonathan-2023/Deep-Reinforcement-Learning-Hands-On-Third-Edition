{
 "cells": [
  {
   "cell_type": "code",
   "execution_count": null,
   "id": "368525d6",
   "metadata": {},
   "outputs": [],
   "source": [
    "import argparse\n",
    "import pathlib"
   ]
  },
  {
   "cell_type": "code",
   "execution_count": null,
   "id": "38025164",
   "metadata": {},
   "outputs": [],
   "source": [
    "import gymnasium as gym"
   ]
  },
  {
   "cell_type": "code",
   "execution_count": null,
   "id": "0dc741cb",
   "metadata": {},
   "outputs": [],
   "source": [
    "from lib import common, rlhf\n",
    "import ptan"
   ]
  },
  {
   "cell_type": "code",
   "execution_count": null,
   "id": "0bd7fd4a",
   "metadata": {
    "lines_to_next_cell": 2
   },
   "outputs": [],
   "source": [
    "import numpy as np\n",
    "import torch\n",
    "import torch.nn.functional as F"
   ]
  },
  {
   "cell_type": "code",
   "execution_count": null,
   "id": "96032c0e",
   "metadata": {},
   "outputs": [],
   "source": [
    "if __name__ == \"__main__\":\n",
    "    parser = argparse.ArgumentParser()\n",
    "    parser.add_argument(\"-m\", \"--model\", required=True, help=\"Model file to load\")\n",
    "    parser.add_argument(\"-e\", \"--env\", default=\"SeaquestNoFrameskip-v4\",\n",
    "                        help=\"Environment name to use, default=SeaquestNoFrameskip-v4\")\n",
    "    parser.add_argument(\"-r\", \"--record\", help=\"If specified, sets the recording dir, default=Disabled\")\n",
    "    parser.add_argument(\"-n\", type=int, help=\"Count of experiments to run\")\n",
    "    parser.add_argument(\"--reward\", help=\"Path to reward model, if not given - use env reward\")\n",
    "    args = parser.parse_args()\n",
    "\n",
    "    rounds = args.n if args.n is not None else 1\n",
    "    logs = []\n",
    "\n",
    "    for round in range(rounds):\n",
    "        video_folder = args.record\n",
    "        if args.n is not None:\n",
    "            video_folder += \"-\" + str(round)\n",
    "        env = gym.make(args.env, render_mode='rgb_array')\n",
    "        if args.record is not None:\n",
    "            env = gym.wrappers.RecordVideo(env, video_folder=video_folder)\n",
    "        if args.reward is not None:\n",
    "            p = pathlib.Path(args.reward)\n",
    "            env = rlhf.RewardModelWrapper(env, p, dev=torch.device(\"cpu\"))\n",
    "        env = ptan.common.wrappers.wrap_dqn(env, clip_reward=False)\n",
    "        print(env)\n",
    "\n",
    "        net = common.AtariA2C(env.observation_space.shape, env.action_space.n)\n",
    "        net.load_state_dict(torch.load(args.model, map_location=torch.device('cpu'), weights_only=True))\n",
    "\n",
    "        obs, _ = env.reset()\n",
    "        total_reward = 0.0\n",
    "        total_steps = 0\n",
    "        while True:\n",
    "            obs_v = torch.FloatTensor(obs).unsqueeze(0)\n",
    "            policy_v = net(obs_v)[0]\n",
    "            policy_v = F.softmax(policy_v, dim=1)\n",
    "            probs = policy_v[0].detach().cpu().numpy()\n",
    "            action = np.random.choice(len(probs), p=probs)\n",
    "            obs, reward, done, is_tr, _ = env.step(action)\n",
    "            total_reward += reward\n",
    "            total_steps += 1\n",
    "            if done or is_tr:\n",
    "                break\n",
    "            if total_steps > 100000:\n",
    "                break\n",
    "        logs.append(\"%d: %d steps we got %.3f reward\" % (round, total_steps, total_reward))\n",
    "        env.close()\n",
    "    print(\"\\n\".join(logs))"
   ]
  }
 ],
 "metadata": {
  "jupytext": {
   "cell_metadata_filter": "-all",
   "executable": "/usr/bin/env python3",
   "main_language": "python",
   "notebook_metadata_filter": "-all"
  }
 },
 "nbformat": 4,
 "nbformat_minor": 5
}
