{
 "cells": [
  {
   "cell_type": "code",
   "execution_count": null,
   "id": "0cc2247c",
   "metadata": {
    "lines_to_next_cell": 2
   },
   "outputs": [],
   "source": [
    "import pickle\n",
    "import argparse\n",
    "import pathlib\n",
    "from PIL import Image"
   ]
  },
  {
   "cell_type": "code",
   "execution_count": null,
   "id": "97cd85f0",
   "metadata": {},
   "outputs": [],
   "source": [
    "if __name__ == \"__main__\":\n",
    "    parser = argparse.ArgumentParser()\n",
    "    parser.add_argument(\"-i\", \"--input\", required=True, help=\"Input file name\")\n",
    "    parser.add_argument(\"-o\", \"--output\", required=True, help=\"Output file name\")\n",
    "    args = parser.parse_args()\n",
    "\n",
    "    dat = pathlib.Path(args.input).read_bytes()\n",
    "    steps = pickle.loads(dat)\n",
    "    print(len(steps))\n",
    "    sh = steps[0].obs.shape\n",
    "    im = Image.new(\"RGB\", (sh[1], sh[0]), (0, 0, 0))\n",
    "    images = [\n",
    "        Image.fromarray(step.obs)\n",
    "        for step in steps\n",
    "    ]\n",
    "    im.save(args.output, save_all=True, append_images=images,\n",
    "            duration=300, loop=0)"
   ]
  }
 ],
 "metadata": {
  "jupytext": {
   "cell_metadata_filter": "-all",
   "executable": "/usr/bin/env python3",
   "main_language": "python",
   "notebook_metadata_filter": "-all"
  }
 },
 "nbformat": 4,
 "nbformat_minor": 5
}
