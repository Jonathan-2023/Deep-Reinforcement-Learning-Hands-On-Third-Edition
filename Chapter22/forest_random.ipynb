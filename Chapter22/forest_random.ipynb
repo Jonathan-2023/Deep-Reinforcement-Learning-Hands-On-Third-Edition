{
 "cells": [
  {
   "cell_type": "code",
   "execution_count": null,
   "id": "58ad75af",
   "metadata": {},
   "outputs": [],
   "source": [
    "from gymnasium.wrappers.monitoring.video_recorder import VideoRecorder\n",
    "from lib import data\n",
    "from PIL import Image\n",
    "import pathlib\n",
    "import numpy as np"
   ]
  },
  {
   "cell_type": "code",
   "execution_count": null,
   "id": "bf6a4f96",
   "metadata": {},
   "outputs": [],
   "source": [
    "RENDER_DIR = \"render\""
   ]
  },
  {
   "cell_type": "code",
   "execution_count": null,
   "id": "5a26868b",
   "metadata": {},
   "outputs": [],
   "source": [
    "def save_render(render: np.ndarray, path: pathlib.Path, step: int):\n",
    "    img = Image.fromarray(render)\n",
    "    p = path / f\"render_{step:04d}.png\"\n",
    "    img.save(str(p))"
   ]
  },
  {
   "cell_type": "code",
   "execution_count": null,
   "id": "3452d687",
   "metadata": {},
   "outputs": [],
   "source": [
    "if __name__ == \"__main__\":\n",
    "    env = data.ForestEnv(render_mode=\"rgb_array\")\n",
    "    recorder = VideoRecorder(env, RENDER_DIR + \"/forest-random.mp4\")\n",
    "    sum_rewards = {agent_id: 0.0 for agent_id in env.agents}\n",
    "    sum_steps = {agent_id: 0 for agent_id in env.agents}\n",
    "    obs = env.reset()\n",
    "    recorder.capture_frame()\n",
    "    assert isinstance(obs, dict)\n",
    "    print(f\"tiger_0: obs {obs['tiger_0'].shape}, act: {env.action_space('tiger_0')}\")\n",
    "    print(f\"deer_0: obs {obs['deer_0'].shape}, act: {env.action_space('deer_0')}\\n\")\n",
    "    step = 0\n",
    "    save_render(env.render(), pathlib.Path(RENDER_DIR), step)\n",
    "\n",
    "    while env.agents:\n",
    "        actions = {agent_id: env.action_space(agent_id).sample() for agent_id in env.agents}\n",
    "        all_obs, all_rewards, all_dones, all_trunc, all_info = env.step(actions)\n",
    "        recorder.capture_frame()\n",
    "        for agent_id, r in all_rewards.items():\n",
    "            sum_rewards[agent_id] += r\n",
    "            sum_steps[agent_id] += 1\n",
    "        step += 1\n",
    "        save_render(env.render(), pathlib.Path(RENDER_DIR), step)\n",
    "\n",
    "    final_rewards = list(sum_rewards.items())\n",
    "    final_rewards.sort(key=lambda p: p[1], reverse=True)\n",
    "    for agent_id, r in final_rewards[:20]:\n",
    "        print(f\"{agent_id}: got {r:.2f} in {sum_steps[agent_id]} steps\")\n",
    "    recorder.close()"
   ]
  }
 ],
 "metadata": {
  "jupytext": {
   "cell_metadata_filter": "-all",
   "executable": "/usr/bin/env python3",
   "main_language": "python",
   "notebook_metadata_filter": "-all"
  }
 },
 "nbformat": 4,
 "nbformat_minor": 5
}
