{
 "cells": [
  {
   "cell_type": "code",
   "execution_count": null,
   "id": "5727cedf",
   "metadata": {
    "lines_to_next_cell": 2
   },
   "outputs": [],
   "source": [
    "import typing as tt\n",
    "import torch\n",
    "from torch import nn\n",
    "import numpy as np\n",
    "import gymnasium as gym"
   ]
  },
  {
   "cell_type": "code",
   "execution_count": null,
   "id": "959cd5c3",
   "metadata": {},
   "outputs": [],
   "source": [
    "TNoise = tt.List[torch.Tensor]"
   ]
  },
  {
   "cell_type": "code",
   "execution_count": null,
   "id": "b8705c70",
   "metadata": {},
   "outputs": [],
   "source": [
    "def sample_noise(\n",
    "        net: nn.Module,\n",
    "        device: torch.device = torch.device('cpu')\n",
    ") -> tt.Tuple[TNoise, TNoise]:\n",
    "    pos = []\n",
    "    neg = []\n",
    "    for p in net.parameters():\n",
    "        noise = np.random.normal(size=p.data.size())\n",
    "        pos.append(torch.FloatTensor(noise).to(device))\n",
    "        neg.append(torch.FloatTensor(-noise).to(device))\n",
    "    return pos, neg"
   ]
  },
  {
   "cell_type": "code",
   "execution_count": null,
   "id": "28d3a841",
   "metadata": {},
   "outputs": [],
   "source": [
    "def evaluate(env: gym.Env, net: nn.Module, get_max_action: bool = True,\n",
    "             device: torch.device = torch.device('cpu')) -> tt.Tuple[float, int]:\n",
    "    obs, _ = env.reset()\n",
    "    reward = 0.0\n",
    "    steps = 0\n",
    "    while True:\n",
    "        obs_v = torch.FloatTensor(np.expand_dims(obs, 0)).to(device)\n",
    "        act_v = net(obs_v)\n",
    "        if get_max_action:\n",
    "            act = act_v.max(dim=1)[1].data.numpy()[0]\n",
    "        else:\n",
    "            act = act_v.data.cpu().numpy()[0]\n",
    "        obs, r, done, is_tr, _ = env.step(act)\n",
    "        reward += r\n",
    "        steps += 1\n",
    "        if done or is_tr:\n",
    "            break\n",
    "    return reward, steps"
   ]
  },
  {
   "cell_type": "code",
   "execution_count": null,
   "id": "ca79b84a",
   "metadata": {},
   "outputs": [],
   "source": [
    "def eval_with_noise(env: gym.Env, net: nn.Module, noise: TNoise, noise_std: float,\n",
    "        get_max_action: bool = True, device: torch.device = torch.device(\"cpu\")\n",
    ") -> tt.Tuple[float, int]:\n",
    "    old_params = net.state_dict()\n",
    "    for p, p_n in zip(net.parameters(), noise):\n",
    "        p.data += noise_std * p_n\n",
    "    r, s = evaluate(env, net, get_max_action=get_max_action, device=device)\n",
    "    net.load_state_dict(old_params)\n",
    "    return r, s"
   ]
  }
 ],
 "metadata": {
  "jupytext": {
   "cell_metadata_filter": "-all",
   "main_language": "python",
   "notebook_metadata_filter": "-all"
  }
 },
 "nbformat": 4,
 "nbformat_minor": 5
}
