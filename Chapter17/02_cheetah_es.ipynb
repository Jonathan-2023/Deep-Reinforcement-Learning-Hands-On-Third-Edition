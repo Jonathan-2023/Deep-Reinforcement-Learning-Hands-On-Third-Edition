{
 "cells": [
  {
   "cell_type": "code",
   "execution_count": null,
   "id": "becf57c9",
   "metadata": {},
   "outputs": [],
   "source": [
    "import gymnasium as gym\n",
    "from dataclasses import dataclass\n",
    "import time\n",
    "import argparse\n",
    "import numpy as np\n",
    "import typing as tt"
   ]
  },
  {
   "cell_type": "code",
   "execution_count": null,
   "id": "9118c906",
   "metadata": {},
   "outputs": [],
   "source": [
    "import torch\n",
    "import torch.nn as nn\n",
    "from torch import multiprocessing as mp\n",
    "from torch import optim"
   ]
  },
  {
   "cell_type": "code",
   "execution_count": null,
   "id": "c31d7262",
   "metadata": {},
   "outputs": [],
   "source": [
    "from lib import common"
   ]
  },
  {
   "cell_type": "code",
   "execution_count": null,
   "id": "2629bcf3",
   "metadata": {},
   "outputs": [],
   "source": [
    "from torch.utils.tensorboard.writer import SummaryWriter"
   ]
  },
  {
   "cell_type": "code",
   "execution_count": null,
   "id": "b7cde4be",
   "metadata": {
    "lines_to_next_cell": 1
   },
   "outputs": [],
   "source": [
    "NOISE_STD = 0.001\n",
    "LEARNING_RATE = 0.001\n",
    "PROCESSES_COUNT = 6\n",
    "ITERS_PER_UPDATE = 10\n",
    "MAX_ITERS = 100000"
   ]
  },
  {
   "cell_type": "code",
   "execution_count": null,
   "id": "fb4fd800",
   "metadata": {},
   "outputs": [],
   "source": [
    "@dataclass(frozen=True)\n",
    "class RewardsItem:\n",
    "    \"\"\"\n",
    "    Result item from the worker to master. Fields:\n",
    "    1. random seed used to generate noise\n",
    "    2. reward obtained from the positive noise\n",
    "    3. reward obtained from the negative noise\n",
    "    4. total amount of steps done\n",
    "    \"\"\"\n",
    "    seed: int\n",
    "    pos_reward: float\n",
    "    neg_reward: float\n",
    "    steps: int"
   ]
  },
  {
   "cell_type": "code",
   "execution_count": null,
   "id": "818fbf15",
   "metadata": {},
   "outputs": [],
   "source": [
    "def make_env():\n",
    "    return gym.make(\"HalfCheetah-v4\")"
   ]
  },
  {
   "cell_type": "code",
   "execution_count": null,
   "id": "ff4392ef",
   "metadata": {},
   "outputs": [],
   "source": [
    "class Net(nn.Module):\n",
    "    def __init__(self, obs_size: int, act_size: int,\n",
    "                 hid_size: int = 64):\n",
    "        super(Net, self).__init__()\n",
    "\n",
    "        self.mu = nn.Sequential(\n",
    "            nn.Linear(obs_size, hid_size),\n",
    "            nn.Tanh(),\n",
    "            nn.Linear(hid_size, act_size),\n",
    "            nn.Tanh(),\n",
    "        )\n",
    "\n",
    "    def forward(self, x: torch.Tensor) -> torch.Tensor:\n",
    "        return self.mu(x)"
   ]
  },
  {
   "cell_type": "code",
   "execution_count": null,
   "id": "5820a99f",
   "metadata": {},
   "outputs": [],
   "source": [
    "def compute_ranks(x):\n",
    "    \"\"\"\n",
    "    Returns ranks in [0, len(x))\n",
    "    Note: This is different from scipy.stats.rankdata, which returns ranks in [1, len(x)].\n",
    "    \"\"\"\n",
    "    assert x.ndim == 1\n",
    "    ranks = np.empty(len(x), dtype=int)\n",
    "    ranks[x.argsort()] = np.arange(len(x))\n",
    "    return ranks"
   ]
  },
  {
   "cell_type": "code",
   "execution_count": null,
   "id": "ab946457",
   "metadata": {},
   "outputs": [],
   "source": [
    "def compute_centered_ranks(x):\n",
    "    y = compute_ranks(x.ravel()).reshape(x.shape).astype(np.float32)\n",
    "    y /= (x.size - 1)\n",
    "    y -= .5\n",
    "    return y"
   ]
  },
  {
   "cell_type": "code",
   "execution_count": null,
   "id": "3d8be9c5",
   "metadata": {},
   "outputs": [],
   "source": [
    "def train_step(optimizer: optim.Optimizer, net: Net, batch_noise: tt.List[common.TNoise],\n",
    "               batch_reward: tt.List[float], writer: SummaryWriter, step_idx: int,\n",
    "               noise_std: float):\n",
    "    weighted_noise = None\n",
    "    norm_reward = compute_centered_ranks(np.array(batch_reward))\n",
    "\n",
    "    for noise, reward in zip(batch_noise, norm_reward):\n",
    "        if weighted_noise is None:\n",
    "            weighted_noise = [reward * p_n for p_n in noise]\n",
    "        else:\n",
    "            for w_n, p_n in zip(weighted_noise, noise):\n",
    "                w_n += reward * p_n\n",
    "    m_updates = []\n",
    "    optimizer.zero_grad()\n",
    "    for p, p_update in zip(net.parameters(), weighted_noise):\n",
    "        update = p_update / (len(batch_reward) * noise_std)\n",
    "        p.grad = -update\n",
    "        m_updates.append(torch.norm(update))\n",
    "    writer.add_scalar(\"update_l2\", np.mean(m_updates), step_idx)\n",
    "    optimizer.step()"
   ]
  },
  {
   "cell_type": "code",
   "execution_count": null,
   "id": "1cd9d303",
   "metadata": {},
   "outputs": [],
   "source": [
    "def worker_func(params_queue: mp.Queue, rewards_queue: mp.Queue,\n",
    "                device: torch.device, noise_std: float):\n",
    "    env = make_env()\n",
    "    net = Net(env.observation_space.shape[0], env.action_space.shape[0]).to(device)\n",
    "    net.eval()\n",
    "\n",
    "    while True:\n",
    "        params = params_queue.get()\n",
    "        if params is None:\n",
    "            break\n",
    "        net.load_state_dict(params)\n",
    "\n",
    "        for _ in range(ITERS_PER_UPDATE):\n",
    "            seed = np.random.randint(low=0, high=65535)\n",
    "            np.random.seed(seed)\n",
    "            noise, neg_noise = common.sample_noise(net, device=device)\n",
    "            pos_reward, pos_steps = common.eval_with_noise(env, net, noise, noise_std,\n",
    "                get_max_action=False, device=device)\n",
    "            neg_reward, neg_steps = common.eval_with_noise(env, net, neg_noise, noise_std,\n",
    "                get_max_action=False, device=device)\n",
    "            rewards_queue.put(RewardsItem(seed=seed, pos_reward=pos_reward,\n",
    "                neg_reward=neg_reward, steps=pos_steps+neg_steps))"
   ]
  },
  {
   "cell_type": "code",
   "execution_count": null,
   "id": "f9958b64",
   "metadata": {},
   "outputs": [],
   "source": [
    "if __name__ == \"__main__\":\n",
    "    mp.set_start_method('spawn')\n",
    "    parser = argparse.ArgumentParser()\n",
    "    parser.add_argument(\"--dev\", default=\"cpu\", help=\"Device to train on, default=cpu\")\n",
    "    parser.add_argument(\"--lr\", type=float, default=LEARNING_RATE)\n",
    "    parser.add_argument(\"--noise-std\", type=float, default=NOISE_STD)\n",
    "    parser.add_argument(\"--iters\", type=int, default=MAX_ITERS)\n",
    "    args = parser.parse_args()\n",
    "    device = torch.device(args.dev)\n",
    "\n",
    "    writer = SummaryWriter(comment=\"-cheetah-es_lr=%.3e_sigma=%.3e\" % (args.lr, args.noise_std))\n",
    "    env = make_env()\n",
    "    net = Net(env.observation_space.shape[0], env.action_space.shape[0])\n",
    "    print(net)\n",
    "\n",
    "    params_queues = [mp.Queue(maxsize=1) for _ in range(PROCESSES_COUNT)]\n",
    "    rewards_queue = mp.Queue(maxsize=ITERS_PER_UPDATE)\n",
    "    workers = []\n",
    "\n",
    "    for params_queue in params_queues:\n",
    "        p_args = (params_queue, rewards_queue, device, args.noise_std)\n",
    "        proc = mp.Process(target=worker_func, args=p_args)\n",
    "        proc.start()\n",
    "        workers.append(proc)\n",
    "\n",
    "    print(\"All started!\")\n",
    "    optimizer = optim.Adam(net.parameters(), lr=args.lr)\n",
    "    zero_noise, _ = common.sample_noise(net)\n",
    "    for t in zero_noise:\n",
    "        t.zero_()\n",
    "\n",
    "    for step_idx in range(args.iters):\n",
    "        # broadcasting network params\n",
    "        params = net.state_dict()\n",
    "        for q in params_queues:\n",
    "            q.put(params)\n",
    "\n",
    "        # waiting for results\n",
    "        t_start = time.time()\n",
    "        batch_noise = []\n",
    "        batch_reward = []\n",
    "        results = 0\n",
    "        batch_steps = 0\n",
    "        while True:\n",
    "            while not rewards_queue.empty():\n",
    "                reward = rewards_queue.get_nowait()\n",
    "                np.random.seed(reward.seed)\n",
    "                noise, neg_noise = common.sample_noise(net)\n",
    "                batch_noise.append(noise)\n",
    "                batch_reward.append(reward.pos_reward)\n",
    "                batch_noise.append(neg_noise)\n",
    "                batch_reward.append(reward.neg_reward)\n",
    "                results += 1\n",
    "                batch_steps += reward.steps\n",
    "\n",
    "            if results == PROCESSES_COUNT * ITERS_PER_UPDATE:\n",
    "                break\n",
    "            time.sleep(0.01)\n",
    "\n",
    "        dt_data = time.time() - t_start\n",
    "        m_reward = np.mean(batch_reward)\n",
    "        train_step(optimizer, net, batch_noise, batch_reward,\n",
    "                   writer, step_idx, args.noise_std)\n",
    "        writer.add_scalar(\"reward_mean\", m_reward, step_idx)\n",
    "        writer.add_scalar(\"reward_std\", np.std(batch_reward), step_idx)\n",
    "        writer.add_scalar(\"reward_max\", np.max(batch_reward), step_idx)\n",
    "        writer.add_scalar(\"batch_episodes\", len(batch_reward), step_idx)\n",
    "        writer.add_scalar(\"batch_steps\", batch_steps, step_idx)\n",
    "        speed = batch_steps / (time.time() - t_start)\n",
    "        writer.add_scalar(\"speed\", speed, step_idx)\n",
    "        dt_step = time.time() - t_start - dt_data\n",
    "\n",
    "        print(\"%d: reward=%.2f, speed=%.2f f/s, data_gather=%.3f, train=%.3f\" % (\n",
    "            step_idx, m_reward, speed, dt_data, dt_step))\n",
    "\n",
    "    for worker, p_queue in zip(workers, params_queues):\n",
    "        p_queue.put(None)\n",
    "        worker.join()"
   ]
  }
 ],
 "metadata": {
  "jupytext": {
   "cell_metadata_filter": "-all",
   "executable": "/usr/bin/env python3",
   "main_language": "python",
   "notebook_metadata_filter": "-all"
  }
 },
 "nbformat": 4,
 "nbformat_minor": 5
}
