{
 "cells": [
  {
   "cell_type": "code",
   "execution_count": null,
   "id": "64e97c83",
   "metadata": {},
   "outputs": [],
   "source": [
    "import typing as tt\n",
    "import gymnasium as gym\n",
    "from dataclasses import dataclass\n",
    "import copy\n",
    "import time\n",
    "import numpy as np"
   ]
  },
  {
   "cell_type": "code",
   "execution_count": null,
   "id": "ddae51cc",
   "metadata": {},
   "outputs": [],
   "source": [
    "import torch\n",
    "import torch.nn as nn\n",
    "import torch.multiprocessing as mp"
   ]
  },
  {
   "cell_type": "code",
   "execution_count": null,
   "id": "05a5393d",
   "metadata": {
    "lines_to_next_cell": 2
   },
   "outputs": [],
   "source": [
    "from torch.utils.tensorboard.writer import SummaryWriter\n",
    "from lib import common"
   ]
  },
  {
   "cell_type": "code",
   "execution_count": null,
   "id": "008de6a2",
   "metadata": {},
   "outputs": [],
   "source": [
    "NOISE_STD = 0.01\n",
    "POPULATION_SIZE = 2000\n",
    "PARENTS_COUNT = 10\n",
    "WORKERS_COUNT = 6\n",
    "SEEDS_PER_WORKER = POPULATION_SIZE // WORKERS_COUNT\n",
    "MAX_SEED = 2**32 - 1"
   ]
  },
  {
   "cell_type": "code",
   "execution_count": null,
   "id": "305f871a",
   "metadata": {},
   "outputs": [],
   "source": [
    "class Net(nn.Module):\n",
    "    def __init__(self, obs_size: int, act_size: int, hid_size: int = 64):\n",
    "        super(Net, self).__init__()\n",
    "\n",
    "        self.mu = nn.Sequential(\n",
    "            nn.Linear(obs_size, hid_size),\n",
    "            nn.Tanh(),\n",
    "            nn.Linear(hid_size, act_size),\n",
    "            nn.Tanh(),\n",
    "        )\n",
    "\n",
    "    def forward(self, x: torch.Tensor) -> torch.Tensor:\n",
    "        return self.mu(x)"
   ]
  },
  {
   "cell_type": "code",
   "execution_count": null,
   "id": "a7d5bc53",
   "metadata": {},
   "outputs": [],
   "source": [
    "def mutate_net(net: Net, seed: int, copy_net: bool = True) -> Net:\n",
    "    new_net = copy.deepcopy(net) if copy_net else net\n",
    "    np.random.seed(seed)\n",
    "    for p in new_net.parameters():\n",
    "        noise = np.random.normal(size=p.data.size())\n",
    "        noise_t = torch.FloatTensor(noise)\n",
    "        p.data += NOISE_STD * noise_t\n",
    "    return new_net"
   ]
  },
  {
   "cell_type": "code",
   "execution_count": null,
   "id": "b7aa6e51",
   "metadata": {},
   "outputs": [],
   "source": [
    "def build_net(env: gym.Env, seeds: tt.List[int]) -> Net:\n",
    "    torch.manual_seed(seeds[0])\n",
    "    net = Net(env.observation_space.shape[0], env.action_space.shape[0])\n",
    "    for seed in seeds[1:]:\n",
    "        net = mutate_net(net, seed, copy_net=False)\n",
    "    return net"
   ]
  },
  {
   "cell_type": "code",
   "execution_count": null,
   "id": "593b257c",
   "metadata": {},
   "outputs": [],
   "source": [
    "@dataclass\n",
    "class OutputItem:\n",
    "    seeds: tt.List[int]\n",
    "    reward: float\n",
    "    steps: int"
   ]
  },
  {
   "cell_type": "code",
   "execution_count": null,
   "id": "12270917",
   "metadata": {},
   "outputs": [],
   "source": [
    "def worker_func(input_queue: mp.Queue, output_queue: mp.Queue):\n",
    "    env = gym.make(\"HalfCheetah-v4\")\n",
    "    cache = {}\n",
    "\n",
    "    while True:\n",
    "        parents = input_queue.get()\n",
    "        if parents is None:\n",
    "            break\n",
    "        new_cache = {}\n",
    "        for net_seeds in parents:\n",
    "            if len(net_seeds) > 1:\n",
    "                net = cache.get(net_seeds[:-1])\n",
    "                if net is not None:\n",
    "                    net = mutate_net(net, net_seeds[-1])\n",
    "                else:\n",
    "                    net = build_net(env, net_seeds)\n",
    "            else:\n",
    "                net = build_net(env, net_seeds)\n",
    "            new_cache[net_seeds] = net\n",
    "            reward, steps = common.evaluate(env, net, get_max_action=False)\n",
    "            output_queue.put(OutputItem(seeds=net_seeds, reward=reward, steps=steps))\n",
    "        cache = new_cache"
   ]
  },
  {
   "cell_type": "code",
   "execution_count": null,
   "id": "6635d622",
   "metadata": {},
   "outputs": [],
   "source": [
    "if __name__ == \"__main__\":\n",
    "    mp.set_start_method('spawn')\n",
    "    writer = SummaryWriter(comment=\"-cheetah-ga\")\n",
    "\n",
    "    input_queues = []\n",
    "    output_queue = mp.Queue(maxsize=WORKERS_COUNT)\n",
    "    workers = []\n",
    "    for _ in range(WORKERS_COUNT):\n",
    "        input_queue = mp.Queue(maxsize=1)\n",
    "        input_queues.append(input_queue)\n",
    "        w = mp.Process(target=worker_func, args=(input_queue, output_queue))\n",
    "        w.start()\n",
    "        seeds = [(np.random.randint(MAX_SEED),) for _ in range(SEEDS_PER_WORKER)]\n",
    "        input_queue.put(seeds)\n",
    "\n",
    "    gen_idx = 0\n",
    "    elite = None\n",
    "    while True:\n",
    "        t_start = time.time()\n",
    "        batch_steps = 0\n",
    "        population = []\n",
    "        while len(population) < SEEDS_PER_WORKER * WORKERS_COUNT:\n",
    "            out_item = output_queue.get()\n",
    "            population.append((out_item.seeds, out_item.reward))\n",
    "            batch_steps += out_item.steps\n",
    "        if elite is not None:\n",
    "            population.append(elite)\n",
    "        population.sort(key=lambda p: p[1], reverse=True)\n",
    "        rewards = [p[1] for p in population[:PARENTS_COUNT]]\n",
    "        reward_mean = np.mean(rewards)\n",
    "        reward_max = np.max(rewards)\n",
    "        reward_std = np.std(rewards)\n",
    "        writer.add_scalar(\"reward_mean\", reward_mean, gen_idx)\n",
    "        writer.add_scalar(\"reward_std\", reward_std, gen_idx)\n",
    "        writer.add_scalar(\"reward_max\", reward_max, gen_idx)\n",
    "        writer.add_scalar(\"batch_steps\", batch_steps, gen_idx)\n",
    "        writer.add_scalar(\"gen_seconds\", time.time() - t_start, gen_idx)\n",
    "        speed = batch_steps / (time.time() - t_start)\n",
    "        writer.add_scalar(\"speed\", speed, gen_idx)\n",
    "        print(\"%d: reward_mean=%.2f, reward_max=%.2f, reward_std=%.2f, speed=%.2f f/s\" % (\n",
    "            gen_idx, reward_mean, reward_max, reward_std, speed))\n",
    "\n",
    "        elite = population[0]\n",
    "        for worker_queue in input_queues:\n",
    "            seeds = []\n",
    "            for _ in range(SEEDS_PER_WORKER):\n",
    "                parent = np.random.randint(PARENTS_COUNT)\n",
    "                next_seed = np.random.randint(MAX_SEED)\n",
    "                s = list(population[parent][0]) + [next_seed]\n",
    "                seeds.append(tuple(s))\n",
    "            worker_queue.put(seeds)\n",
    "        gen_idx += 1\n",
    "\n",
    "    pass"
   ]
  }
 ],
 "metadata": {
  "jupytext": {
   "cell_metadata_filter": "-all",
   "executable": "/usr/bin/env python3",
   "main_language": "python",
   "notebook_metadata_filter": "-all"
  }
 },
 "nbformat": 4,
 "nbformat_minor": 5
}
