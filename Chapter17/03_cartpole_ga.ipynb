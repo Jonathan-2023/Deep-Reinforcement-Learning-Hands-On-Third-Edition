{
 "cells": [
  {
   "cell_type": "code",
   "execution_count": null,
   "id": "b45d4c71",
   "metadata": {},
   "outputs": [],
   "source": [
    "import gymnasium as gym\n",
    "import copy\n",
    "import numpy as np"
   ]
  },
  {
   "cell_type": "code",
   "execution_count": null,
   "id": "05c388d6",
   "metadata": {},
   "outputs": [],
   "source": [
    "import torch\n",
    "import torch.nn as nn"
   ]
  },
  {
   "cell_type": "code",
   "execution_count": null,
   "id": "172aab02",
   "metadata": {
    "lines_to_next_cell": 2
   },
   "outputs": [],
   "source": [
    "from torch.utils.tensorboard.writer import SummaryWriter\n",
    "from lib import common"
   ]
  },
  {
   "cell_type": "code",
   "execution_count": null,
   "id": "f991ad56",
   "metadata": {},
   "outputs": [],
   "source": [
    "NOISE_STD = 0.01\n",
    "POPULATION_SIZE = 50\n",
    "PARENTS_COUNT = 10"
   ]
  },
  {
   "cell_type": "code",
   "execution_count": null,
   "id": "36231326",
   "metadata": {},
   "outputs": [],
   "source": [
    "class Net(nn.Module):\n",
    "    def __init__(self, obs_size: int, action_size: int):\n",
    "        super(Net, self).__init__()\n",
    "        self.net = nn.Sequential(\n",
    "            nn.Linear(obs_size, 32),\n",
    "            nn.ReLU(),\n",
    "            nn.Linear(32, action_size),\n",
    "            nn.Softmax(dim=1)\n",
    "        )\n",
    "\n",
    "    def forward(self, x: torch.Tensor) -> torch.Tensor:\n",
    "        return self.net(x)"
   ]
  },
  {
   "cell_type": "code",
   "execution_count": null,
   "id": "01396f9f",
   "metadata": {},
   "outputs": [],
   "source": [
    "def mutate_parent(net: Net) -> Net:\n",
    "    new_net = copy.deepcopy(net)\n",
    "    for p in new_net.parameters():\n",
    "        noise = np.random.normal(size=p.data.size())\n",
    "        noise_t = torch.FloatTensor(noise)\n",
    "        p.data += NOISE_STD * noise_t\n",
    "    return new_net"
   ]
  },
  {
   "cell_type": "code",
   "execution_count": null,
   "id": "cb588436",
   "metadata": {},
   "outputs": [],
   "source": [
    "if __name__ == \"__main__\":\n",
    "    env = gym.make(\"CartPole-v1\")\n",
    "    writer = SummaryWriter(comment=\"-cartpole-ga\")\n",
    "\n",
    "    gen_idx = 0\n",
    "    nets = [\n",
    "        Net(env.observation_space.shape[0], env.action_space.n)\n",
    "        for _ in range(POPULATION_SIZE)\n",
    "    ]\n",
    "    population = [\n",
    "        (net, common.evaluate(env, net))\n",
    "        for net in nets\n",
    "    ]\n",
    "    while True:\n",
    "        population.sort(key=lambda p: p[1], reverse=True)\n",
    "        rewards = [p[1] for p in population[:PARENTS_COUNT]]\n",
    "        reward_mean = np.mean(rewards)\n",
    "        reward_max = np.max(rewards)\n",
    "        reward_std = np.std(rewards)\n",
    "\n",
    "        writer.add_scalar(\"reward_mean\", reward_mean, gen_idx)\n",
    "        writer.add_scalar(\"reward_std\", reward_std, gen_idx)\n",
    "        writer.add_scalar(\"reward_max\", reward_max, gen_idx)\n",
    "        print(\"%d: reward_mean=%.2f, reward_max=%.2f, reward_std=%.2f\" % (\n",
    "            gen_idx, reward_mean, reward_max, reward_std))\n",
    "        if reward_mean > 199:\n",
    "            print(\"Solved in %d steps\" % gen_idx)\n",
    "            break\n",
    "\n",
    "        # generate next population\n",
    "        prev_population = population\n",
    "        population = [population[0]]\n",
    "        for _ in range(POPULATION_SIZE-1):\n",
    "            parent_idx = np.random.randint(0, PARENTS_COUNT)\n",
    "            parent = prev_population[parent_idx][0]\n",
    "            net = mutate_parent(parent)\n",
    "            fitness = common.evaluate(env, net)\n",
    "            population.append((net, fitness))\n",
    "        gen_idx += 1\n",
    "    writer.close()"
   ]
  }
 ],
 "metadata": {
  "jupytext": {
   "cell_metadata_filter": "-all",
   "executable": "/usr/bin/env python3",
   "main_language": "python",
   "notebook_metadata_filter": "-all"
  }
 },
 "nbformat": 4,
 "nbformat_minor": 5
}
