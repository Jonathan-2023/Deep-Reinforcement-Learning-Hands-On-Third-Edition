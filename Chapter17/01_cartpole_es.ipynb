{
 "cells": [
  {
   "cell_type": "code",
   "execution_count": null,
   "id": "67d06b43",
   "metadata": {},
   "outputs": [],
   "source": [
    "import gymnasium as gym\n",
    "import time\n",
    "import numpy as np\n",
    "import typing as tt"
   ]
  },
  {
   "cell_type": "code",
   "execution_count": null,
   "id": "e63e8ada",
   "metadata": {},
   "outputs": [],
   "source": [
    "import torch\n",
    "import torch.nn as nn"
   ]
  },
  {
   "cell_type": "code",
   "execution_count": null,
   "id": "b3e89b1a",
   "metadata": {},
   "outputs": [],
   "source": [
    "from torch.utils.tensorboard.writer import SummaryWriter"
   ]
  },
  {
   "cell_type": "code",
   "execution_count": null,
   "id": "4c8854de",
   "metadata": {
    "lines_to_next_cell": 2
   },
   "outputs": [],
   "source": [
    "from lib import common"
   ]
  },
  {
   "cell_type": "code",
   "execution_count": null,
   "id": "c4379fe4",
   "metadata": {},
   "outputs": [],
   "source": [
    "MAX_BATCH_EPISODES = 100\n",
    "MAX_BATCH_STEPS = 10000\n",
    "NOISE_STD = 0.001\n",
    "LEARNING_RATE = 0.001"
   ]
  },
  {
   "cell_type": "code",
   "execution_count": null,
   "id": "eb700892",
   "metadata": {},
   "outputs": [],
   "source": []
  },
  {
   "cell_type": "code",
   "execution_count": null,
   "id": "74635038",
   "metadata": {},
   "outputs": [],
   "source": [
    "class Net(nn.Module):\n",
    "    def __init__(self, obs_size: int, action_size: int):\n",
    "        super(Net, self).__init__()\n",
    "        self.net = nn.Sequential(\n",
    "            nn.Linear(obs_size, 32),\n",
    "            nn.ReLU(),\n",
    "            nn.Linear(32, action_size),\n",
    "            nn.Softmax(dim=1)\n",
    "        )\n",
    "\n",
    "    def forward(self, x: torch.Tensor) -> torch.Tensor:\n",
    "        return self.net(x)"
   ]
  },
  {
   "cell_type": "code",
   "execution_count": null,
   "id": "5bcc2aee",
   "metadata": {},
   "outputs": [],
   "source": [
    "def train_step(net: Net, batch_noise: tt.List[common.TNoise], batch_reward: tt.List[float],\n",
    "               writer: SummaryWriter, step_idx: int):\n",
    "    weighted_noise = None\n",
    "    norm_reward = np.array(batch_reward)\n",
    "    norm_reward -= np.mean(norm_reward)\n",
    "    s = np.std(norm_reward)\n",
    "    if abs(s) > 1e-6:\n",
    "        norm_reward /= s\n",
    "\n",
    "    for noise, reward in zip(batch_noise, norm_reward):\n",
    "        if weighted_noise is None:\n",
    "            weighted_noise = [reward * p_n for p_n in noise]\n",
    "        else:\n",
    "            for w_n, p_n in zip(weighted_noise, noise):\n",
    "                w_n += reward * p_n\n",
    "    m_updates = []\n",
    "    for p, p_update in zip(net.parameters(), weighted_noise):\n",
    "        update = p_update / (len(batch_reward) * NOISE_STD)\n",
    "        p.data += LEARNING_RATE * update\n",
    "        m_updates.append(torch.norm(update))\n",
    "    writer.add_scalar(\"update_l2\", np.mean(m_updates), step_idx)"
   ]
  },
  {
   "cell_type": "code",
   "execution_count": null,
   "id": "9e0083ee",
   "metadata": {},
   "outputs": [],
   "source": [
    "if __name__ == \"__main__\":\n",
    "    writer = SummaryWriter(comment=\"-cartpole-es\")\n",
    "    env = gym.make(\"CartPole-v1\")\n",
    "\n",
    "    net = Net(env.observation_space.shape[0], env.action_space.n)\n",
    "    print(net)\n",
    "\n",
    "    step_idx = 0\n",
    "    while True:\n",
    "        t_start = time.time()\n",
    "        batch_noise = []\n",
    "        batch_reward = []\n",
    "        batch_steps = 0\n",
    "        for _ in range(MAX_BATCH_EPISODES):\n",
    "            noise, neg_noise = common.sample_noise(net)\n",
    "            batch_noise.append(noise)\n",
    "            batch_noise.append(neg_noise)\n",
    "            reward, steps = common.eval_with_noise(\n",
    "                env, net, noise, NOISE_STD)\n",
    "            batch_reward.append(reward)\n",
    "            batch_steps += steps\n",
    "            reward, steps = common.eval_with_noise(\n",
    "                env, net, neg_noise, NOISE_STD)\n",
    "            batch_reward.append(reward)\n",
    "            batch_steps += steps\n",
    "            if batch_steps > MAX_BATCH_STEPS:\n",
    "                break\n",
    "\n",
    "        step_idx += 1\n",
    "        m_reward = float(np.mean(batch_reward))\n",
    "        if m_reward > 199:\n",
    "            print(\"Solved in %d steps\" % step_idx)\n",
    "            break\n",
    "\n",
    "        train_step(net, batch_noise, batch_reward, writer, step_idx)\n",
    "        writer.add_scalar(\"reward_mean\", m_reward, step_idx)\n",
    "        writer.add_scalar(\"reward_std\", np.std(batch_reward), step_idx)\n",
    "        writer.add_scalar(\"reward_max\", np.max(batch_reward), step_idx)\n",
    "        writer.add_scalar(\"batch_episodes\", len(batch_reward), step_idx)\n",
    "        writer.add_scalar(\"batch_steps\", batch_steps, step_idx)\n",
    "        speed = batch_steps / (time.time() - t_start)\n",
    "        writer.add_scalar(\"speed\", speed, step_idx)\n",
    "        print(\"%d: reward=%.2f, speed=%.2f f/s\" % (\n",
    "            step_idx, m_reward, speed))"
   ]
  }
 ],
 "metadata": {
  "jupytext": {
   "cell_metadata_filter": "-all",
   "executable": "/usr/bin/env python3",
   "main_language": "python",
   "notebook_metadata_filter": "-all"
  }
 },
 "nbformat": 4,
 "nbformat_minor": 5
}
