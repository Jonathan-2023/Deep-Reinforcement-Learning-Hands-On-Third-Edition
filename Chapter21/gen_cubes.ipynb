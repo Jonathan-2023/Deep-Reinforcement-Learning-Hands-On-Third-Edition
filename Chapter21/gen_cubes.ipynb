{
 "cells": [
  {
   "cell_type": "code",
   "execution_count": null,
   "id": "d64b0684",
   "metadata": {},
   "outputs": [],
   "source": [
    "\"\"\"\n",
    "Tool to generate test set for solver\n",
    "\"\"\"\n",
    "import argparse\n",
    "import random"
   ]
  },
  {
   "cell_type": "code",
   "execution_count": null,
   "id": "7989de60",
   "metadata": {
    "lines_to_next_cell": 2
   },
   "outputs": [],
   "source": [
    "from libcube import cubes"
   ]
  },
  {
   "cell_type": "code",
   "execution_count": null,
   "id": "d5f7f34a",
   "metadata": {},
   "outputs": [],
   "source": [
    "if __name__ == \"__main__\":\n",
    "    parser = argparse.ArgumentParser()\n",
    "    parser.add_argument(\"-e\", \"--env\", required=True, help=\"Type of env to train, supported types=%s\" % cubes.names())\n",
    "    parser.add_argument(\"-n\", \"--number\", type=int, default=10, help=\"Amount of scramble rounds, default=10\")\n",
    "    parser.add_argument(\"-d\", \"--depth\", type=int, default=100, help=\"Scramble depth, default=10\")\n",
    "    parser.add_argument(\"--seed\", type=int, default=42, help=\"Seed to use, if zero, no seed used. default=42\")\n",
    "    parser.add_argument(\"-o\", \"--output\", required=True, help=\"Output file to produce\")\n",
    "    args = parser.parse_args()\n",
    "\n",
    "    if args.seed:\n",
    "        random.seed(args.seed)\n",
    "\n",
    "    cube_env = cubes.get(args.env)\n",
    "    assert isinstance(cube_env, cubes.CubeEnv)\n",
    "\n",
    "    with open(args.output, \"w+t\", encoding=\"utf-8\") as fd_out:\n",
    "        for _ in range(args.number):\n",
    "            s = cube_env.initial_state\n",
    "            path = []\n",
    "            prev_a = None\n",
    "            for _ in range(args.depth):\n",
    "                a = cube_env.sample_action(prev_action=prev_a)\n",
    "                path.append(a.value)\n",
    "                s = cube_env.transform(s, a)\n",
    "                prev_a = a\n",
    "            fd_out.write(\",\".join(map(str, path)) + \"\\n\")"
   ]
  }
 ],
 "metadata": {
  "jupytext": {
   "cell_metadata_filter": "-all",
   "executable": "/usr/bin/env python3",
   "main_language": "python",
   "notebook_metadata_filter": "-all"
  }
 },
 "nbformat": 4,
 "nbformat_minor": 5
}
