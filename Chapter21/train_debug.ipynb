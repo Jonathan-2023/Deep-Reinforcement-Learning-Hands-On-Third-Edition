{
 "cells": [
  {
   "cell_type": "code",
   "execution_count": null,
   "id": "6bd523f8",
   "metadata": {},
   "outputs": [],
   "source": [
    "\"\"\"\n",
    "Ad-hoc utility to analyze trained model and various training process details\n",
    "\"\"\"\n",
    "import argparse\n",
    "import logging"
   ]
  },
  {
   "cell_type": "code",
   "execution_count": null,
   "id": "cc1c394c",
   "metadata": {},
   "outputs": [],
   "source": [
    "import torch\n",
    "import torch.nn.functional as F\n",
    "import seaborn as sns\n",
    "import matplotlib.pyplot as plt\n",
    "import numpy as np"
   ]
  },
  {
   "cell_type": "code",
   "execution_count": null,
   "id": "19bb5137",
   "metadata": {
    "lines_to_next_cell": 2
   },
   "outputs": [],
   "source": [
    "from libcube import cubes\n",
    "from libcube import model"
   ]
  },
  {
   "cell_type": "code",
   "execution_count": null,
   "id": "0c94b755",
   "metadata": {
    "lines_to_next_cell": 2
   },
   "outputs": [],
   "source": [
    "log = logging.getLogger(\"train_debug\")"
   ]
  },
  {
   "cell_type": "code",
   "execution_count": null,
   "id": "e95aaaa8",
   "metadata": {
    "lines_to_next_cell": 2
   },
   "outputs": [],
   "source": [
    "# How many data to generate for plots\n",
    "MAX_DEPTH = 10\n",
    "ROUND_COUNTS = 100\n",
    "# debug params\n",
    "#MAX_DEPTH = 5\n",
    "#ROUND_COUNTS = 2"
   ]
  },
  {
   "cell_type": "code",
   "execution_count": null,
   "id": "d02635dc",
   "metadata": {},
   "outputs": [],
   "source": [
    "def gen_states(cube_env, max_depth, round_counts):\n",
    "    \"\"\"\n",
    "    Generate random states of various scramble depth\n",
    "    :param cube_env: CubeEnv instance\n",
    "    :return: list of list of (state, correct_action_index) pairs\n",
    "    \"\"\"\n",
    "    assert isinstance(cube_env, cubes.CubeEnv)\n",
    "\n",
    "    result = [[] for _ in range(max_depth)]\n",
    "    for _ in range(round_counts):\n",
    "        data = cube_env.scramble_cube(max_depth, return_inverse=True)\n",
    "        for depth, state, inv_action in data:\n",
    "            result[depth-1].append((state, inv_action.value))\n",
    "    return result"
   ]
  },
  {
   "cell_type": "code",
   "execution_count": null,
   "id": "0ce2aa23",
   "metadata": {},
   "outputs": [],
   "source": [
    "if __name__ == \"__main__\":\n",
    "    sns.set()\n",
    "\n",
    "    logging.basicConfig(format=\"%(asctime)-15s %(levelname)s %(message)s\", level=logging.INFO)\n",
    "    parser = argparse.ArgumentParser()\n",
    "    parser.add_argument(\"-e\", \"--env\", required=True, help=\"Type of env to train, supported types=%s\" % cubes.names())\n",
    "    parser.add_argument(\"-m\", \"--model\", required=True, help=\"Model file to load\")\n",
    "    parser.add_argument(\"-o\", \"--output\", required=True, help=\"Output prefix for plots\")\n",
    "    args = parser.parse_args()\n",
    "\n",
    "    cube_env = cubes.get(args.env)\n",
    "    log.info(\"Selected cube: %s\", cube_env)\n",
    "    net = model.Net(cube_env.encoded_shape, len(cube_env.action_enum))\n",
    "    net.load_state_dict(torch.load(args.model, map_location=lambda storage, loc: storage, weights_only=True))\n",
    "    net.eval()\n",
    "    log.info(\"Network loaded from %s\", args.model)"
   ]
  },
  {
   "cell_type": "markdown",
   "id": "aaf87b5f",
   "metadata": {},
   "source": [
    "   model.make_train_data(cube_env, net, device='cpu', batch_size=10, scramble_depth=2, shuffle=False)"
   ]
  },
  {
   "cell_type": "code",
   "execution_count": null,
   "id": "a31c4651",
   "metadata": {},
   "outputs": [],
   "source": [
    "    states_by_depth = gen_states(cube_env, max_depth=MAX_DEPTH, round_counts=ROUND_COUNTS)\n",
    "    # for idx, states in enumerate(states_by_depth):\n",
    "    #     log.info(\"%d: %s\", idx, states)\n",
    "\n",
    "    # flatten returned data\n",
    "    data = []\n",
    "    for depth, states in enumerate(states_by_depth):\n",
    "        for s, inv_action in states:\n",
    "            data.append((depth+1, s, inv_action))\n",
    "    depths, states, inv_actions = map(list, zip(*data))\n",
    "\n",
    "    # process states with net\n",
    "    enc_states = model.encode_states(cube_env, states)\n",
    "    enc_states_t = torch.tensor(enc_states)\n",
    "    policy_t, value_t = net(enc_states_t)\n",
    "    value_t = value_t.squeeze(-1)\n",
    "    value = value_t.cpu().detach().numpy()\n",
    "    policy = F.softmax(policy_t, dim=1).cpu().detach().numpy()\n",
    "\n",
    "    # plot value per depth of scramble\n",
    "    plot = sns.lineplot(depths, value)\n",
    "    plot.set_title(\"Values per depths\")\n",
    "    plot.get_figure().savefig(args.output + \"-vals_vs_depths.png\")\n",
    "\n",
    "    # plot action match\n",
    "    plt.clf()\n",
    "    actions = np.argmax(policy, axis=1)\n",
    "    actions_match = (actions == inv_actions).astype(np.int8)\n",
    "    plot = sns.lineplot(depths, actions_match)\n",
    "    plot.set_title(\"Actions accuracy per depths\")\n",
    "    plot.get_figure().savefig(args.output + \"-acts_vs_depths.png\")\n",
    "\n",
    "    pass"
   ]
  }
 ],
 "metadata": {
  "jupytext": {
   "cell_metadata_filter": "-all",
   "executable": "/usr/bin/env python3",
   "main_language": "python",
   "notebook_metadata_filter": "-all"
  }
 },
 "nbformat": 4,
 "nbformat_minor": 5
}
