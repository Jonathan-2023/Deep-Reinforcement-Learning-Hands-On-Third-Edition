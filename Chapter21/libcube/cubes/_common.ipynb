{
 "cells": [
  {
   "cell_type": "code",
   "execution_count": null,
   "id": "4b66ebfd",
   "metadata": {},
   "outputs": [],
   "source": [
    "def _permute(t, m, is_inv=False):\n",
    "    \"\"\"\n",
    "    Perform permutation of tuple according to mapping m\n",
    "    \"\"\"\n",
    "    r = list(t)\n",
    "    for from_idx, to_idx in m:\n",
    "        if is_inv:\n",
    "            r[from_idx] = t[to_idx]\n",
    "        else:\n",
    "            r[to_idx] = t[from_idx]\n",
    "    return r"
   ]
  },
  {
   "cell_type": "code",
   "execution_count": null,
   "id": "1d0d7447",
   "metadata": {},
   "outputs": [],
   "source": [
    "def _rotate(corner_ort, corners):\n",
    "    \"\"\"\n",
    "    Rotate given corners 120 degrees\n",
    "    \"\"\"\n",
    "    r = list(corner_ort)\n",
    "    for c, angle in corners:\n",
    "        r[c] = (r[c] + angle) % 3\n",
    "    return r"
   ]
  },
  {
   "cell_type": "code",
   "execution_count": null,
   "id": "481693b5",
   "metadata": {
    "lines_to_next_cell": 2
   },
   "outputs": [],
   "source": [
    "# orient corner cubelet\n",
    "def _map_orient(cols, orient_id):\n",
    "    if orient_id == 0:\n",
    "        return cols\n",
    "    elif orient_id == 1:\n",
    "        return cols[2], cols[0], cols[1]\n",
    "    else:\n",
    "        return cols[1], cols[2], cols[0]"
   ]
  }
 ],
 "metadata": {
  "jupytext": {
   "cell_metadata_filter": "-all",
   "main_language": "python",
   "notebook_metadata_filter": "-all"
  }
 },
 "nbformat": 4,
 "nbformat_minor": 5
}
