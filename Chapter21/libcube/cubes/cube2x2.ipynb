{
 "cells": [
  {
   "cell_type": "code",
   "execution_count": null,
   "id": "0a513ba9",
   "metadata": {},
   "outputs": [],
   "source": [
    "import enum\n",
    "import collections"
   ]
  },
  {
   "cell_type": "code",
   "execution_count": null,
   "id": "8a153f22",
   "metadata": {},
   "outputs": [],
   "source": [
    "from . import _env\n",
    "from . import _common"
   ]
  },
  {
   "cell_type": "code",
   "execution_count": null,
   "id": "cedf51b8",
   "metadata": {},
   "outputs": [],
   "source": [
    "State = collections.namedtuple(\"State\", field_names=['corner_pos', 'corner_ort'])\n",
    "RenderedState = collections.namedtuple(\"RenderedState\", field_names=['top', 'front', 'left',\n",
    "                                                                     'right', 'back', 'bottom'])"
   ]
  },
  {
   "cell_type": "code",
   "execution_count": null,
   "id": "9daeece3",
   "metadata": {},
   "outputs": [],
   "source": [
    "initial_state = State(corner_pos=tuple(range(8)), corner_ort=tuple([0]*8))"
   ]
  },
  {
   "cell_type": "code",
   "execution_count": null,
   "id": "168ea795",
   "metadata": {},
   "outputs": [],
   "source": [
    "def is_initial(state):\n",
    "    assert isinstance(state, State)\n",
    "    return state.corner_pos == initial_state.corner_pos and \\\n",
    "           state.corner_ort == initial_state.corner_ort"
   ]
  },
  {
   "cell_type": "code",
   "execution_count": null,
   "id": "269ff762",
   "metadata": {},
   "outputs": [],
   "source": [
    "# available actions. Capital actions denote clockwise rotation\n",
    "class Action(enum.Enum):\n",
    "    R = 0\n",
    "    L = 1\n",
    "    T = 2\n",
    "    D = 3\n",
    "    F = 4\n",
    "    B = 5\n",
    "    r = 6\n",
    "    l = 7\n",
    "    t = 8\n",
    "    d = 9\n",
    "    f = 10\n",
    "    b = 11"
   ]
  },
  {
   "cell_type": "code",
   "execution_count": null,
   "id": "cb148247",
   "metadata": {},
   "outputs": [],
   "source": [
    "_inverse_action = {\n",
    "    Action.R: Action.r,\n",
    "    Action.r: Action.R,\n",
    "    Action.L: Action.l,\n",
    "    Action.l: Action.L,\n",
    "    Action.T: Action.t,\n",
    "    Action.t: Action.T,\n",
    "    Action.D: Action.d,\n",
    "    Action.d: Action.D,\n",
    "    Action.F: Action.f,\n",
    "    Action.f: Action.F,\n",
    "    Action.B: Action.b,\n",
    "    Action.b: Action.B\n",
    "}"
   ]
  },
  {
   "cell_type": "code",
   "execution_count": null,
   "id": "bd0e4699",
   "metadata": {},
   "outputs": [],
   "source": [
    "def inverse_action(action):\n",
    "    assert isinstance(action, Action)\n",
    "    return _inverse_action[action]"
   ]
  },
  {
   "cell_type": "code",
   "execution_count": null,
   "id": "c34acb5c",
   "metadata": {},
   "outputs": [],
   "source": [
    "_transform_map = {\n",
    "    Action.R: [\n",
    "        ((1, 2), (2, 6), (6, 5), (5, 1)),           # corner map\n",
    "        ((1, 2), (2, 1), (5, 1), (6, 2)),           # corner rotate\n",
    "    ],\n",
    "    Action.L: [\n",
    "        ((3, 0), (7, 3), (0, 4), (4, 7)),\n",
    "        ((0, 1), (3, 2), (4, 2), (7, 1)),\n",
    "    ],\n",
    "    Action.T: [\n",
    "        ((0, 3), (1, 0), (2, 1), (3, 2)),\n",
    "        (),\n",
    "    ],\n",
    "    Action.D: [\n",
    "        ((4, 5), (5,  6), (6, 7), (7, 4)),\n",
    "        (),\n",
    "    ],\n",
    "    Action.F: [\n",
    "        ((0, 1), (1, 5), (5, 4), (4, 0)),\n",
    "        ((0, 2), (1, 1), (4, 1), (5, 2)),\n",
    "    ],\n",
    "    Action.B: [\n",
    "        ((2, 3), (3, 7), (7, 6), (6, 2)),\n",
    "        ((2, 2), (3, 1), (6, 1), (7, 2)),\n",
    "    ]\n",
    "}"
   ]
  },
  {
   "cell_type": "code",
   "execution_count": null,
   "id": "109c1d62",
   "metadata": {},
   "outputs": [],
   "source": [
    "def transform(state, action):\n",
    "    assert isinstance(state, State)\n",
    "    assert isinstance(action, Action)\n",
    "    global _transform_map\n",
    "\n",
    "    is_inv = action not in _transform_map\n",
    "    if is_inv:\n",
    "        action = inverse_action(action)\n",
    "    c_map, c_rot = _transform_map[action]\n",
    "    corner_pos = _common._permute(state.corner_pos, c_map, is_inv)\n",
    "    corner_ort = _common._permute(state.corner_ort, c_map, is_inv)\n",
    "    corner_ort = _common._rotate(corner_ort, c_rot)\n",
    "    return State(corner_pos=tuple(corner_pos), corner_ort=tuple(corner_ort))"
   ]
  },
  {
   "cell_type": "code",
   "execution_count": null,
   "id": "c0792a7d",
   "metadata": {},
   "outputs": [],
   "source": [
    "# create initial sides in the right order\n",
    "def _init_sides():\n",
    "    return [\n",
    "        [None for _ in range(4)]\n",
    "        for _ in range(6)               # top, left, back, front, right, bottom\n",
    "    ]"
   ]
  },
  {
   "cell_type": "code",
   "execution_count": null,
   "id": "f71e255c",
   "metadata": {
    "lines_to_next_cell": 2
   },
   "outputs": [],
   "source": [
    "# corner cubelets colors (clockwise from main label). Order of cubelets are first top,\n",
    "# in counter-clockwise, started from front left\n",
    "corner_colors = (\n",
    "    ('W', 'R', 'G'), ('W', 'B', 'R'), ('W', 'O', 'B'), ('W', 'G', 'O'),\n",
    "    ('Y', 'G', 'R'), ('Y', 'R', 'B'), ('Y', 'B', 'O'), ('Y', 'O', 'G')\n",
    ")"
   ]
  },
  {
   "cell_type": "code",
   "execution_count": null,
   "id": "f252a231",
   "metadata": {},
   "outputs": [],
   "source": [
    "# map every 3-side cubelet to their projection on sides\n",
    "# sides are indexed in the order of _init_sides() function result\n",
    "corner_maps = (\n",
    "    # top layer\n",
    "    ((0, 2), (3, 0), (1, 1)),\n",
    "    ((0, 3), (4, 0), (3, 1)),\n",
    "    ((0, 1), (2, 0), (4, 1)),\n",
    "    ((0, 0), (1, 0), (2, 1)),\n",
    "    # bottom layer\n",
    "    ((5, 0), (1, 3), (3, 2)),\n",
    "    ((5, 1), (3, 3), (4, 2)),\n",
    "    ((5, 3), (4, 3), (2, 2)),\n",
    "    ((5, 2), (2, 3), (1, 2))\n",
    ")"
   ]
  },
  {
   "cell_type": "code",
   "execution_count": null,
   "id": "f134d785",
   "metadata": {},
   "outputs": [],
   "source": [
    "# render state into human readable form\n",
    "def render(state):\n",
    "    assert isinstance(state, State)\n",
    "    global corner_colors, corner_maps\n",
    "\n",
    "    sides = _init_sides()\n",
    "\n",
    "    for corner, orient, maps in zip(state.corner_pos, state.corner_ort, corner_maps):\n",
    "        cols = corner_colors[corner]\n",
    "        cols = _common._map_orient(cols, orient)\n",
    "        for (arr_idx, index), col in zip(maps, cols):\n",
    "            sides[arr_idx][index] = col\n",
    "\n",
    "    return RenderedState(top=sides[0], left=sides[1], back=sides[2], front=sides[3],\n",
    "                         right=sides[4], bottom=sides[5])"
   ]
  },
  {
   "cell_type": "code",
   "execution_count": null,
   "id": "db1da00b",
   "metadata": {},
   "outputs": [],
   "source": [
    "encoded_shape = (8, 24)"
   ]
  },
  {
   "cell_type": "code",
   "execution_count": null,
   "id": "1b91097f",
   "metadata": {},
   "outputs": [],
   "source": [
    "def encode_inplace(target, state):\n",
    "    \"\"\"\n",
    "    Encode cude into existig zeroed numpy array\n",
    "    Follows encoding described in paper https://arxiv.org/abs/1805.07470\n",
    "    :param target: numpy array\n",
    "    :param state: state to be encoded\n",
    "    \"\"\"\n",
    "    assert isinstance(state, State)\n",
    "\n",
    "    # handle corner cubelets: find their permuted position\n",
    "    for corner_idx in range(8):\n",
    "        perm_pos = state.corner_pos.index(corner_idx)\n",
    "        corn_ort = state.corner_ort[perm_pos]\n",
    "        target[corner_idx, perm_pos * 3 + corn_ort] = 1"
   ]
  },
  {
   "cell_type": "code",
   "execution_count": null,
   "id": "f5a11a2d",
   "metadata": {},
   "outputs": [],
   "source": [
    "# register env\n",
    "_env.register(_env.CubeEnv(name=\"cube2x2\", state_type=State, initial_state=initial_state,\n",
    "                           is_goal_pred=is_initial, action_enum=Action,\n",
    "                           transform_func=transform, inverse_action_func=inverse_action,\n",
    "                           render_func=render, encoded_shape=encoded_shape,\n",
    "                           encode_func=encode_inplace))"
   ]
  }
 ],
 "metadata": {
  "jupytext": {
   "cell_metadata_filter": "-all",
   "main_language": "python",
   "notebook_metadata_filter": "-all"
  }
 },
 "nbformat": 4,
 "nbformat_minor": 5
}
