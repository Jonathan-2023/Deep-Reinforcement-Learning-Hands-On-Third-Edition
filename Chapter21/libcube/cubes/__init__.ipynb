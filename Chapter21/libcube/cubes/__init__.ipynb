{
 "cells": [
  {
   "cell_type": "code",
   "execution_count": null,
   "id": "bd6f3dd6",
   "metadata": {},
   "outputs": [],
   "source": [
    "from ._env import CubeEnv, get, names\n",
    "from . import cube3x3\n",
    "from . import cube2x2"
   ]
  },
  {
   "cell_type": "code",
   "execution_count": null,
   "id": "05deabe2",
   "metadata": {},
   "outputs": [],
   "source": [
    "__all__ = ('CubeEnv', 'get', 'names')"
   ]
  }
 ],
 "metadata": {
  "jupytext": {
   "cell_metadata_filter": "-all",
   "main_language": "python",
   "notebook_metadata_filter": "-all"
  }
 },
 "nbformat": 4,
 "nbformat_minor": 5
}
