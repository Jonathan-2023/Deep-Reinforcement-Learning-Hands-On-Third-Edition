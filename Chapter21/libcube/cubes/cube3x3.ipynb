{
 "cells": [
  {
   "cell_type": "code",
   "execution_count": null,
   "id": "89813a65",
   "metadata": {},
   "outputs": [],
   "source": [
    "\"\"\"\n",
    "Classic cube 3x3\n",
    "\"\"\"\n",
    "import enum\n",
    "import collections"
   ]
  },
  {
   "cell_type": "code",
   "execution_count": null,
   "id": "b550521a",
   "metadata": {},
   "outputs": [],
   "source": [
    "from . import _env\n",
    "from . import _common"
   ]
  },
  {
   "cell_type": "code",
   "execution_count": null,
   "id": "be0e95d8",
   "metadata": {},
   "outputs": [],
   "source": [
    "# environment API\n",
    "State = collections.namedtuple(\"State\", field_names=[\n",
    "    'corner_pos', 'side_pos', 'corner_ort', 'side_ort'])"
   ]
  },
  {
   "cell_type": "code",
   "execution_count": null,
   "id": "3e625aa0",
   "metadata": {},
   "outputs": [],
   "source": [
    "# rendered state -- list of colors of every side\n",
    "RenderedState = collections.namedtuple(\"RenderedState\", field_names=['top', 'front', 'left', 'right', 'back', 'bottom'])"
   ]
  },
  {
   "cell_type": "code",
   "execution_count": null,
   "id": "75ff12b3",
   "metadata": {},
   "outputs": [],
   "source": [
    "# initial (solved state)\n",
    "initial_state = State(corner_pos=tuple(range(8)), side_pos=tuple(range(12)),\n",
    "                      corner_ort=tuple([0]*8), side_ort=tuple([0]*12))"
   ]
  },
  {
   "cell_type": "code",
   "execution_count": null,
   "id": "c7c1e4ba",
   "metadata": {},
   "outputs": [],
   "source": [
    "def is_initial(state):\n",
    "    \"\"\"\n",
    "    Checks that this state is initial state\n",
    "    :param state: State instance\n",
    "    :return: True if state match initial, False otherwise\n",
    "    \"\"\"\n",
    "    return state.corner_pos == initial_state.corner_pos and \\\n",
    "           state.side_pos == initial_state.side_pos and \\\n",
    "           state.corner_ort == initial_state.corner_ort and \\\n",
    "           state.side_ort == initial_state.side_ort"
   ]
  },
  {
   "cell_type": "code",
   "execution_count": null,
   "id": "beed0780",
   "metadata": {},
   "outputs": [],
   "source": [
    "# available actions. Capital actions denote clockwise rotation\n",
    "class Action(enum.Enum):\n",
    "    R = 0\n",
    "    L = 1\n",
    "    T = 2\n",
    "    D = 3\n",
    "    F = 4\n",
    "    B = 5\n",
    "    r = 6\n",
    "    l = 7\n",
    "    t = 8\n",
    "    d = 9\n",
    "    f = 10\n",
    "    b = 11"
   ]
  },
  {
   "cell_type": "code",
   "execution_count": null,
   "id": "76620bcf",
   "metadata": {},
   "outputs": [],
   "source": [
    "_inverse_action = {\n",
    "    Action.R: Action.r,   Action.r: Action.R,\n",
    "    Action.L: Action.l,   Action.l: Action.L,\n",
    "    Action.T: Action.t,   Action.t: Action.T,\n",
    "    Action.D: Action.d,   Action.d: Action.D,\n",
    "    Action.F: Action.f,   Action.f: Action.F,\n",
    "    Action.B: Action.b,   Action.b: Action.B,\n",
    "}"
   ]
  },
  {
   "cell_type": "code",
   "execution_count": null,
   "id": "f0535aad",
   "metadata": {},
   "outputs": [],
   "source": [
    "def inverse_action(action):\n",
    "    assert isinstance(action, Action)\n",
    "    return _inverse_action[action]"
   ]
  },
  {
   "cell_type": "code",
   "execution_count": null,
   "id": "18e7248b",
   "metadata": {},
   "outputs": [],
   "source": [
    "def _flip(side_ort, sides):\n",
    "    return [\n",
    "        o if idx not in sides else 1-o\n",
    "        for idx, o in enumerate(side_ort)\n",
    "    ]"
   ]
  },
  {
   "cell_type": "code",
   "execution_count": null,
   "id": "88b9a032",
   "metadata": {},
   "outputs": [],
   "source": [
    "_transform_map = {\n",
    "    Action.R: [\n",
    "        ((1, 2), (2, 6), (6, 5), (5, 1)),           # corner map\n",
    "        ((1, 6), (6, 9), (9, 5), (5, 1)),           # side map\n",
    "        ((1, 2), (2, 1), (5, 1), (6, 2)),           # corner rotate\n",
    "        ()                                          # side flip\n",
    "    ],\n",
    "    Action.L: [\n",
    "        ((3, 0), (7, 3), (0, 4), (4, 7)),\n",
    "        ((7, 3), (3, 4), (11, 7), (4, 11)),\n",
    "        ((0, 1), (3, 2), (4, 2), (7, 1)),\n",
    "        ()\n",
    "    ],\n",
    "    Action.T: [\n",
    "        ((0, 3), (1, 0), (2, 1), (3, 2)),\n",
    "        ((0, 3), (1, 0), (2, 1), (3, 2)),\n",
    "        (),\n",
    "        ()\n",
    "    ],\n",
    "    Action.D: [\n",
    "        ((4, 5), (5,  6), (6, 7), (7, 4)),\n",
    "        ((8, 9), (9, 10), (10, 11), (11, 8)),\n",
    "        (),\n",
    "        ()\n",
    "    ],\n",
    "    Action.F: [\n",
    "        ((0, 1), (1, 5), (5, 4), (4, 0)),\n",
    "        ((0, 5), (4, 0), (5, 8), (8, 4)),\n",
    "        ((0, 2), (1, 1), (4, 1), (5, 2)),\n",
    "        (0, 4, 5, 8)\n",
    "    ],\n",
    "    Action.B: [\n",
    "        ((2, 3), (3, 7), (7, 6), (6, 2)),\n",
    "        ((2, 7), (6, 2), (7, 10), (10, 6)),\n",
    "        ((2, 2), (3, 1), (6, 1), (7, 2)),\n",
    "        (2, 6, 7, 10)\n",
    "    ]\n",
    "}"
   ]
  },
  {
   "cell_type": "code",
   "execution_count": null,
   "id": "e477534e",
   "metadata": {},
   "outputs": [],
   "source": [
    "def transform(state, action):\n",
    "    assert isinstance(state, State)\n",
    "    assert isinstance(action, Action)\n",
    "    global _transform_map\n",
    "\n",
    "    is_inv = action not in _transform_map\n",
    "    if is_inv:\n",
    "        action = inverse_action(action)\n",
    "    c_map, s_map, c_rot, s_flp = _transform_map[action]\n",
    "    corner_pos = _common._permute(state.corner_pos, c_map, is_inv)\n",
    "    corner_ort = _common._permute(state.corner_ort, c_map, is_inv)\n",
    "    corner_ort = _common._rotate(corner_ort, c_rot)\n",
    "    side_pos = _common._permute(state.side_pos, s_map, is_inv)\n",
    "    side_ort = state.side_ort\n",
    "    if s_flp:\n",
    "        side_ort = _common._permute(side_ort, s_map, is_inv)\n",
    "        side_ort = _flip(side_ort, s_flp)\n",
    "    return State(corner_pos=tuple(corner_pos), corner_ort=tuple(corner_ort),\n",
    "                 side_pos=tuple(side_pos), side_ort=tuple(side_ort))"
   ]
  },
  {
   "cell_type": "code",
   "execution_count": null,
   "id": "bddbed16",
   "metadata": {},
   "outputs": [],
   "source": [
    "# make initial state of rendered side\n",
    "def _init_side(color):\n",
    "    return [color if idx == 4 else None for idx in range(9)]"
   ]
  },
  {
   "cell_type": "code",
   "execution_count": null,
   "id": "4baa4e03",
   "metadata": {},
   "outputs": [],
   "source": [
    "# create initial sides in the right order\n",
    "def _init_sides():\n",
    "    return [\n",
    "        _init_side('W'),    # top\n",
    "        _init_side('G'),    # left\n",
    "        _init_side('O'),    # back\n",
    "        _init_side('R'),    # front\n",
    "        _init_side('B'),    # right\n",
    "        _init_side('Y')     # bottom\n",
    "    ]"
   ]
  },
  {
   "cell_type": "code",
   "execution_count": null,
   "id": "5f83b24e",
   "metadata": {},
   "outputs": [],
   "source": [
    "# corner cubelets colors (clockwise from main label). Order of cubelets are first top,\n",
    "# in counter-clockwise, started from front left\n",
    "corner_colors = (\n",
    "    ('W', 'R', 'G'), ('W', 'B', 'R'), ('W', 'O', 'B'), ('W', 'G', 'O'),\n",
    "    ('Y', 'G', 'R'), ('Y', 'R', 'B'), ('Y', 'B', 'O'), ('Y', 'O', 'G')\n",
    ")"
   ]
  },
  {
   "cell_type": "code",
   "execution_count": null,
   "id": "6345be9f",
   "metadata": {
    "lines_to_next_cell": 2
   },
   "outputs": [],
   "source": [
    "side_colors = (\n",
    "    ('W', 'R'), ('W', 'B'), ('W', 'O'), ('W', 'G'),\n",
    "    ('R', 'G'), ('R', 'B'), ('O', 'B'), ('O', 'G'),\n",
    "    ('Y', 'R'), ('Y', 'B'), ('Y', 'O'), ('Y', 'G')\n",
    ")"
   ]
  },
  {
   "cell_type": "code",
   "execution_count": null,
   "id": "bdee5e04",
   "metadata": {},
   "outputs": [],
   "source": [
    "# map every 3-side cubelet to their projection on sides\n",
    "# sides are indexed in the order of _init_sides() function result\n",
    "corner_maps = (\n",
    "    # top layer\n",
    "    ((0, 6), (3, 0), (1, 2)),\n",
    "    ((0, 8), (4, 0), (3, 2)),\n",
    "    ((0, 2), (2, 0), (4, 2)),\n",
    "    ((0, 0), (1, 0), (2, 2)),\n",
    "    # bottom layer\n",
    "    ((5, 0), (1, 8), (3, 6)),\n",
    "    ((5, 2), (3, 8), (4, 6)),\n",
    "    ((5, 8), (4, 8), (2, 6)),\n",
    "    ((5, 6), (2, 8), (1, 6))\n",
    ")"
   ]
  },
  {
   "cell_type": "code",
   "execution_count": null,
   "id": "d2a9b941",
   "metadata": {},
   "outputs": [],
   "source": [
    "# map every 2-side cubelet to their projection on sides\n",
    "side_maps = (\n",
    "    # top layer\n",
    "    ((0, 7), (3, 1)),\n",
    "    ((0, 5), (4, 1)),\n",
    "    ((0, 1), (2, 1)),\n",
    "    ((0, 3), (1, 1)),\n",
    "    # middle layer\n",
    "    ((3, 3), (1, 5)),\n",
    "    ((3, 5), (4, 3)),\n",
    "    ((2, 3), (4, 5)),\n",
    "    ((2, 5), (1, 3)),\n",
    "    # bottom layer\n",
    "    ((5, 1), (3, 7)),\n",
    "    ((5, 5), (4, 7)),\n",
    "    ((5, 7), (2, 7)),\n",
    "    ((5, 3), (1, 7))\n",
    ")"
   ]
  },
  {
   "cell_type": "code",
   "execution_count": null,
   "id": "63cf5d08",
   "metadata": {},
   "outputs": [],
   "source": [
    "# render state into human readable form\n",
    "def render(state):\n",
    "    assert isinstance(state, State)\n",
    "    global corner_colors, corner_maps, side_colors, side_maps\n",
    "\n",
    "    sides = _init_sides()\n",
    "\n",
    "    for corner, orient, maps in zip(state.corner_pos, state.corner_ort, corner_maps):\n",
    "        cols = corner_colors[corner]\n",
    "        cols = _common._map_orient(cols, orient)\n",
    "        for (arr_idx, index), col in zip(maps, cols):\n",
    "            sides[arr_idx][index] = col\n",
    "\n",
    "    for side, orient, maps in zip(state.side_pos, state.side_ort, side_maps):\n",
    "        cols = side_colors[side]\n",
    "        cols = cols if orient == 0 else (cols[1], cols[0])\n",
    "        for (arr_idx, index), col in zip(maps, cols):\n",
    "            sides[arr_idx][index] = col\n",
    "\n",
    "    return RenderedState(top=sides[0], left=sides[1], back=sides[2], front=sides[3],\n",
    "                         right=sides[4], bottom=sides[5])"
   ]
  },
  {
   "cell_type": "code",
   "execution_count": null,
   "id": "80b6cf62",
   "metadata": {},
   "outputs": [],
   "source": [
    "# shape of encoded cube state\n",
    "encoded_shape = (20, 24)"
   ]
  },
  {
   "cell_type": "code",
   "execution_count": null,
   "id": "614552ec",
   "metadata": {},
   "outputs": [],
   "source": [
    "def encode_inplace(target, state):\n",
    "    \"\"\"\n",
    "    Encode cude into existig zeroed numpy array\n",
    "    Follows encoding described in paper https://arxiv.org/abs/1805.07470\n",
    "    :param target: numpy array\n",
    "    :param state: state to be encoded\n",
    "    \"\"\"\n",
    "    assert isinstance(state, State)\n",
    "\n",
    "    # handle corner cubelets: find their permuted position\n",
    "    for corner_idx in range(8):\n",
    "        perm_pos = state.corner_pos.index(corner_idx)\n",
    "        corn_ort = state.corner_ort[perm_pos]\n",
    "        target[corner_idx, perm_pos * 3 + corn_ort] = 1\n",
    "\n",
    "    # handle side cubelets\n",
    "    for side_idx in range(12):\n",
    "        perm_pos = state.side_pos.index(side_idx)\n",
    "        side_ort = state.side_ort[perm_pos]\n",
    "        target[8 + side_idx, perm_pos * 2 + side_ort] = 1"
   ]
  },
  {
   "cell_type": "code",
   "execution_count": null,
   "id": "84892584",
   "metadata": {},
   "outputs": [],
   "source": [
    "# register env\n",
    "_env.register(_env.CubeEnv(name=\"cube3x3\", state_type=State, initial_state=initial_state,\n",
    "                           is_goal_pred=is_initial, action_enum=Action,\n",
    "                           transform_func=transform, inverse_action_func=inverse_action,\n",
    "                           render_func=render, encoded_shape=encoded_shape,\n",
    "                           encode_func=encode_inplace))"
   ]
  }
 ],
 "metadata": {
  "jupytext": {
   "cell_metadata_filter": "-all",
   "main_language": "python",
   "notebook_metadata_filter": "-all"
  }
 },
 "nbformat": 4,
 "nbformat_minor": 5
}
