{
 "cells": [
  {
   "cell_type": "code",
   "execution_count": null,
   "id": "f85b20d6",
   "metadata": {},
   "outputs": [],
   "source": [
    "import gymnasium as gym\n",
    "import ptan\n",
    "import numpy as np\n",
    "from torch.utils.tensorboard.writer import SummaryWriter"
   ]
  },
  {
   "cell_type": "code",
   "execution_count": null,
   "id": "eae82c74",
   "metadata": {},
   "outputs": [],
   "source": [
    "import torch\n",
    "import torch.nn as nn\n",
    "import torch.optim as optim"
   ]
  },
  {
   "cell_type": "code",
   "execution_count": null,
   "id": "390260ab",
   "metadata": {},
   "outputs": [],
   "source": [
    "GAMMA = 0.99\n",
    "LEARNING_RATE = 0.002\n",
    "BATCH_SIZE = 8"
   ]
  },
  {
   "cell_type": "code",
   "execution_count": null,
   "id": "bc48f87b",
   "metadata": {},
   "outputs": [],
   "source": [
    "EPSILON_START = 1.0\n",
    "EPSILON_STOP = 0.02\n",
    "EPSILON_STEPS = 5000"
   ]
  },
  {
   "cell_type": "code",
   "execution_count": null,
   "id": "5ad8b705",
   "metadata": {},
   "outputs": [],
   "source": [
    "REPLAY_BUFFER = 50000"
   ]
  },
  {
   "cell_type": "code",
   "execution_count": null,
   "id": "a95e3e5c",
   "metadata": {},
   "outputs": [],
   "source": [
    "class DQN(nn.Module):\n",
    "    def __init__(self, input_size: int, n_actions: int):\n",
    "        super(DQN, self).__init__()\n",
    "\n",
    "        self.net = nn.Sequential(\n",
    "            nn.Linear(input_size, 128),\n",
    "            nn.ReLU(),\n",
    "            nn.Linear(128, n_actions)\n",
    "        )\n",
    "\n",
    "    def forward(self, x: torch.Tensor) -> torch.Tensor:\n",
    "        return self.net(x)"
   ]
  },
  {
   "cell_type": "code",
   "execution_count": null,
   "id": "97f4ab2a",
   "metadata": {},
   "outputs": [],
   "source": [
    "def calc_target(net: DQN, local_reward: float, next_state: np.ndarray) -> float:\n",
    "    if next_state is None:\n",
    "        return local_reward\n",
    "    state_v = torch.tensor([next_state], dtype=torch.float32)\n",
    "    next_q_v = net(state_v)\n",
    "    best_q = next_q_v.max(dim=1)[0].item()\n",
    "    return local_reward + GAMMA * best_q"
   ]
  },
  {
   "cell_type": "code",
   "execution_count": null,
   "id": "9d782102",
   "metadata": {},
   "outputs": [],
   "source": [
    "if __name__ == \"__main__\":\n",
    "    env = gym.make(\"CartPole-v1\")\n",
    "    writer = SummaryWriter(comment=\"-cartpole-dqn\")\n",
    "\n",
    "    net = DQN(env.observation_space.shape[0], env.action_space.n)\n",
    "    print(net)\n",
    "\n",
    "    selector = ptan.actions.EpsilonGreedyActionSelector(epsilon=EPSILON_START)\n",
    "    agent = ptan.agent.DQNAgent(net, selector, preprocessor=ptan.agent.float32_preprocessor)\n",
    "    exp_source = ptan.experience.ExperienceSourceFirstLast(env, agent, gamma=GAMMA)\n",
    "    replay_buffer = ptan.experience.ExperienceReplayBuffer(exp_source, REPLAY_BUFFER)\n",
    "\n",
    "    optimizer = optim.Adam(net.parameters(), lr=LEARNING_RATE)\n",
    "    mse_loss = nn.MSELoss()\n",
    "\n",
    "    total_rewards = []\n",
    "    step_idx = 0\n",
    "    done_episodes = 0\n",
    "\n",
    "    while True:\n",
    "        step_idx += 1\n",
    "        selector.epsilon = max(EPSILON_STOP, EPSILON_START - step_idx / EPSILON_STEPS)\n",
    "        replay_buffer.populate(1)\n",
    "\n",
    "        if len(replay_buffer) < BATCH_SIZE:\n",
    "            continue\n",
    "\n",
    "        # sample batch\n",
    "        batch = replay_buffer.sample(BATCH_SIZE)\n",
    "        batch_states = [exp.state for exp in batch]\n",
    "        batch_actions = [exp.action for exp in batch]\n",
    "        batch_targets = [calc_target(net, exp.reward, exp.last_state)\n",
    "                         for exp in batch]\n",
    "        # train\n",
    "        optimizer.zero_grad()\n",
    "        states_v = torch.as_tensor(np.asarray(batch_states))\n",
    "        net_q_v = net(states_v)\n",
    "        target_q = net_q_v.data.numpy().copy()\n",
    "        target_q[range(BATCH_SIZE), batch_actions] = batch_targets\n",
    "        target_q_v = torch.as_tensor(target_q)\n",
    "        loss_v = mse_loss(net_q_v, target_q_v)\n",
    "        loss_v.backward()\n",
    "        optimizer.step()\n",
    "\n",
    "        # handle new rewards\n",
    "        new_rewards = exp_source.pop_total_rewards()\n",
    "        if new_rewards:\n",
    "            done_episodes += 1\n",
    "            reward = new_rewards[0]\n",
    "            total_rewards.append(reward)\n",
    "            mean_rewards = float(np.mean(total_rewards[-100:]))\n",
    "            print(\"%d: reward: %6.2f, mean_100: %6.2f, epsilon: %.2f, episodes: %d\" % (\n",
    "                step_idx, reward, mean_rewards, selector.epsilon, done_episodes))\n",
    "            writer.add_scalar(\"reward\", reward, step_idx)\n",
    "            writer.add_scalar(\"reward_100\", mean_rewards, step_idx)\n",
    "            writer.add_scalar(\"epsilon\", selector.epsilon, step_idx)\n",
    "            writer.add_scalar(\"episodes\", done_episodes, step_idx)\n",
    "            if mean_rewards > 450:\n",
    "                print(\"Solved in %d steps and %d episodes!\" % (step_idx, done_episodes))\n",
    "                break\n",
    "    writer.close()"
   ]
  }
 ],
 "metadata": {
  "jupytext": {
   "cell_metadata_filter": "-all",
   "executable": "/usr/bin/env python3",
   "main_language": "python",
   "notebook_metadata_filter": "-all"
  }
 },
 "nbformat": 4,
 "nbformat_minor": 5
}
