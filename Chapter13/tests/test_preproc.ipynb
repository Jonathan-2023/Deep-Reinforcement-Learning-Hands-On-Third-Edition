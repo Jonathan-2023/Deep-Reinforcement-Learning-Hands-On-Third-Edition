{
 "cells": [
  {
   "cell_type": "code",
   "execution_count": null,
   "id": "2bc6c7a4",
   "metadata": {},
   "outputs": [],
   "source": [
    "from pytest import mark"
   ]
  },
  {
   "cell_type": "code",
   "execution_count": null,
   "id": "ef824598",
   "metadata": {
    "lines_to_next_cell": 2
   },
   "outputs": [],
   "source": [
    "from lib.preproc import RelativeDirectionWrapper"
   ]
  },
  {
   "cell_type": "code",
   "execution_count": null,
   "id": "1231ed3e",
   "metadata": {},
   "outputs": [],
   "source": [
    "@mark.parametrize(\"abs_act, dir_name, exp_rel_act\", [\n",
    "    (\"go north\", \"north\", \"go forward\"),\n",
    "    (\"go south\", \"south\", \"go forward\"),\n",
    "    (\"go east\",  \"east\",  \"go forward\"),\n",
    "    (\"go east\",  \"north\", \"go right\"),\n",
    "    (\"go west\",  \"north\", \"go left\"),\n",
    "    (\"go south\", \"north\", \"go back\"),\n",
    "    (\"go west\",  \"east\",  \"go back\"),\n",
    "    (\"go west\",  \"south\", \"go right\"),\n",
    "    (\"go east\",  \"south\", \"go left\"),\n",
    "    (\"go north\", \"south\", \"go back\"),\n",
    "    (\"go south\", \"east\",  \"go right\"),\n",
    "    (\"go south\", \"west\",  \"go left\"),\n",
    "])\n",
    "def test_abs_to_rel(abs_act, dir_name, exp_rel_act):\n",
    "    dir_idx = RelativeDirectionWrapper.ABSOLUTE_DIRS.index(dir_name)\n",
    "    rel_act = RelativeDirectionWrapper.abs_to_rel(abs_act, dir_idx)\n",
    "    assert isinstance(rel_act, str)\n",
    "    assert rel_act == exp_rel_act"
   ]
  },
  {
   "cell_type": "code",
   "execution_count": null,
   "id": "83774a10",
   "metadata": {},
   "outputs": [],
   "source": [
    "@mark.parametrize(\"rel_act, dir_name, exp_abs_act\", [\n",
    "    (\"go forward\", \"north\", \"go north\"),\n",
    "    (\"go right\",   \"north\", \"go east\"),\n",
    "    (\"go back\",    \"north\", \"go south\"),\n",
    "    (\"go left\",    \"north\", \"go west\"),\n",
    "\n",
    "    (\"go forward\", \"east\", \"go east\"),\n",
    "    (\"go right\",   \"east\", \"go south\"),\n",
    "    (\"go back\",    \"east\", \"go west\"),\n",
    "    (\"go left\",    \"east\", \"go north\"),\n",
    "])\n",
    "def test_rel_to_abs(rel_act, dir_name, exp_abs_act):\n",
    "    dir_idx = RelativeDirectionWrapper.ABSOLUTE_DIRS.index(dir_name)\n",
    "    abs_act = RelativeDirectionWrapper.rel_to_abs(rel_act, dir_idx)\n",
    "    assert isinstance(abs_act, str)\n",
    "    assert abs_act == exp_abs_act"
   ]
  },
  {
   "cell_type": "code",
   "execution_count": null,
   "id": "9d6ae65c",
   "metadata": {},
   "outputs": [],
   "source": [
    "@mark.parametrize(\"rel_act, dir_name, exp_new_dir\", [\n",
    "    (\"go forward\", \"north\", \"north\"),\n",
    "    (\"go right\",   \"north\", \"east\"),\n",
    "    (\"go left\",    \"north\", \"west\"),\n",
    "    (\"go back\",    \"north\", \"south\"),\n",
    "\n",
    "    (\"go forward\", \"west\", \"west\"),\n",
    "    (\"go right\",   \"west\", \"north\"),\n",
    "    (\"go left\",    \"west\", \"south\"),\n",
    "    (\"go back\",    \"west\", \"east\"),\n",
    "])\n",
    "def test_rel_execute(rel_act, dir_name, exp_new_dir):\n",
    "    dir_idx = RelativeDirectionWrapper.ABSOLUTE_DIRS.index(dir_name)\n",
    "    new_dir = RelativeDirectionWrapper.rel_execute(rel_act, dir_idx)\n",
    "    assert isinstance(new_dir, int)\n",
    "    new_dir_name = RelativeDirectionWrapper.ABSOLUTE_DIRS[new_dir]\n",
    "    assert new_dir_name == exp_new_dir"
   ]
  },
  {
   "cell_type": "code",
   "execution_count": null,
   "id": "61aba877",
   "metadata": {},
   "outputs": [],
   "source": [
    "def test_update_vocabs():\n",
    "    v, v_r = {}, {}\n",
    "    RelativeDirectionWrapper.update_vocabs(v, v_r)\n",
    "    assert len(v) == 4\n",
    "    assert len(v_r) == 4\n",
    "    assert v == {0: \"right\", 1: \"forward\", 2: \"left\", 3: \"back\"}\n",
    "    assert v_r == {\"right\": 0, \"forward\": 1, \"left\": 2, \"back\": 3}\n",
    "\n",
    "    v, v_r = {0: \"word\", 1: \"left\"}, {\"word\": 0, \"left\": 1}\n",
    "    RelativeDirectionWrapper.update_vocabs(v, v_r)\n",
    "    assert len(v) == 5\n",
    "    assert len(v_r) == 5\n",
    "    assert v == {0: \"word\", 1: \"left\", 2: \"right\", 3: \"forward\", 4: \"back\"}\n",
    "    assert v_r == {\"word\": 0, \"left\": 1, \"right\": 2, \"forward\": 3, \"back\": 4}"
   ]
  }
 ],
 "metadata": {
  "jupytext": {
   "cell_metadata_filter": "-all",
   "main_language": "python",
   "notebook_metadata_filter": "-all"
  }
 },
 "nbformat": 4,
 "nbformat_minor": 5
}
