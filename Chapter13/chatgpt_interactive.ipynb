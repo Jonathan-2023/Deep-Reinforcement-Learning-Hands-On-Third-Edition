{
 "cells": [
  {
   "cell_type": "code",
   "execution_count": null,
   "id": "96d040ff",
   "metadata": {},
   "outputs": [],
   "source": [
    "import argparse\n",
    "import textwrap\n",
    "from textworld import gym, EnvInfos\n",
    "from textworld.gym import register_game"
   ]
  },
  {
   "cell_type": "code",
   "execution_count": null,
   "id": "523dfcbc",
   "metadata": {},
   "outputs": [],
   "source": [
    "def play_game(env, max_steps: int = 20) -> bool:\n",
    "    commands = []\n",
    "\n",
    "    obs, info = env.reset()\n",
    "\n",
    "    print(textwrap.dedent(\"\"\"\\\n",
    "    You're playing the interactive fiction game.\n",
    "    Here is the game objective: %s\n",
    "    \n",
    "    Here is the room description: %s\n",
    "    \n",
    "    What command do you want to execute next? Reply with \n",
    "    just a command in lowercase and nothing else. \n",
    "    \"\"\")  % (info['objective'], info['description']))\n",
    "\n",
    "    print(\"=== Send this to chat.openai.com and type the reply...\")\n",
    "\n",
    "    while len(commands) < max_steps:\n",
    "        cmd = input(\">>> \")\n",
    "        commands.append(cmd)\n",
    "        obs, r, is_done, info = env.step(cmd)\n",
    "        if is_done:\n",
    "            print(f\"You won in {len(commands)} steps! \"\n",
    "                  f\"Don't forget to congratulate ChatGPT!\")\n",
    "            return True\n",
    "\n",
    "        print(textwrap.dedent(\"\"\"\\\n",
    "        Last command result: %s\n",
    "        Room description: %s\n",
    "        \n",
    "        What's the next command?\n",
    "        \"\"\") % (obs, info['description']))\n",
    "        print(\"=== Send this to chat.openai.com and type the reply...\")\n",
    "\n",
    "    print(f\"Wasn't able to solve after {max_steps} steps, commands: {commands}\")\n",
    "    return False"
   ]
  },
  {
   "cell_type": "code",
   "execution_count": null,
   "id": "2d8b494d",
   "metadata": {},
   "outputs": [],
   "source": [
    "if __name__ == \"__main__\":\n",
    "    parser = argparse.ArgumentParser()\n",
    "    parser.add_argument(\"-g\", \"--game\", default=\"simple\",\n",
    "                        help=\"Game prefix to be used during training, default=simple\")\n",
    "    parser.add_argument(\"indices\", nargs='+', type=int, default=[1], help=\"Game indices to test on, default=1\")\n",
    "    args = parser.parse_args()\n",
    "\n",
    "    count_games, count_won = 0, 0\n",
    "    for index in args.indices:\n",
    "        env_id = register_game(\n",
    "            gamefile=f\"games/{args.game}{index}.ulx\",\n",
    "            request_infos=EnvInfos(description=True, objective=True),\n",
    "        )\n",
    "        env = gym.make(env_id)\n",
    "        count_games += 1\n",
    "        print(f\"Starting game {index}\\n\")\n",
    "        if play_game(env):\n",
    "            count_won += 1\n",
    "    print(f\"Played {count_games}, won {count_won}\")"
   ]
  }
 ],
 "metadata": {
  "jupytext": {
   "cell_metadata_filter": "-all",
   "executable": "/usr/bin/env python3",
   "main_language": "python",
   "notebook_metadata_filter": "-all"
  }
 },
 "nbformat": 4,
 "nbformat_minor": 5
}
