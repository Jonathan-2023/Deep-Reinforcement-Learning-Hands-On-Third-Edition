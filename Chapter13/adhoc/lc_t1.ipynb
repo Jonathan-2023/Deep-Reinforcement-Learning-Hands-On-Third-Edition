{
 "cells": [
  {
   "cell_type": "code",
   "execution_count": null,
   "id": "84b03b5a",
   "metadata": {},
   "outputs": [],
   "source": [
    "from langchain_openai import ChatOpenAI"
   ]
  },
  {
   "cell_type": "code",
   "execution_count": null,
   "id": "3f801085",
   "metadata": {},
   "outputs": [],
   "source": [
    "if __name__ == \"__main__\":\n",
    "    llm = ChatOpenAI()\n",
    "\n",
    "    r = llm.invoke(\"What do you know about TextWorld games?\")\n",
    "    print(r)"
   ]
  }
 ],
 "metadata": {
  "jupytext": {
   "cell_metadata_filter": "-all",
   "main_language": "python",
   "notebook_metadata_filter": "-all"
  }
 },
 "nbformat": 4,
 "nbformat_minor": 5
}
