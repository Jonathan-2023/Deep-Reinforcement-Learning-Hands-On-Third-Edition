{
 "cells": [
  {
   "cell_type": "code",
   "execution_count": null,
   "id": "0391d8e5",
   "metadata": {},
   "outputs": [],
   "source": [
    "from transformers import pipeline\n",
    "import numpy as np"
   ]
  },
  {
   "cell_type": "code",
   "execution_count": null,
   "id": "45ce0e31",
   "metadata": {},
   "outputs": [],
   "source": [
    "if __name__ == \"__main__\":\n",
    "    c = pipeline(\"feature-extraction\")\n",
    "    r = c([\"I'm disappointed by delivery service\", \"Test sentence\"])\n",
    "    for rr in r:\n",
    "        a = np.array(rr)\n",
    "        print(a.shape)"
   ]
  }
 ],
 "metadata": {
  "jupytext": {
   "cell_metadata_filter": "-all",
   "main_language": "python",
   "notebook_metadata_filter": "-all"
  }
 },
 "nbformat": 4,
 "nbformat_minor": 5
}
