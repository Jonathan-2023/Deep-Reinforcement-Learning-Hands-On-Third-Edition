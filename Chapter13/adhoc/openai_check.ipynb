{
 "cells": [
  {
   "cell_type": "code",
   "execution_count": null,
   "id": "146ef8c8",
   "metadata": {},
   "outputs": [],
   "source": [
    "import os\n",
    "import openai"
   ]
  },
  {
   "cell_type": "code",
   "execution_count": null,
   "id": "a66aedfe",
   "metadata": {
    "lines_to_next_cell": 1
   },
   "outputs": [],
   "source": [
    "OPENAI_KEY = os.environ[\"OPENAI_API_KEY\"]"
   ]
  },
  {
   "cell_type": "code",
   "execution_count": null,
   "id": "349ac3c7",
   "metadata": {
    "lines_to_next_cell": 1
   },
   "outputs": [],
   "source": [
    "def check_openai_api_key(api_key):\n",
    "    client = openai.OpenAI(api_key=api_key)\n",
    "    try:\n",
    "        client.models.list()\n",
    "    except openai.AuthenticationError as e:\n",
    "        print(e)\n",
    "        return False\n",
    "    else:\n",
    "        return True"
   ]
  },
  {
   "cell_type": "code",
   "execution_count": null,
   "id": "0289c54c",
   "metadata": {},
   "outputs": [],
   "source": [
    "# Check the validity of the API key\n",
    "api_key_valid = check_openai_api_key(OPENAI_KEY)\n",
    "print(\"API key is valid:\", api_key_valid)"
   ]
  }
 ],
 "metadata": {
  "jupytext": {
   "cell_metadata_filter": "-all",
   "main_language": "python",
   "notebook_metadata_filter": "-all"
  }
 },
 "nbformat": 4,
 "nbformat_minor": 5
}
