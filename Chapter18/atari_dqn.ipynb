{
 "cells": [
  {
   "cell_type": "code",
   "execution_count": null,
   "id": "beda95c3",
   "metadata": {},
   "outputs": [],
   "source": [
    "import ptan\n",
    "import argparse\n",
    "import random\n",
    "import numpy as np\n",
    "import gymnasium as gym"
   ]
  },
  {
   "cell_type": "code",
   "execution_count": null,
   "id": "88d70fa2",
   "metadata": {},
   "outputs": [],
   "source": [
    "import torch\n",
    "import torch.optim as optim"
   ]
  },
  {
   "cell_type": "code",
   "execution_count": null,
   "id": "a289c81c",
   "metadata": {},
   "outputs": [],
   "source": [
    "from types import SimpleNamespace\n",
    "from ignite.engine import Engine"
   ]
  },
  {
   "cell_type": "code",
   "execution_count": null,
   "id": "ca4fe60b",
   "metadata": {},
   "outputs": [],
   "source": [
    "from lib import common, dqn_extra"
   ]
  },
  {
   "cell_type": "code",
   "execution_count": null,
   "id": "978de7bc",
   "metadata": {
    "lines_to_next_cell": 2
   },
   "outputs": [],
   "source": [
    "STATES_TO_EVALUATE = 1000\n",
    "EVAL_EVERY_FRAME = 10000\n",
    "N_STEPS = 4\n",
    "N_ENVS = 3"
   ]
  },
  {
   "cell_type": "code",
   "execution_count": null,
   "id": "1210ffb8",
   "metadata": {},
   "outputs": [],
   "source": [
    "HYPERPARAMS = {\n",
    "    'egreedy': SimpleNamespace(**{\n",
    "        'env_name':         \"SeaquestNoFrameskip-v4\",\n",
    "        'stop_reward':      10000.0,\n",
    "        'run_name':         'egreedy',\n",
    "        'replay_size':      1000000,\n",
    "        'replay_initial':   20000,\n",
    "        'target_net_sync':  5000,\n",
    "        'epsilon_frames':   10 ** 6,\n",
    "        'epsilon_start':    1.0,\n",
    "        'epsilon_final':    0.02,\n",
    "        'learning_rate':    0.0001,\n",
    "        'gamma':            0.99,\n",
    "        'batch_size':       32\n",
    "    }),\n",
    "    'noisynet': SimpleNamespace(**{\n",
    "        'env_name': \"SeaquestNoFrameskip-v4\",\n",
    "        'stop_reward': 10000.0,\n",
    "        'run_name': 'noisynet',\n",
    "        'replay_size': 1000000,\n",
    "        'replay_initial': 20000,\n",
    "        'target_net_sync': 5000,\n",
    "        'learning_rate': 0.0001,\n",
    "        'gamma': 0.99,\n",
    "        'batch_size': 32\n",
    "    }),\n",
    "}"
   ]
  },
  {
   "cell_type": "code",
   "execution_count": null,
   "id": "c9f65a65",
   "metadata": {},
   "outputs": [],
   "source": [
    "@torch.no_grad()\n",
    "def evaluate_states(states, net, device, engine):\n",
    "    s_v = torch.tensor(states).to(device)\n",
    "    adv, val = net.adv_val(s_v)\n",
    "    engine.state.metrics['adv'] = adv.mean().item()\n",
    "    engine.state.metrics['val'] = val.mean().item()"
   ]
  },
  {
   "cell_type": "code",
   "execution_count": null,
   "id": "32fadfa8",
   "metadata": {},
   "outputs": [],
   "source": [
    "if __name__ == \"__main__\":\n",
    "    random.seed(common.SEED)\n",
    "    torch.manual_seed(common.SEED)\n",
    "\n",
    "    parser = argparse.ArgumentParser()\n",
    "    parser.add_argument(\"--dev\", default=\"cpu\", help=\"Device to use\")\n",
    "    parser.add_argument(\"-n\", \"--name\", required=True, help=\"Run name\")\n",
    "    parser.add_argument(\"-p\", \"--params\", default='egreedy', choices=list(HYPERPARAMS.keys()),\n",
    "                        help=\"Parameters, default=egreedy\")\n",
    "    args = parser.parse_args()\n",
    "    params = HYPERPARAMS[args.params]\n",
    "    device = torch.device(args.dev)\n",
    "\n",
    "    envs = []\n",
    "    for _ in range(N_ENVS):\n",
    "        env = gym.make(params.env_name)\n",
    "        env = ptan.common.wrappers.wrap_dqn(env)\n",
    "        envs.append(env)\n",
    "\n",
    "    epsilon_tracker = None\n",
    "    selector = ptan.actions.ArgmaxActionSelector()\n",
    "    if args.params == 'egreedy':\n",
    "        net = dqn_extra.BaselineDQN(env.observation_space.shape, env.action_space.n).to(device)\n",
    "        selector = ptan.actions.EpsilonGreedyActionSelector(epsilon=params.epsilon_start)\n",
    "        epsilon_tracker = common.EpsilonTracker(selector, params)\n",
    "    elif args.params == 'noisynet':\n",
    "        net = dqn_extra.NoisyDQN(env.observation_space.shape, env.action_space.n).to(device)\n",
    "\n",
    "    tgt_net = ptan.agent.TargetNet(net)\n",
    "    agent = ptan.agent.DQNAgent(net, selector, device=device)\n",
    "\n",
    "    exp_source = ptan.experience.ExperienceSourceFirstLast(\n",
    "        envs, agent, gamma=params.gamma, steps_count=N_STEPS)\n",
    "    buffer = ptan.experience.ExperienceReplayBuffer(\n",
    "        exp_source, buffer_size=params.replay_size)\n",
    "    optimizer = optim.Adam(net.parameters(), lr=params.learning_rate)\n",
    "\n",
    "    def process_batch(engine, batch):\n",
    "        optimizer.zero_grad()\n",
    "        loss_v = common.calc_loss_double_dqn(batch, net, tgt_net.target_model,\n",
    "                                             gamma=params.gamma**N_STEPS, device=device)\n",
    "        loss_v.backward()\n",
    "        optimizer.step()\n",
    "        if epsilon_tracker is not None:\n",
    "            epsilon_tracker.frame(engine.state.iteration)\n",
    "        if engine.state.iteration % params.target_net_sync == 0:\n",
    "            tgt_net.sync()\n",
    "        if engine.state.iteration % EVAL_EVERY_FRAME == 0:\n",
    "            eval_states = getattr(engine.state, \"eval_states\", None)\n",
    "            if eval_states is None:\n",
    "                eval_states = buffer.sample(STATES_TO_EVALUATE)\n",
    "                eval_states = [np.asarray(transition.state) for transition in eval_states]\n",
    "                eval_states = np.asarray(eval_states)\n",
    "                engine.state.eval_states = eval_states\n",
    "            evaluate_states(eval_states, net, device, engine)\n",
    "        res = {\n",
    "            \"loss\": loss_v.item(),\n",
    "        }\n",
    "        if epsilon_tracker is not None:\n",
    "            res['epsilon'] = selector.epsilon\n",
    "        return res\n",
    "\n",
    "    engine = Engine(process_batch)\n",
    "    common.setup_ignite(engine, params, exp_source, args.name, extra_metrics=('adv', 'val'))\n",
    "    engine.run(common.batch_generator(buffer, params.replay_initial, params.batch_size))"
   ]
  }
 ],
 "metadata": {
  "jupytext": {
   "cell_metadata_filter": "-all",
   "executable": "/usr/bin/env python3",
   "main_language": "python",
   "notebook_metadata_filter": "-all"
  }
 },
 "nbformat": 4,
 "nbformat_minor": 5
}
