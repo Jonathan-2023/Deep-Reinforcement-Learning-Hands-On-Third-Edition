{
 "cells": [
  {
   "cell_type": "code",
   "execution_count": null,
   "id": "5caca2c4",
   "metadata": {},
   "outputs": [],
   "source": [
    "import unittest\n",
    "from numpy import testing"
   ]
  },
  {
   "cell_type": "code",
   "execution_count": null,
   "id": "91decbb4",
   "metadata": {},
   "outputs": [],
   "source": [
    "from lib import ppo"
   ]
  },
  {
   "cell_type": "code",
   "execution_count": null,
   "id": "327f33fe",
   "metadata": {
    "lines_to_next_cell": 2
   },
   "outputs": [],
   "source": [
    "class TestPPO(unittest.TestCase):\n",
    "    def test_adv_ref(self):\n",
    "        vals = [0, 0, 0, 0, 0]\n",
    "        dones = [False, False, True, False, False]\n",
    "        rewards = [1, 1, 1, 1, 1]\n",
    "\n",
    "        adv_t, ref_t = ppo.calc_adv_ref(vals, dones, rewards, 1.0, 1.0)\n",
    "        adv = adv_t.detach().numpy()\n",
    "        ref = ref_t.detach().numpy()\n",
    "\n",
    "        testing.assert_array_equal(ref, [3, 2, 1, 1])\n",
    "        testing.assert_array_equal(ref, adv)\n",
    "\n",
    "        adv_t, ref_t = ppo.calc_adv_ref(vals, dones, rewards, 0.9, 1.0)\n",
    "        adv = adv_t.detach().numpy()\n",
    "        ref = ref_t.detach().numpy()\n",
    "\n",
    "        testing.assert_array_almost_equal(ref, [2.71, 1.9, 1., 1.])\n",
    "        testing.assert_array_almost_equal(ref, adv)\n",
    "\n",
    "\n",
    "        pass"
   ]
  }
 ],
 "metadata": {
  "jupytext": {
   "cell_metadata_filter": "-all",
   "main_language": "python",
   "notebook_metadata_filter": "-all"
  }
 },
 "nbformat": 4,
 "nbformat_minor": 5
}
