{
 "cells": [
  {
   "cell_type": "code",
   "execution_count": null,
   "id": "95d09fa4",
   "metadata": {},
   "outputs": [],
   "source": [
    "import random\n",
    "import argparse\n",
    "import collections\n",
    "import typing as tt"
   ]
  },
  {
   "cell_type": "code",
   "execution_count": null,
   "id": "61d22446",
   "metadata": {},
   "outputs": [],
   "source": [
    "SEED = 2"
   ]
  },
  {
   "cell_type": "code",
   "execution_count": null,
   "id": "40160a79",
   "metadata": {},
   "outputs": [],
   "source": [
    "def get_action(state: int, total_states: int) -> int:\n",
    "    \"\"\"\n",
    "    Return action from the given state. Actions are selected randomly\n",
    "    :param state: state we're currently in\n",
    "    :return: 0 means left, 1 is right\n",
    "    \"\"\"\n",
    "    if state == 1:\n",
    "        return 1\n",
    "    if state == total_states:\n",
    "        return 0\n",
    "    return random.choice([0, 1])"
   ]
  },
  {
   "cell_type": "code",
   "execution_count": null,
   "id": "206ce60e",
   "metadata": {},
   "outputs": [],
   "source": [
    "def do_action(state: int, action: int) -> int:\n",
    "    \"\"\"\n",
    "    Simulate the action from the given state\n",
    "    \"\"\"\n",
    "    # left action always succeeds and brings us to the left\n",
    "    if action == 0:\n",
    "        return state-1\n",
    "\n",
    "    if state == 1:\n",
    "        return random.choices([1, 2], weights=[0.4, 0.6])[0]\n",
    "    # the rest of states are the same\n",
    "    delta = random.choices([-1, 0, 1], weights=[0.05, 0.6, 0.35])[0]\n",
    "    return state + delta"
   ]
  },
  {
   "cell_type": "code",
   "execution_count": null,
   "id": "6bb87c92",
   "metadata": {},
   "outputs": [],
   "source": [
    "if __name__ == \"__main__\":\n",
    "    parser = argparse.ArgumentParser()\n",
    "    parser.add_argument(\"-n\", \"--steps\", type=int, default=100, help=\"Amount of steps to simulate, default=100\")\n",
    "    parser.add_argument(\"--episode-length\", type=int, default=10, help=\"Limit of one episode, default=10\")\n",
    "    parser.add_argument(\"--seed\", type=int, default=SEED, help=\"Seed to use, default=%d\" % SEED)\n",
    "    parser.add_argument(\"--env-len\", type=int, default=6, help=\"Amount of states in the environment, default=6\")\n",
    "    args = parser.parse_args()\n",
    "    random.seed(args.seed)\n",
    "\n",
    "    states_count: tt.Counter[int] = collections.Counter()\n",
    "    state = 1\n",
    "    episode_step = 0\n",
    "\n",
    "    for _ in range(args.steps):\n",
    "        action = get_action(state, args.env_len)\n",
    "        state = do_action(state, action)\n",
    "        states_count[state] += 1\n",
    "        episode_step += 1\n",
    "        if episode_step == args.episode_length:\n",
    "            state = 1\n",
    "            episode_step = 0\n",
    "\n",
    "    for state in range(1, args.env_len+1):\n",
    "        print(\"%d:\\t%d\" % (state, states_count[state]))"
   ]
  }
 ],
 "metadata": {
  "jupytext": {
   "cell_metadata_filter": "-all",
   "executable": "/usr/bin/env python3",
   "main_language": "python",
   "notebook_metadata_filter": "-all"
  }
 },
 "nbformat": 4,
 "nbformat_minor": 5
}
