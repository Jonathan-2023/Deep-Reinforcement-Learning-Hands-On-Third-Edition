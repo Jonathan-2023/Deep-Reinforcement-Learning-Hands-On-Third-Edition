{
 "cells": [
  {
   "cell_type": "code",
   "execution_count": null,
   "id": "7ade8283",
   "metadata": {},
   "outputs": [],
   "source": [
    "import numpy as np\n",
    "import matplotlib.pyplot as plt"
   ]
  },
  {
   "cell_type": "code",
   "execution_count": null,
   "id": "f5ea7a4a",
   "metadata": {
    "lines_to_next_cell": 2
   },
   "outputs": [],
   "source": [
    "MEAN = 10\n",
    "SAMPLES = 1000000\n",
    "X_MAX = MEAN * 2\n",
    "BINS = 100\n",
    "STEP = X_MAX / BINS"
   ]
  },
  {
   "cell_type": "code",
   "execution_count": null,
   "id": "68b351a6",
   "metadata": {},
   "outputs": [],
   "source": [
    "if __name__ == \"__main__\":\n",
    "    c1, c2, c5 = [0] * BINS, [0] * BINS, [0] * BINS\n",
    "    for _ in range(SAMPLES):\n",
    "        v1 = np.random.normal(loc=MEAN, scale=1.0)\n",
    "        v2 = np.random.normal(loc=MEAN, scale=2.0)\n",
    "        v5 = np.random.normal(loc=MEAN, scale=5.0)\n",
    "        if 0 <= v1 <= X_MAX:\n",
    "            b = int(BINS * v1 / X_MAX)\n",
    "            c1[b] += 1\n",
    "        if 0 <= v2 <= X_MAX:\n",
    "            b = int(BINS * v2 / X_MAX)\n",
    "            c2[b] += 1\n",
    "        if 0 <= v5 <= X_MAX:\n",
    "            b = int(BINS * v5 / X_MAX)\n",
    "            c5[b] += 1\n",
    "    x = [STEP * i for i in range(BINS)]\n",
    "    y1 = [c / SAMPLES for c in c1]\n",
    "    y2 = [c / SAMPLES for c in c2]\n",
    "    y5 = [c / SAMPLES for c in c5]\n",
    "    print(x)\n",
    "    print(y1)\n",
    "\n",
    "    fig = plt.figure()\n",
    "    ax1 = fig.add_subplot(111)\n",
    "    ax1.plot(x, y1, color='black', linewidth=1.2, linestyle='-')\n",
    "    ax1.plot(x, y2, color='black', linewidth=1.2, linestyle=':')\n",
    "    ax1.plot(x, y5, color='black', linewidth=1.2, linestyle='--')\n",
    "    ax1.legend([\"Variance = 1.0\", \"Variance = 2.0\", \"Variance = 5.0\"],\n",
    "               loc='upper right', fancybox=True)\n",
    "    ax1.set_xlim(0, X_MAX)\n",
    "    ax1.grid(True, axis='both')\n",
    "    ax1.set_title(\"Gaussian Distribution with mean = 10.0\")\n",
    "    plt.savefig(\"norm_dist.svg\")\n",
    "    pass"
   ]
  }
 ],
 "metadata": {
  "jupytext": {
   "cell_metadata_filter": "-all",
   "executable": "/usr/bin/env python3",
   "main_language": "python",
   "notebook_metadata_filter": "-all"
  }
 },
 "nbformat": 4,
 "nbformat_minor": 5
}
