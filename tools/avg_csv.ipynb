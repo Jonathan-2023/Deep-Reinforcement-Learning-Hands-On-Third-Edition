{
 "cells": [
  {
   "cell_type": "code",
   "execution_count": null,
   "id": "277c4ed6",
   "metadata": {},
   "outputs": [],
   "source": [
    "import csv\n",
    "import pathlib\n",
    "import argparse\n",
    "import itertools\n",
    "import typing as tt\n",
    "from dataclasses import dataclass"
   ]
  },
  {
   "cell_type": "code",
   "execution_count": null,
   "id": "b7fed759",
   "metadata": {},
   "outputs": [],
   "source": [
    "@dataclass\n",
    "class Series:\n",
    "    start_wall: float\n",
    "    time_deltas: tt.List[float]\n",
    "    steps: tt.List[int]\n",
    "    values: tt.List[float]\n",
    "\n",
    "    @classmethod\n",
    "    def read(cls, path: pathlib.Path) -> \"Series\":\n",
    "        start_wall = None\n",
    "        deltas = []\n",
    "        steps = []\n",
    "        values = []\n",
    "        with path.open('rt', encoding='utf-8') as fd:\n",
    "            reader = csv.DictReader(fd)\n",
    "            for r in reader:\n",
    "                assert isinstance(r, dict)\n",
    "                t = float(r[\"Wall time\"])\n",
    "                if start_wall is None:\n",
    "                    start_wall = t\n",
    "                deltas.append(t - start_wall)\n",
    "                steps.append(int(r[\"Step\"]))\n",
    "                values.append(float(r[\"Value\"]))\n",
    "        return Series(start_wall=start_wall, time_deltas=deltas, steps=steps, values=values)\n",
    "\n",
    "    def write(self, path: pathlib.Path):\n",
    "        with path.open('wt', encoding='utf-8') as fd:\n",
    "            writer = csv.DictWriter(fd, ('Wall time', 'Step', 'Value'))\n",
    "            writer.writeheader()\n",
    "            for dt, s, v in zip(self.time_deltas, self.steps, self.values):\n",
    "                writer.writerow({\n",
    "                    'Wall time': self.start_wall + dt,\n",
    "                    'Step': s,\n",
    "                    'Value': v,\n",
    "                })\n",
    "\n",
    "    def __iter__(self) -> tt.Generator[tt.Tuple[float, int, float], None, None]:\n",
    "        yield from zip(self.time_deltas, self.steps, self.values)"
   ]
  },
  {
   "cell_type": "code",
   "execution_count": null,
   "id": "90dd7c07",
   "metadata": {},
   "outputs": [],
   "source": [
    "def mean_max_step(series: tt.List[Series]) -> float:\n",
    "    return sum(map(lambda s: s.steps[-1], series)) / len(series)"
   ]
  },
  {
   "cell_type": "code",
   "execution_count": null,
   "id": "0cae2bd0",
   "metadata": {},
   "outputs": [],
   "source": [
    "def avg_entries(entries: tt.Tuple[tt.Optional[tt.Tuple[float, int, float]], ...],\n",
    "                do_sum: bool = False) -> tt.Tuple[float, int, float]:\n",
    "    deltas = []\n",
    "    steps = []\n",
    "    values = []\n",
    "    for entry in entries:\n",
    "        if entry is None:\n",
    "            continue\n",
    "        d, s, v = entry\n",
    "        deltas.append(d)\n",
    "        steps.append(s)\n",
    "        values.append(v)\n",
    "    if do_sum:\n",
    "        return sum(deltas), int(sum(steps)), sum(values)\n",
    "    else:\n",
    "        return sum(deltas) / len(deltas), int(sum(steps) / len(steps)), sum(values) / len(values)"
   ]
  },
  {
   "cell_type": "code",
   "execution_count": null,
   "id": "16a8acb6",
   "metadata": {},
   "outputs": [],
   "source": [
    "def average_series(series: tt.List[Series], do_sum: bool = False) -> Series:\n",
    "    mean_steps = mean_max_step(series)\n",
    "    start_wall = series[0].start_wall\n",
    "    deltas = []\n",
    "    steps = []\n",
    "    values = []\n",
    "\n",
    "    for vals in itertools.zip_longest(*series):\n",
    "        dt, s, v = avg_entries(vals, do_sum=do_sum)\n",
    "        if s <= mean_steps:\n",
    "            deltas.append(dt)\n",
    "            steps.append(s)\n",
    "            values.append(v)\n",
    "    return Series(start_wall=start_wall, time_deltas=deltas, steps=steps, values=values)"
   ]
  },
  {
   "cell_type": "code",
   "execution_count": null,
   "id": "93b79e25",
   "metadata": {},
   "outputs": [],
   "source": [
    "if __name__ == \"__main__\":\n",
    "    parser = argparse.ArgumentParser()\n",
    "    parser.add_argument(\"-o\", \"--output\", required=True, help=\"Output csv file to produce\")\n",
    "    parser.add_argument(\"--sum\", default=False, action=\"store_true\", help=\"Perform summation instead of average\")\n",
    "    parser.add_argument(\"files\", nargs='+', help=\"Input csv files\")\n",
    "    args = parser.parse_args()\n",
    "\n",
    "    series = [Series.read(pathlib.Path(n)) for n in args.files]\n",
    "    res = average_series(series, do_sum=args.sum)\n",
    "    res.write(pathlib.Path(args.output))"
   ]
  }
 ],
 "metadata": {
  "jupytext": {
   "cell_metadata_filter": "-all",
   "executable": "/usr/bin/env python3",
   "main_language": "python",
   "notebook_metadata_filter": "-all"
  }
 },
 "nbformat": 4,
 "nbformat_minor": 5
}
