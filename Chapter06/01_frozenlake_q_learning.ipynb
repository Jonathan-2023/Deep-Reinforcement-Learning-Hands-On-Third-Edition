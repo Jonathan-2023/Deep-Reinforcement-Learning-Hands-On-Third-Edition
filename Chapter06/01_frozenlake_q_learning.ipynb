{
 "cells": [
  {
   "cell_type": "code",
   "execution_count": null,
   "id": "4f66ff6a",
   "metadata": {},
   "outputs": [],
   "source": [
    "import typing as tt\n",
    "import gymnasium as gym\n",
    "from collections import defaultdict\n",
    "from torch.utils.tensorboard.writer import SummaryWriter"
   ]
  },
  {
   "cell_type": "code",
   "execution_count": null,
   "id": "bd3d22c5",
   "metadata": {},
   "outputs": [],
   "source": [
    "ENV_NAME = \"FrozenLake-v1\"\n",
    "#ENV_NAME = \"FrozenLake8x8-v1\"      # uncomment for larger version\n",
    "GAMMA = 0.9\n",
    "ALPHA = 0.2\n",
    "TEST_EPISODES = 20"
   ]
  },
  {
   "cell_type": "code",
   "execution_count": null,
   "id": "8849f097",
   "metadata": {
    "lines_to_next_cell": 1
   },
   "outputs": [],
   "source": [
    "State = int\n",
    "Action = int\n",
    "ValuesKey = tt.Tuple[State, Action]"
   ]
  },
  {
   "cell_type": "code",
   "execution_count": null,
   "id": "a64e44c0",
   "metadata": {},
   "outputs": [],
   "source": [
    "class Agent:\n",
    "    def __init__(self):\n",
    "        self.env = gym.make(ENV_NAME)\n",
    "        self.state, _ = self.env.reset()\n",
    "        self.values: tt.Dict[ValuesKey] = defaultdict(float)\n",
    "\n",
    "    def sample_env(self) -> tt.Tuple[State, Action, float, State]:\n",
    "        action = self.env.action_space.sample()\n",
    "        old_state = self.state\n",
    "        new_state, reward, is_done, is_tr, _ = self.env.step(action)\n",
    "        if is_done or is_tr:\n",
    "            self.state, _ = self.env.reset()\n",
    "        else:\n",
    "            self.state = new_state\n",
    "        return old_state, action, float(reward), new_state\n",
    "\n",
    "    def best_value_and_action(self, state: State) -> tt.Tuple[float, Action]:\n",
    "        best_value, best_action = None, None\n",
    "        for action in range(self.env.action_space.n):\n",
    "            action_value = self.values[(state, action)]\n",
    "            if best_value is None or best_value < action_value:\n",
    "                best_value = action_value\n",
    "                best_action = action\n",
    "        return best_value, best_action\n",
    "\n",
    "    def value_update(self, state: State, action: Action, reward: float, next_state: State):\n",
    "        best_val, _ = self.best_value_and_action(next_state)\n",
    "        new_val = reward + GAMMA * best_val\n",
    "        old_val = self.values[(state, action)]\n",
    "        key = (state, action)\n",
    "        self.values[key] = old_val * (1-ALPHA) + new_val * ALPHA\n",
    "\n",
    "    def play_episode(self, env: gym.Env) -> float:\n",
    "        total_reward = 0.0\n",
    "        state, _ = env.reset()\n",
    "        while True:\n",
    "            _, action = self.best_value_and_action(state)\n",
    "            new_state, reward, is_done, is_tr, _ = env.step(action)\n",
    "            total_reward += reward\n",
    "            if is_done or is_tr:\n",
    "                break\n",
    "            state = new_state\n",
    "        return total_reward"
   ]
  },
  {
   "cell_type": "code",
   "execution_count": null,
   "id": "1a1b0876",
   "metadata": {},
   "outputs": [],
   "source": [
    "if __name__ == \"__main__\":\n",
    "    test_env = gym.make(ENV_NAME)\n",
    "    agent = Agent()\n",
    "    writer = SummaryWriter(comment=\"-q-learning\")\n",
    "\n",
    "    iter_no = 0\n",
    "    best_reward = 0.0\n",
    "    while True:\n",
    "        iter_no += 1\n",
    "        state, action, reward, next_state = agent.sample_env()\n",
    "        agent.value_update(state, action, reward, next_state)\n",
    "\n",
    "        test_reward = 0.0\n",
    "        for _ in range(TEST_EPISODES):\n",
    "            test_reward += agent.play_episode(test_env)\n",
    "        test_reward /= TEST_EPISODES\n",
    "        writer.add_scalar(\"reward\", test_reward, iter_no)\n",
    "        if test_reward > best_reward:\n",
    "            print(\"%d: Best test reward updated %.3f -> %.3f\" % (iter_no, best_reward, test_reward))\n",
    "            best_reward = test_reward\n",
    "        if test_reward > 0.80:\n",
    "            print(\"Solved in %d iterations!\" % iter_no)\n",
    "            break\n",
    "    writer.close()"
   ]
  }
 ],
 "metadata": {
  "jupytext": {
   "cell_metadata_filter": "-all",
   "executable": "/usr/bin/env python3",
   "main_language": "python",
   "notebook_metadata_filter": "-all"
  }
 },
 "nbformat": 4,
 "nbformat_minor": 5
}
