{
 "cells": [
  {
   "cell_type": "code",
   "execution_count": null,
   "id": "37abe644",
   "metadata": {},
   "outputs": [],
   "source": [
    "import typing as tt\n",
    "import gymnasium as gym\n",
    "from gymnasium import spaces\n",
    "import collections\n",
    "import numpy as np\n",
    "from stable_baselines3.common import atari_wrappers"
   ]
  },
  {
   "cell_type": "code",
   "execution_count": null,
   "id": "9dbcfd85",
   "metadata": {},
   "outputs": [],
   "source": [
    "class ImageToPyTorch(gym.ObservationWrapper):\n",
    "    def __init__(self, env):\n",
    "        super(ImageToPyTorch, self).__init__(env)\n",
    "        obs = self.observation_space\n",
    "        assert isinstance(obs, gym.spaces.Box)\n",
    "        assert len(obs.shape) == 3\n",
    "        new_shape = (obs.shape[-1], obs.shape[0], obs.shape[1])\n",
    "        self.observation_space = gym.spaces.Box(\n",
    "            low=obs.low.min(), high=obs.high.max(),\n",
    "            shape=new_shape, dtype=obs.dtype)\n",
    "\n",
    "    def observation(self, observation):\n",
    "        return np.moveaxis(observation, 2, 0)"
   ]
  },
  {
   "cell_type": "code",
   "execution_count": null,
   "id": "f0f88d89",
   "metadata": {},
   "outputs": [],
   "source": [
    "class BufferWrapper(gym.ObservationWrapper):\n",
    "    def __init__(self, env, n_steps):\n",
    "        super(BufferWrapper, self).__init__(env)\n",
    "        obs = env.observation_space\n",
    "        assert isinstance(obs, spaces.Box)\n",
    "        new_obs = gym.spaces.Box(\n",
    "            obs.low.repeat(n_steps, axis=0), obs.high.repeat(n_steps, axis=0),\n",
    "            dtype=obs.dtype)\n",
    "        self.observation_space = new_obs\n",
    "        self.buffer = collections.deque(maxlen=n_steps)\n",
    "\n",
    "    def reset(self, *, seed: tt.Optional[int] = None, options: tt.Optional[dict[str, tt.Any]] = None):\n",
    "        for _ in range(self.buffer.maxlen-1):\n",
    "            self.buffer.append(self.env.observation_space.low)\n",
    "        obs, extra = self.env.reset()\n",
    "        return self.observation(obs), extra\n",
    "\n",
    "    def observation(self, observation: np.ndarray) -> np.ndarray:\n",
    "        self.buffer.append(observation)\n",
    "        return np.concatenate(self.buffer)"
   ]
  },
  {
   "cell_type": "code",
   "execution_count": null,
   "id": "8fcf6083",
   "metadata": {},
   "outputs": [],
   "source": [
    "def make_env(env_name: str, **kwargs):\n",
    "    env = gym.make(env_name, **kwargs)\n",
    "    env = atari_wrappers.AtariWrapper(env, clip_reward=False, noop_max=0)\n",
    "    env = ImageToPyTorch(env)\n",
    "    env = BufferWrapper(env, n_steps=4)\n",
    "    return env"
   ]
  }
 ],
 "metadata": {
  "jupytext": {
   "cell_metadata_filter": "-all",
   "main_language": "python",
   "notebook_metadata_filter": "-all"
  }
 },
 "nbformat": 4,
 "nbformat_minor": 5
}
