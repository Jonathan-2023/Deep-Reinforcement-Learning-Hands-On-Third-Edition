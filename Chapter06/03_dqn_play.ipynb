{
 "cells": [
  {
   "cell_type": "code",
   "execution_count": null,
   "id": "d46feb65",
   "metadata": {},
   "outputs": [],
   "source": [
    "import gymnasium as gym\n",
    "import argparse\n",
    "import numpy as np\n",
    "import typing as tt"
   ]
  },
  {
   "cell_type": "code",
   "execution_count": null,
   "id": "4eb607c7",
   "metadata": {},
   "outputs": [],
   "source": [
    "import torch"
   ]
  },
  {
   "cell_type": "code",
   "execution_count": null,
   "id": "78469898",
   "metadata": {},
   "outputs": [],
   "source": [
    "from lib import wrappers\n",
    "from lib import dqn_model"
   ]
  },
  {
   "cell_type": "code",
   "execution_count": null,
   "id": "1d30251b",
   "metadata": {},
   "outputs": [],
   "source": [
    "import collections"
   ]
  },
  {
   "cell_type": "code",
   "execution_count": null,
   "id": "7ee35c2d",
   "metadata": {
    "lines_to_next_cell": 2
   },
   "outputs": [],
   "source": [
    "DEFAULT_ENV_NAME = \"PongNoFrameskip-v4\""
   ]
  },
  {
   "cell_type": "code",
   "execution_count": null,
   "id": "d0c190dc",
   "metadata": {
    "lines_to_next_cell": 2
   },
   "outputs": [],
   "source": [
    "if __name__ == \"__main__\":\n",
    "    parser = argparse.ArgumentParser()\n",
    "    parser.add_argument(\"-m\", \"--model\", required=True, help=\"Model file to load\")\n",
    "    parser.add_argument(\"-e\", \"--env\", default=DEFAULT_ENV_NAME,\n",
    "                        help=\"Environment name to use, default=\" + DEFAULT_ENV_NAME)\n",
    "    parser.add_argument(\"-r\", \"--record\", required=True, help=\"Directory for video\")\n",
    "    args = parser.parse_args()\n",
    "\n",
    "    env = wrappers.make_env(args.env, render_mode=\"rgb_array\")\n",
    "    env = gym.wrappers.RecordVideo(env, video_folder=args.record)\n",
    "    net = dqn_model.DQN(env.observation_space.shape, env.action_space.n)\n",
    "    state = torch.load(args.model, map_location=lambda stg, _: stg, weights_only=True)\n",
    "    net.load_state_dict(state)\n",
    "\n",
    "    state, _ = env.reset()\n",
    "    total_reward = 0.0\n",
    "    c: tt.Dict[int, int] = collections.Counter()\n",
    "\n",
    "    while True:\n",
    "        state_v = torch.tensor(np.expand_dims(state, 0))\n",
    "        q_vals = net(state_v).data.numpy()[0]\n",
    "        action = int(np.argmax(q_vals))\n",
    "        c[action] += 1\n",
    "        state, reward, is_done, is_trunc, _ = env.step(action)\n",
    "        total_reward += reward\n",
    "        if is_done or is_trunc:\n",
    "            break\n",
    "    print(\"Total reward: %.2f\" % total_reward)\n",
    "    print(\"Action counts:\", c)\n",
    "    env.close()"
   ]
  }
 ],
 "metadata": {
  "jupytext": {
   "cell_metadata_filter": "-all",
   "executable": "/usr/bin/env python3",
   "main_language": "python",
   "notebook_metadata_filter": "-all"
  }
 },
 "nbformat": 4,
 "nbformat_minor": 5
}
